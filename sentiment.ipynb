{
 "cells": [
  {
   "cell_type": "code",
   "execution_count": 1,
   "id": "45a82f63-f253-4480-a14f-1894c669e52f",
   "metadata": {},
   "outputs": [],
   "source": [
    "import pandas as pd\n",
    "from sklearn.model_selection import train_test_split\n",
    "import random\n",
    "import numpy as np\n",
    "pd.set_option('display.max_colwidth', None)"
   ]
  },
  {
   "cell_type": "code",
   "execution_count": 16,
   "id": "daade38d-4f86-4cca-a24b-a691e47f7020",
   "metadata": {},
   "outputs": [
    {
     "data": {
      "text/html": [
       "<div>\n",
       "<style scoped>\n",
       "    .dataframe tbody tr th:only-of-type {\n",
       "        vertical-align: middle;\n",
       "    }\n",
       "\n",
       "    .dataframe tbody tr th {\n",
       "        vertical-align: top;\n",
       "    }\n",
       "\n",
       "    .dataframe thead th {\n",
       "        text-align: right;\n",
       "    }\n",
       "</style>\n",
       "<table border=\"1\" class=\"dataframe\">\n",
       "  <thead>\n",
       "    <tr style=\"text-align: right;\">\n",
       "      <th></th>\n",
       "      <th>sentimen</th>\n",
       "      <th>tweet</th>\n",
       "    </tr>\n",
       "  </thead>\n",
       "  <tbody>\n",
       "    <tr>\n",
       "      <th>0</th>\n",
       "      <td>negatif</td>\n",
       "      <td>Kata @prabowo Indonesia tidak dihargai bangsa asing!   Berita ini ðŸ‘‡ pasti hoax buatan penguasa, ya kan @rockygerung?ðŸ˜œ https://twitter.com/mediaindonesia/status/1117575436337160192?s=21Â â€¦</td>\n",
       "    </tr>\n",
       "    <tr>\n",
       "      <th>1</th>\n",
       "      <td>netral</td>\n",
       "      <td>Batuan Langka, Tasbih Jokowi Hadiah dari Habib Luthfi Seharga Mercy?  http://dlvr.it/R2pvZVÂ</td>\n",
       "    </tr>\n",
       "    <tr>\n",
       "      <th>2</th>\n",
       "      <td>netral</td>\n",
       "      <td>Di era Jokowi, ekonomi Indonesia semakin baik. #01IndonesiaMaju #JokowiLagi #JokowiMenangTotalDebat pic.twitter.com/W2ythnxsTp</td>\n",
       "    </tr>\n",
       "    <tr>\n",
       "      <th>3</th>\n",
       "      <td>positif</td>\n",
       "      <td>Bagi Sumatera Selatan, Asian Games berdampak pd ekonomi langsung diprediksi mencapai 18,5 triliun. Indonesia maju, Jokowi hebat!</td>\n",
       "    </tr>\n",
       "    <tr>\n",
       "      <th>4</th>\n",
       "      <td>negatif</td>\n",
       "      <td>Negara kita ngutang buat bngun infrastruktur yang udah dipake masyarakat, terus masyarakatnya ngeluh karena negara ngutang, setiap negara itu pasti ngutang,  utang bisa dibayar kalo negara dapet penghasilan. Penghasilan negara itu ya dari pajak</td>\n",
       "    </tr>\n",
       "    <tr>\n",
       "      <th>...</th>\n",
       "      <td>...</td>\n",
       "      <td>...</td>\n",
       "    </tr>\n",
       "    <tr>\n",
       "      <th>1810</th>\n",
       "      <td>netral</td>\n",
       "      <td>Negarawan sejati sll bangga dan mengedepankan harga diri bangsanya yg berdaulat  #2019GantiPresiden</td>\n",
       "    </tr>\n",
       "    <tr>\n",
       "      <th>1811</th>\n",
       "      <td>netral</td>\n",
       "      <td>1. HRS ceramah di Damai Indonesiaku 2. Perekonomian makin membaik.  #PutihkanGBK</td>\n",
       "    </tr>\n",
       "    <tr>\n",
       "      <th>1812</th>\n",
       "      <td>netral</td>\n",
       "      <td>Mari bangun bangsa dgn mendukung perekonomian negara bersama Pak Jokowi. Ayo kerja!  https://twitter.com/KaskusLoker/status/1111643312241295363Â â€¦</td>\n",
       "    </tr>\n",
       "    <tr>\n",
       "      <th>1813</th>\n",
       "      <td>netral</td>\n",
       "      <td>Bantu majukan perekonomian bangsa bersama Pak Jokowi, yuk!  https://twitter.com/BKNSquare/status/1113655944955588610Â â€¦</td>\n",
       "    </tr>\n",
       "    <tr>\n",
       "      <th>1814</th>\n",
       "      <td>netral</td>\n",
       "      <td>Pak @jokowi mengubah cara pandang ekonomi. Kini semua orang terhubung, sehingga Indonesia menjadi lebih produktif dan efisien. #MenyatuPutihJokowi</td>\n",
       "    </tr>\n",
       "  </tbody>\n",
       "</table>\n",
       "<p>1815 rows × 2 columns</p>\n",
       "</div>"
      ],
      "text/plain": [
       "     sentimen  \\\n",
       "0     negatif   \n",
       "1      netral   \n",
       "2      netral   \n",
       "3     positif   \n",
       "4     negatif   \n",
       "...       ...   \n",
       "1810   netral   \n",
       "1811   netral   \n",
       "1812   netral   \n",
       "1813   netral   \n",
       "1814   netral   \n",
       "\n",
       "                                                                                                                                                                                                                                                     tweet  \n",
       "0                                                      Kata @prabowo Indonesia tidak dihargai bangsa asing!   Berita ini ðŸ‘‡ pasti hoax buatan penguasa, ya kan @rockygerung?ðŸ˜œ https://twitter.com/mediaindonesia/status/1117575436337160192?s=21Â â€¦  \n",
       "1                                                                                                                                                            Batuan Langka, Tasbih Jokowi Hadiah dari Habib Luthfi Seharga Mercy?  http://dlvr.it/R2pvZVÂ   \n",
       "2                                                                                                                           Di era Jokowi, ekonomi Indonesia semakin baik. #01IndonesiaMaju #JokowiLagi #JokowiMenangTotalDebat pic.twitter.com/W2ythnxsTp  \n",
       "3                                                                                                                         Bagi Sumatera Selatan, Asian Games berdampak pd ekonomi langsung diprediksi mencapai 18,5 triliun. Indonesia maju, Jokowi hebat!  \n",
       "4     Negara kita ngutang buat bngun infrastruktur yang udah dipake masyarakat, terus masyarakatnya ngeluh karena negara ngutang, setiap negara itu pasti ngutang,  utang bisa dibayar kalo negara dapet penghasilan. Penghasilan negara itu ya dari pajak  \n",
       "...                                                                                                                                                                                                                                                    ...  \n",
       "1810                                                                                                                                                   Negarawan sejati sll bangga dan mengedepankan harga diri bangsanya yg berdaulat  #2019GantiPresiden  \n",
       "1811                                                                                                                                                                      1. HRS ceramah di Damai Indonesiaku 2. Perekonomian makin membaik.  #PutihkanGBK  \n",
       "1812                                                                                                  Mari bangun bangsa dgn mendukung perekonomian negara bersama Pak Jokowi. Ayo kerja!  https://twitter.com/KaskusLoker/status/1111643312241295363Â â€¦  \n",
       "1813                                                                                                                             Bantu majukan perekonomian bangsa bersama Pak Jokowi, yuk!  https://twitter.com/BKNSquare/status/1113655944955588610Â â€¦  \n",
       "1814                                                                                                    Pak @jokowi mengubah cara pandang ekonomi. Kini semua orang terhubung, sehingga Indonesia menjadi lebih produktif dan efisien. #MenyatuPutihJokowi  \n",
       "\n",
       "[1815 rows x 2 columns]"
      ]
     },
     "execution_count": 16,
     "metadata": {},
     "output_type": "execute_result"
    }
   ],
   "source": [
    "df = pd.read_csv(\"tweet.csv\")\n",
    "del df[df.columns[0]]\n",
    "df"
   ]
  },
  {
   "cell_type": "code",
   "execution_count": 3,
   "id": "c70a6adf-a333-4a24-84dd-6f1759455363",
   "metadata": {},
   "outputs": [
    {
     "data": {
      "text/html": [
       "<div>\n",
       "<style scoped>\n",
       "    .dataframe tbody tr th:only-of-type {\n",
       "        vertical-align: middle;\n",
       "    }\n",
       "\n",
       "    .dataframe tbody tr th {\n",
       "        vertical-align: top;\n",
       "    }\n",
       "\n",
       "    .dataframe thead th {\n",
       "        text-align: right;\n",
       "    }\n",
       "</style>\n",
       "<table border=\"1\" class=\"dataframe\">\n",
       "  <thead>\n",
       "    <tr style=\"text-align: right;\">\n",
       "      <th></th>\n",
       "      <th>sentimen</th>\n",
       "      <th>tweet</th>\n",
       "    </tr>\n",
       "  </thead>\n",
       "  <tbody>\n",
       "    <tr>\n",
       "      <th>0</th>\n",
       "      <td>negatif</td>\n",
       "      <td>Kata @prabowo Indonesia tidak dihargai bangsa asing!   Berita ini ðŸ‘‡ pasti hoax buatan penguasa, ya kan @rockygerung?ðŸ˜œ https://twitter.com/mediaindonesia/status/1117575436337160192?s=21Â â€¦</td>\n",
       "    </tr>\n",
       "    <tr>\n",
       "      <th>1</th>\n",
       "      <td>negatif</td>\n",
       "      <td>Kata @prabowo Indonesia tidak dihargai bangsa asing!   Berita ini ðŸ‘‡ pasti hoax buatan penguasa, ya kan @rockygerung?ðŸ˜œ https://twitter.com/mediaindonesia/status/1117575436337160192?s=21Â â€¦</td>\n",
       "    </tr>\n",
       "    <tr>\n",
       "      <th>2</th>\n",
       "      <td>netral</td>\n",
       "      <td>Batuan Langka, Tasbih Jokowi Hadiah dari Habib Luthfi Seharga Mercy?  http://dlvr.it/R2pvZVÂ</td>\n",
       "    </tr>\n",
       "    <tr>\n",
       "      <th>3</th>\n",
       "      <td>netral</td>\n",
       "      <td>Batuan Langka, Tasbih Jokowi Hadiah dari Habib Luthfi Seharga Mercy?  http://dlvr.it/R2pvZVÂ</td>\n",
       "    </tr>\n",
       "    <tr>\n",
       "      <th>4</th>\n",
       "      <td>netral</td>\n",
       "      <td>Di era Jokowi, ekonomi Indonesia semakin baik. #01IndonesiaMaju #JokowiLagi #JokowiMenangTotalDebat pic.twitter.com/W2ythnxsTp</td>\n",
       "    </tr>\n",
       "    <tr>\n",
       "      <th>...</th>\n",
       "      <td>...</td>\n",
       "      <td>...</td>\n",
       "    </tr>\n",
       "    <tr>\n",
       "      <th>3625</th>\n",
       "      <td>netral</td>\n",
       "      <td>Mari bangun bangsa dgn mendukung perekonomian negara bersama Pak Jokowi. Ayo kerja!  https://twitter.com/KaskusLoker/status/1111643312241295363Â â€¦</td>\n",
       "    </tr>\n",
       "    <tr>\n",
       "      <th>3626</th>\n",
       "      <td>netral</td>\n",
       "      <td>Bantu majukan perekonomian bangsa bersama Pak Jokowi, yuk!  https://twitter.com/BKNSquare/status/1113655944955588610Â â€¦</td>\n",
       "    </tr>\n",
       "    <tr>\n",
       "      <th>3627</th>\n",
       "      <td>netral</td>\n",
       "      <td>Bantu majukan perekonomian bangsa bersama Pak Jokowi, yuk!  https://twitter.com/BKNSquare/status/1113655944955588610Â â€¦</td>\n",
       "    </tr>\n",
       "    <tr>\n",
       "      <th>3628</th>\n",
       "      <td>netral</td>\n",
       "      <td>Pak @jokowi mengubah cara pandang ekonomi. Kini semua orang terhubung, sehingga Indonesia menjadi lebih produktif dan efisien. #MenyatuPutihJokowi</td>\n",
       "    </tr>\n",
       "    <tr>\n",
       "      <th>3629</th>\n",
       "      <td>netral</td>\n",
       "      <td>Pak @jokowi mengubah cara pandang ekonomi. Kini semua orang terhubung, sehingga Indonesia menjadi lebih produktif dan efisien. #MenyatuPutihJokowi</td>\n",
       "    </tr>\n",
       "  </tbody>\n",
       "</table>\n",
       "<p>3630 rows × 2 columns</p>\n",
       "</div>"
      ],
      "text/plain": [
       "     sentimen  \\\n",
       "0     negatif   \n",
       "1     negatif   \n",
       "2      netral   \n",
       "3      netral   \n",
       "4      netral   \n",
       "...       ...   \n",
       "3625   netral   \n",
       "3626   netral   \n",
       "3627   netral   \n",
       "3628   netral   \n",
       "3629   netral   \n",
       "\n",
       "                                                                                                                                                                                                    tweet  \n",
       "0     Kata @prabowo Indonesia tidak dihargai bangsa asing!   Berita ini ðŸ‘‡ pasti hoax buatan penguasa, ya kan @rockygerung?ðŸ˜œ https://twitter.com/mediaindonesia/status/1117575436337160192?s=21Â â€¦  \n",
       "1     Kata @prabowo Indonesia tidak dihargai bangsa asing!   Berita ini ðŸ‘‡ pasti hoax buatan penguasa, ya kan @rockygerung?ðŸ˜œ https://twitter.com/mediaindonesia/status/1117575436337160192?s=21Â â€¦  \n",
       "2                                                                                                           Batuan Langka, Tasbih Jokowi Hadiah dari Habib Luthfi Seharga Mercy?  http://dlvr.it/R2pvZVÂ   \n",
       "3                                                                                                           Batuan Langka, Tasbih Jokowi Hadiah dari Habib Luthfi Seharga Mercy?  http://dlvr.it/R2pvZVÂ   \n",
       "4                                                                          Di era Jokowi, ekonomi Indonesia semakin baik. #01IndonesiaMaju #JokowiLagi #JokowiMenangTotalDebat pic.twitter.com/W2ythnxsTp  \n",
       "...                                                                                                                                                                                                   ...  \n",
       "3625                                                 Mari bangun bangsa dgn mendukung perekonomian negara bersama Pak Jokowi. Ayo kerja!  https://twitter.com/KaskusLoker/status/1111643312241295363Â â€¦  \n",
       "3626                                                                            Bantu majukan perekonomian bangsa bersama Pak Jokowi, yuk!  https://twitter.com/BKNSquare/status/1113655944955588610Â â€¦  \n",
       "3627                                                                            Bantu majukan perekonomian bangsa bersama Pak Jokowi, yuk!  https://twitter.com/BKNSquare/status/1113655944955588610Â â€¦  \n",
       "3628                                                   Pak @jokowi mengubah cara pandang ekonomi. Kini semua orang terhubung, sehingga Indonesia menjadi lebih produktif dan efisien. #MenyatuPutihJokowi  \n",
       "3629                                                   Pak @jokowi mengubah cara pandang ekonomi. Kini semua orang terhubung, sehingga Indonesia menjadi lebih produktif dan efisien. #MenyatuPutihJokowi  \n",
       "\n",
       "[3630 rows x 2 columns]"
      ]
     },
     "execution_count": 3,
     "metadata": {},
     "output_type": "execute_result"
    }
   ],
   "source": [
    "df = pd.DataFrame(np.repeat(df.values, 2, axis=0), columns=df.columns)\n",
    "df"
   ]
  },
  {
   "cell_type": "code",
   "execution_count": 18,
   "id": "340fabdc-99e1-4d43-ba4c-0af41d4b67de",
   "metadata": {},
   "outputs": [
    {
     "data": {
      "text/plain": [
       "sentimen\n",
       "positif    612\n",
       "netral     607\n",
       "negatif    596\n",
       "Name: count, dtype: int64"
      ]
     },
     "execution_count": 18,
     "metadata": {},
     "output_type": "execute_result"
    }
   ],
   "source": [
    "df.sentimen.value_counts()"
   ]
  },
  {
   "cell_type": "code",
   "execution_count": 19,
   "id": "0f63a6ef-2d7a-4fa4-8d6b-c9ddeb7ffdbd",
   "metadata": {},
   "outputs": [
    {
     "data": {
      "text/plain": [
       "1810                                                     negarawan sejati sll bangga dan mengedepankan harga diri bangsanya yg berdaulat  #2019gantipresiden\n",
       "1811                                                                        1. hrs ceramah di damai indonesiaku 2. perekonomian makin membaik.  #putihkangbk\n",
       "1812    mari bangun bangsa dgn mendukung perekonomian negara bersama pak jokowi. ayo kerja!  https://twitter.com/kaskusloker/status/1111643312241295363â â€¦\n",
       "1813                               bantu majukan perekonomian bangsa bersama pak jokowi, yuk!  https://twitter.com/bknsquare/status/1113655944955588610â â€¦\n",
       "1814      pak @jokowi mengubah cara pandang ekonomi. kini semua orang terhubung, sehingga indonesia menjadi lebih produktif dan efisien. #menyatuputihjokowi\n",
       "Name: tweet, dtype: object"
      ]
     },
     "execution_count": 19,
     "metadata": {},
     "output_type": "execute_result"
    }
   ],
   "source": [
    "df['tweet']=df['tweet'].str.lower()\n",
    "df['tweet'].tail()"
   ]
  },
  {
   "cell_type": "code",
   "execution_count": 20,
   "id": "527818d3-3561-4d1b-8e7d-845a0d56b27a",
   "metadata": {},
   "outputs": [
    {
     "data": {
      "text/plain": [
       "1810                                               negarawan sejati sll bangga dan mengedepankan harga diri bangsanya yg berdaulat  2019gantipresiden\n",
       "1811                                                                     1 hrs ceramah di damai indonesiaku 2 perekonomian makin membaik  putihkangbk\n",
       "1812      mari bangun bangsa dgn mendukung perekonomian negara bersama pak jokowi ayo kerja  httpstwittercomkaskuslokerstatus1111643312241295363â â€¦\n",
       "1813                                 bantu majukan perekonomian bangsa bersama pak jokowi yuk  httpstwittercombknsquarestatus1113655944955588610â â€¦\n",
       "1814    pak jokowi mengubah cara pandang ekonomi kini semua orang terhubung sehingga indonesia menjadi lebih produktif dan efisien menyatuputihjokowi\n",
       "Name: tweet, dtype: object"
      ]
     },
     "execution_count": 20,
     "metadata": {},
     "output_type": "execute_result"
    }
   ],
   "source": [
    "import string\n",
    "english_punctuations = string.punctuation\n",
    "punctuations_list = english_punctuations\n",
    "def cleaning_punctuations(text):\n",
    "    translator = str.maketrans('', '', punctuations_list)\n",
    "    return text.translate(translator)\n",
    "df['tweet']= df['tweet'].apply(lambda x: cleaning_punctuations(x))\n",
    "df['tweet'].tail()"
   ]
  },
  {
   "cell_type": "code",
   "execution_count": 21,
   "id": "322a1dba-b41d-4948-8399-653d889da00e",
   "metadata": {},
   "outputs": [
    {
     "data": {
      "text/plain": [
       "1810                                                negarawan sejati sll bangga dan mengedepankan harga diri bangsanya yg berdaulat  219gantipresiden\n",
       "1811                                                                     1 hrs ceramah di damai indonesiaku 2 perekonomian makin membaik  putihkangbk\n",
       "1812            mari bangun bangsa dgn mendukung perekonomian negara bersama pak jokowi ayo kerja  httpstwittercomkaskuslokerstatu16431221295363â â€¦\n",
       "1813                                     bantu majukan perekonomian bangsa bersama pak jokowi yuk  httpstwittercombknsquarestatu1365594495558810â â€¦\n",
       "1814    pak jokowi mengubah cara pandang ekonomi kini semua orang terhubung sehingga indonesia menjadi lebih produktif dan efisien menyatuputihjokowi\n",
       "Name: tweet, dtype: object"
      ]
     },
     "execution_count": 21,
     "metadata": {},
     "output_type": "execute_result"
    }
   ],
   "source": [
    "import re\n",
    "def cleaning_repeating_char(text):\n",
    "    return re.sub(r'(.)1+', r'1', text)\n",
    "df['tweet'] = df['tweet'].apply(lambda x: cleaning_repeating_char(x))\n",
    "df['tweet'].tail()"
   ]
  },
  {
   "cell_type": "code",
   "execution_count": 22,
   "id": "d72031c2-4e9a-426a-b402-5186d3a30328",
   "metadata": {},
   "outputs": [
    {
     "data": {
      "text/plain": [
       "1810                                                negarawan sejati sll bangga dan mengedepankan harga diri bangsanya yg berdaulat  219gantipresiden\n",
       "1811                                                                     1 hrs ceramah di damai indonesiaku 2 perekonomian makin membaik  putihkangbk\n",
       "1812            mari bangun bangsa dgn mendukung perekonomian negara bersama pak jokowi ayo kerja  httpstwittercomkaskuslokerstatu16431221295363â â€¦\n",
       "1813                                     bantu majukan perekonomian bangsa bersama pak jokowi yuk  httpstwittercombknsquarestatu1365594495558810â â€¦\n",
       "1814    pak jokowi mengubah cara pandang ekonomi kini semua orang terhubung sehingga indonesia menjadi lebih produktif dan efisien menyatuputihjokowi\n",
       "Name: tweet, dtype: object"
      ]
     },
     "execution_count": 22,
     "metadata": {},
     "output_type": "execute_result"
    }
   ],
   "source": [
    "def cleaning_URLs(data):\n",
    "    return re.sub('((www.[^s]+)|(https?://[^s]+))',' ',data)\n",
    "df['tweet'] = df['tweet'].apply(lambda x: cleaning_URLs(x))\n",
    "df['tweet'].tail()"
   ]
  },
  {
   "cell_type": "code",
   "execution_count": 23,
   "id": "acb4fbfd-8bad-4758-96a8-88470545ed0e",
   "metadata": {},
   "outputs": [
    {
     "data": {
      "text/plain": [
       "1810                                                   negarawan sejati sll bangga dan mengedepankan harga diri bangsanya yg berdaulat  gantipresiden\n",
       "1811                                                                        hrs ceramah di damai indonesiaku  perekonomian makin membaik  putihkangbk\n",
       "1812                          mari bangun bangsa dgn mendukung perekonomian negara bersama pak jokowi ayo kerja  httpstwittercomkaskuslokerstatuâ â€¦\n",
       "1813                                                     bantu majukan perekonomian bangsa bersama pak jokowi yuk  httpstwittercombknsquarestatuâ â€¦\n",
       "1814    pak jokowi mengubah cara pandang ekonomi kini semua orang terhubung sehingga indonesia menjadi lebih produktif dan efisien menyatuputihjokowi\n",
       "Name: tweet, dtype: object"
      ]
     },
     "execution_count": 23,
     "metadata": {},
     "output_type": "execute_result"
    }
   ],
   "source": [
    "def cleaning_numbers(data):\n",
    "    return re.sub('[0-9]+', '', data)\n",
    "df['tweet']= df['tweet'].apply(lambda x: cleaning_numbers(x))\n",
    "df['tweet'].tail()"
   ]
  },
  {
   "cell_type": "code",
   "execution_count": 24,
   "id": "5fa637a3-7d61-489d-b63e-725a891769fa",
   "metadata": {},
   "outputs": [
    {
     "data": {
      "text/plain": [
       "sentimen\n",
       "positif    612\n",
       "netral     607\n",
       "negatif    596\n",
       "Name: count, dtype: int64"
      ]
     },
     "execution_count": 24,
     "metadata": {},
     "output_type": "execute_result"
    }
   ],
   "source": [
    "df.sentimen.value_counts()"
   ]
  },
  {
   "cell_type": "code",
   "execution_count": 25,
   "id": "e90cfc9a-0d3e-4f98-bf5e-bd2791d61a43",
   "metadata": {},
   "outputs": [],
   "source": [
    "df.sentimen = df.sentimen.map({'negatif':0, 'positif':1, 'netral':2})"
   ]
  },
  {
   "cell_type": "code",
   "execution_count": 26,
   "id": "48b4fd2b-96d6-49b5-ab42-62cc85b6d6ea",
   "metadata": {},
   "outputs": [
    {
     "data": {
      "text/html": [
       "<div>\n",
       "<style scoped>\n",
       "    .dataframe tbody tr th:only-of-type {\n",
       "        vertical-align: middle;\n",
       "    }\n",
       "\n",
       "    .dataframe tbody tr th {\n",
       "        vertical-align: top;\n",
       "    }\n",
       "\n",
       "    .dataframe thead th {\n",
       "        text-align: right;\n",
       "    }\n",
       "</style>\n",
       "<table border=\"1\" class=\"dataframe\">\n",
       "  <thead>\n",
       "    <tr style=\"text-align: right;\">\n",
       "      <th></th>\n",
       "      <th>sentimen</th>\n",
       "      <th>tweet</th>\n",
       "    </tr>\n",
       "  </thead>\n",
       "  <tbody>\n",
       "    <tr>\n",
       "      <th>0</th>\n",
       "      <td>0</td>\n",
       "      <td>kata prabowo indonesia tidak dihargai bangsa asing   berita ini ðÿ‘‡ pasti hoax buatan penguasa ya kan rockygerungðÿ˜œ httpstwittercommediaindonesiastatusâ â€¦</td>\n",
       "    </tr>\n",
       "    <tr>\n",
       "      <th>1</th>\n",
       "      <td>2</td>\n",
       "      <td>batuan langka tasbih jokowi hadiah dari habib luthfi seharga mercy  httpdlvritrpvzvâ</td>\n",
       "    </tr>\n",
       "    <tr>\n",
       "      <th>2</th>\n",
       "      <td>2</td>\n",
       "      <td>di era jokowi ekonomi indonesia semakin baik indonesiamaju jokowilagi jokowimenangtotaldebat pictwittercomwythnxstp</td>\n",
       "    </tr>\n",
       "    <tr>\n",
       "      <th>3</th>\n",
       "      <td>1</td>\n",
       "      <td>bagi sumatera selatan asian games berdampak pd ekonomi langsung diprediksi mencapai triliun indonesia maju jokowi hebat</td>\n",
       "    </tr>\n",
       "    <tr>\n",
       "      <th>4</th>\n",
       "      <td>0</td>\n",
       "      <td>negara kita ngutang buat bngun infrastruktur yang udah dipake masyarakat terus masyarakatnya ngeluh karena negara ngutang setiap negara itu pasti ngutang  utang bisa dibayar kalo negara dapet penghasilan penghasilan negara itu ya dari pajak</td>\n",
       "    </tr>\n",
       "    <tr>\n",
       "      <th>...</th>\n",
       "      <td>...</td>\n",
       "      <td>...</td>\n",
       "    </tr>\n",
       "    <tr>\n",
       "      <th>1810</th>\n",
       "      <td>2</td>\n",
       "      <td>negarawan sejati sll bangga dan mengedepankan harga diri bangsanya yg berdaulat  gantipresiden</td>\n",
       "    </tr>\n",
       "    <tr>\n",
       "      <th>1811</th>\n",
       "      <td>2</td>\n",
       "      <td>hrs ceramah di damai indonesiaku  perekonomian makin membaik  putihkangbk</td>\n",
       "    </tr>\n",
       "    <tr>\n",
       "      <th>1812</th>\n",
       "      <td>2</td>\n",
       "      <td>mari bangun bangsa dgn mendukung perekonomian negara bersama pak jokowi ayo kerja  httpstwittercomkaskuslokerstatuâ â€¦</td>\n",
       "    </tr>\n",
       "    <tr>\n",
       "      <th>1813</th>\n",
       "      <td>2</td>\n",
       "      <td>bantu majukan perekonomian bangsa bersama pak jokowi yuk  httpstwittercombknsquarestatuâ â€¦</td>\n",
       "    </tr>\n",
       "    <tr>\n",
       "      <th>1814</th>\n",
       "      <td>2</td>\n",
       "      <td>pak jokowi mengubah cara pandang ekonomi kini semua orang terhubung sehingga indonesia menjadi lebih produktif dan efisien menyatuputihjokowi</td>\n",
       "    </tr>\n",
       "  </tbody>\n",
       "</table>\n",
       "<p>1815 rows × 2 columns</p>\n",
       "</div>"
      ],
      "text/plain": [
       "      sentimen  \\\n",
       "0            0   \n",
       "1            2   \n",
       "2            2   \n",
       "3            1   \n",
       "4            0   \n",
       "...        ...   \n",
       "1810         2   \n",
       "1811         2   \n",
       "1812         2   \n",
       "1813         2   \n",
       "1814         2   \n",
       "\n",
       "                                                                                                                                                                                                                                                 tweet  \n",
       "0                                                                                      kata prabowo indonesia tidak dihargai bangsa asing   berita ini ðÿ‘‡ pasti hoax buatan penguasa ya kan rockygerungðÿ˜œ httpstwittercommediaindonesiastatusâ â€¦  \n",
       "1                                                                                                                                                                batuan langka tasbih jokowi hadiah dari habib luthfi seharga mercy  httpdlvritrpvzvâ   \n",
       "2                                                                                                                                  di era jokowi ekonomi indonesia semakin baik indonesiamaju jokowilagi jokowimenangtotaldebat pictwittercomwythnxstp  \n",
       "3                                                                                                                              bagi sumatera selatan asian games berdampak pd ekonomi langsung diprediksi mencapai triliun indonesia maju jokowi hebat  \n",
       "4     negara kita ngutang buat bngun infrastruktur yang udah dipake masyarakat terus masyarakatnya ngeluh karena negara ngutang setiap negara itu pasti ngutang  utang bisa dibayar kalo negara dapet penghasilan penghasilan negara itu ya dari pajak  \n",
       "...                                                                                                                                                                                                                                                ...  \n",
       "1810                                                                                                                                                    negarawan sejati sll bangga dan mengedepankan harga diri bangsanya yg berdaulat  gantipresiden  \n",
       "1811                                                                                                                                                                         hrs ceramah di damai indonesiaku  perekonomian makin membaik  putihkangbk  \n",
       "1812                                                                                                                           mari bangun bangsa dgn mendukung perekonomian negara bersama pak jokowi ayo kerja  httpstwittercomkaskuslokerstatuâ â€¦  \n",
       "1813                                                                                                                                                      bantu majukan perekonomian bangsa bersama pak jokowi yuk  httpstwittercombknsquarestatuâ â€¦  \n",
       "1814                                                                                                     pak jokowi mengubah cara pandang ekonomi kini semua orang terhubung sehingga indonesia menjadi lebih produktif dan efisien menyatuputihjokowi  \n",
       "\n",
       "[1815 rows x 2 columns]"
      ]
     },
     "execution_count": 26,
     "metadata": {},
     "output_type": "execute_result"
    }
   ],
   "source": [
    "df"
   ]
  },
  {
   "cell_type": "code",
   "execution_count": 27,
   "id": "db4ea39d-d918-48e7-90c1-23f56543564c",
   "metadata": {},
   "outputs": [],
   "source": [
    "df_train, df_test = train_test_split(df, test_size=0.2)"
   ]
  },
  {
   "cell_type": "code",
   "execution_count": 28,
   "id": "db958170-5f15-45e0-bb24-5d9f7d8e9671",
   "metadata": {},
   "outputs": [
    {
     "data": {
      "text/html": [
       "<div>\n",
       "<style scoped>\n",
       "    .dataframe tbody tr th:only-of-type {\n",
       "        vertical-align: middle;\n",
       "    }\n",
       "\n",
       "    .dataframe tbody tr th {\n",
       "        vertical-align: top;\n",
       "    }\n",
       "\n",
       "    .dataframe thead th {\n",
       "        text-align: right;\n",
       "    }\n",
       "</style>\n",
       "<table border=\"1\" class=\"dataframe\">\n",
       "  <thead>\n",
       "    <tr style=\"text-align: right;\">\n",
       "      <th></th>\n",
       "      <th>sentimen</th>\n",
       "      <th>tweet</th>\n",
       "    </tr>\n",
       "  </thead>\n",
       "  <tbody>\n",
       "    <tr>\n",
       "      <th>924</th>\n",
       "      <td>0</td>\n",
       "      <td>nahdlatululama heran  prabowo bilang mau mau tingkatkan penerimaan pajak  kok sandi bilang akan menghapus pajak dr pengusaha kecil  ini kok bertolak belakang kebijakan nya  coba deh dengar ulang debat nya masalah pajak itu</td>\n",
       "    </tr>\n",
       "    <tr>\n",
       "      <th>1426</th>\n",
       "      <td>0</td>\n",
       "      <td>pakta integritas wo pulangkan nb brizik jd menag kilafah bebaskan ulama kriminal prabowoketurunankafircinamonster  hpl psl  tp wounoorbakuasailahanluassimpandipanamaserakahganasionalis  gaji gadiambil tp tunjangan milyaranbln diambil munafik menangradikalorbaasengberkuasa pictwittercomzdlyaqiv</td>\n",
       "    </tr>\n",
       "    <tr>\n",
       "      <th>572</th>\n",
       "      <td>1</td>\n",
       "      <td>loh itu gusdur yah saya dukung prabowo karna fatwah gusdur kalau pak prabowo presiden yg paking ikhlas insya allah tahun ini terbikti meski beliau pernah kalah berkali beliau tetap ikhlas melanjutkn perjuangantdi mlm sya dengar dari sandiuno tdk akan terima gaji</td>\n",
       "    </tr>\n",
       "    <tr>\n",
       "      <th>1187</th>\n",
       "      <td>1</td>\n",
       "      <td>now its yourturnbro please say to them that prabowo  sandi tidak akan ambil gaji sebagai seorang presiden dan wapres dan gajinya akan disumbangkan ke kaum dhuafakerennn kan bukti bahwa beliau akan wakafkan harta dan jiwanya utk nkri</td>\n",
       "    </tr>\n",
       "    <tr>\n",
       "      <th>97</th>\n",
       "      <td>0</td>\n",
       "      <td>prabowosandi sepakat ekonomi indonesia salah arah  httpdlvritrpfnâ  pictwittercomuyuisdrur</td>\n",
       "    </tr>\n",
       "    <tr>\n",
       "      <th>...</th>\n",
       "      <td>...</td>\n",
       "      <td>...</td>\n",
       "    </tr>\n",
       "    <tr>\n",
       "      <th>1425</th>\n",
       "      <td>0</td>\n",
       "      <td>jokowi nanya ekonomi digital ga penting wadooo</td>\n",
       "    </tr>\n",
       "    <tr>\n",
       "      <th>1715</th>\n",
       "      <td>2</td>\n",
       "      <td>pajak itu bisa bocor karena dari manusia untuk negara zakat itu kalo mau bikin bocor pasti mikir soalnya resiko diumumkan di masjid dan mushala beranipilih</td>\n",
       "    </tr>\n",
       "    <tr>\n",
       "      <th>531</th>\n",
       "      <td>0</td>\n",
       "      <td>overheard   ðÿ‘§ ehmm jokowi bagus sih di segi pembangunan ðÿ™ž iyaa ekonomi jg makin maju ðÿ‘§ tapi ya gue males sih milih dia soalnya pembangunannya ga gua rasain dia bikin jalan tol gua kan kemana naik motor  awas aja lu mudik lewat tol ya bu</td>\n",
       "    </tr>\n",
       "    <tr>\n",
       "      <th>941</th>\n",
       "      <td>2</td>\n",
       "      <td>prabowo sebut garuda sulit untung tkn pengaruh harga avtur  httpsbisnistempocoreaprabowosebutgarudasulituntungtknpengaruhhargaavturutmsourcedigitalmarketingutmmediumtwitterutmcampaigndlvritâ â€¦</td>\n",
       "    </tr>\n",
       "    <tr>\n",
       "      <th>353</th>\n",
       "      <td>0</td>\n",
       "      <td>kenapa ekonominya   bukannya target  kalau idola elo bicara  digit itu gimana   terbukti kan ane bilang tegas ya seperti apa</td>\n",
       "    </tr>\n",
       "  </tbody>\n",
       "</table>\n",
       "<p>1452 rows × 2 columns</p>\n",
       "</div>"
      ],
      "text/plain": [
       "      sentimen  \\\n",
       "924          0   \n",
       "1426         0   \n",
       "572          1   \n",
       "1187         1   \n",
       "97           0   \n",
       "...        ...   \n",
       "1425         0   \n",
       "1715         2   \n",
       "531          0   \n",
       "941          2   \n",
       "353          0   \n",
       "\n",
       "                                                                                                                                                                                                                                                                                                       tweet  \n",
       "924                                                                           nahdlatululama heran  prabowo bilang mau mau tingkatkan penerimaan pajak  kok sandi bilang akan menghapus pajak dr pengusaha kecil  ini kok bertolak belakang kebijakan nya  coba deh dengar ulang debat nya masalah pajak itu  \n",
       "1426  pakta integritas wo pulangkan nb brizik jd menag kilafah bebaskan ulama kriminal prabowoketurunankafircinamonster  hpl psl  tp wounoorbakuasailahanluassimpandipanamaserakahganasionalis  gaji gadiambil tp tunjangan milyaranbln diambil munafik menangradikalorbaasengberkuasa pictwittercomzdlyaqiv  \n",
       "572                                   loh itu gusdur yah saya dukung prabowo karna fatwah gusdur kalau pak prabowo presiden yg paking ikhlas insya allah tahun ini terbikti meski beliau pernah kalah berkali beliau tetap ikhlas melanjutkn perjuangantdi mlm sya dengar dari sandiuno tdk akan terima gaji  \n",
       "1187                                                                now its yourturnbro please say to them that prabowo  sandi tidak akan ambil gaji sebagai seorang presiden dan wapres dan gajinya akan disumbangkan ke kaum dhuafakerennn kan bukti bahwa beliau akan wakafkan harta dan jiwanya utk nkri  \n",
       "97                                                                                                                                                                                                                prabowosandi sepakat ekonomi indonesia salah arah  httpdlvritrpfnâ  pictwittercomuyuisdrur  \n",
       "...                                                                                                                                                                                                                                                                                                      ...  \n",
       "1425                                                                                                                                                                                                                                                         jokowi nanya ekonomi digital ga penting wadooo   \n",
       "1715                                                                                                                                             pajak itu bisa bocor karena dari manusia untuk negara zakat itu kalo mau bikin bocor pasti mikir soalnya resiko diumumkan di masjid dan mushala beranipilih  \n",
       "531                                                    overheard   ðÿ‘§ ehmm jokowi bagus sih di segi pembangunan ðÿ™ž iyaa ekonomi jg makin maju ðÿ‘§ tapi ya gue males sih milih dia soalnya pembangunannya ga gua rasain dia bikin jalan tol gua kan kemana naik motor  awas aja lu mudik lewat tol ya bu  \n",
       "941                                                                                                       prabowo sebut garuda sulit untung tkn pengaruh harga avtur  httpsbisnistempocoreaprabowosebutgarudasulituntungtknpengaruhhargaavturutmsourcedigitalmarketingutmmediumtwitterutmcampaigndlvritâ â€¦  \n",
       "353                                                                                                                                                                             kenapa ekonominya   bukannya target  kalau idola elo bicara  digit itu gimana   terbukti kan ane bilang tegas ya seperti apa  \n",
       "\n",
       "[1452 rows x 2 columns]"
      ]
     },
     "execution_count": 28,
     "metadata": {},
     "output_type": "execute_result"
    }
   ],
   "source": [
    "df_train"
   ]
  },
  {
   "cell_type": "code",
   "execution_count": 29,
   "id": "3bc0b8f0-d6eb-4657-9e5b-1014a8e7bc6e",
   "metadata": {},
   "outputs": [
    {
     "data": {
      "text/html": [
       "<div>\n",
       "<style scoped>\n",
       "    .dataframe tbody tr th:only-of-type {\n",
       "        vertical-align: middle;\n",
       "    }\n",
       "\n",
       "    .dataframe tbody tr th {\n",
       "        vertical-align: top;\n",
       "    }\n",
       "\n",
       "    .dataframe thead th {\n",
       "        text-align: right;\n",
       "    }\n",
       "</style>\n",
       "<table border=\"1\" class=\"dataframe\">\n",
       "  <thead>\n",
       "    <tr style=\"text-align: right;\">\n",
       "      <th></th>\n",
       "      <th>sentimen</th>\n",
       "      <th>tweet</th>\n",
       "    </tr>\n",
       "  </thead>\n",
       "  <tbody>\n",
       "    <tr>\n",
       "      <th>0</th>\n",
       "      <td>0</td>\n",
       "      <td>nahdlatululama heran  prabowo bilang mau mau tingkatkan penerimaan pajak  kok sandi bilang akan menghapus pajak dr pengusaha kecil  ini kok bertolak belakang kebijakan nya  coba deh dengar ulang debat nya masalah pajak itu</td>\n",
       "    </tr>\n",
       "    <tr>\n",
       "      <th>1</th>\n",
       "      <td>0</td>\n",
       "      <td>nahdlatululama heran  prabowo bilang mau mau tingkatkan penerimaan pajak  kok sandi bilang akan menghapus pajak dr pengusaha kecil  ini kok bertolak belakang kebijakan nya  coba deh dengar ulang debat nya masalah pajak itu</td>\n",
       "    </tr>\n",
       "    <tr>\n",
       "      <th>2</th>\n",
       "      <td>0</td>\n",
       "      <td>pakta integritas wo pulangkan nb brizik jd menag kilafah bebaskan ulama kriminal prabowoketurunankafircinamonster  hpl psl  tp wounoorbakuasailahanluassimpandipanamaserakahganasionalis  gaji gadiambil tp tunjangan milyaranbln diambil munafik menangradikalorbaasengberkuasa pictwittercomzdlyaqiv</td>\n",
       "    </tr>\n",
       "    <tr>\n",
       "      <th>3</th>\n",
       "      <td>0</td>\n",
       "      <td>pakta integritas wo pulangkan nb brizik jd menag kilafah bebaskan ulama kriminal prabowoketurunankafircinamonster  hpl psl  tp wounoorbakuasailahanluassimpandipanamaserakahganasionalis  gaji gadiambil tp tunjangan milyaranbln diambil munafik menangradikalorbaasengberkuasa pictwittercomzdlyaqiv</td>\n",
       "    </tr>\n",
       "    <tr>\n",
       "      <th>4</th>\n",
       "      <td>1</td>\n",
       "      <td>loh itu gusdur yah saya dukung prabowo karna fatwah gusdur kalau pak prabowo presiden yg paking ikhlas insya allah tahun ini terbikti meski beliau pernah kalah berkali beliau tetap ikhlas melanjutkn perjuangantdi mlm sya dengar dari sandiuno tdk akan terima gaji</td>\n",
       "    </tr>\n",
       "    <tr>\n",
       "      <th>...</th>\n",
       "      <td>...</td>\n",
       "      <td>...</td>\n",
       "    </tr>\n",
       "    <tr>\n",
       "      <th>2899</th>\n",
       "      <td>0</td>\n",
       "      <td>overheard   ðÿ‘§ ehmm jokowi bagus sih di segi pembangunan ðÿ™ž iyaa ekonomi jg makin maju ðÿ‘§ tapi ya gue males sih milih dia soalnya pembangunannya ga gua rasain dia bikin jalan tol gua kan kemana naik motor  awas aja lu mudik lewat tol ya bu</td>\n",
       "    </tr>\n",
       "    <tr>\n",
       "      <th>2900</th>\n",
       "      <td>2</td>\n",
       "      <td>prabowo sebut garuda sulit untung tkn pengaruh harga avtur  httpsbisnistempocoreaprabowosebutgarudasulituntungtknpengaruhhargaavturutmsourcedigitalmarketingutmmediumtwitterutmcampaigndlvritâ â€¦</td>\n",
       "    </tr>\n",
       "    <tr>\n",
       "      <th>2901</th>\n",
       "      <td>2</td>\n",
       "      <td>prabowo sebut garuda sulit untung tkn pengaruh harga avtur  httpsbisnistempocoreaprabowosebutgarudasulituntungtknpengaruhhargaavturutmsourcedigitalmarketingutmmediumtwitterutmcampaigndlvritâ â€¦</td>\n",
       "    </tr>\n",
       "    <tr>\n",
       "      <th>2902</th>\n",
       "      <td>0</td>\n",
       "      <td>kenapa ekonominya   bukannya target  kalau idola elo bicara  digit itu gimana   terbukti kan ane bilang tegas ya seperti apa</td>\n",
       "    </tr>\n",
       "    <tr>\n",
       "      <th>2903</th>\n",
       "      <td>0</td>\n",
       "      <td>kenapa ekonominya   bukannya target  kalau idola elo bicara  digit itu gimana   terbukti kan ane bilang tegas ya seperti apa</td>\n",
       "    </tr>\n",
       "  </tbody>\n",
       "</table>\n",
       "<p>2904 rows × 2 columns</p>\n",
       "</div>"
      ],
      "text/plain": [
       "     sentimen  \\\n",
       "0           0   \n",
       "1           0   \n",
       "2           0   \n",
       "3           0   \n",
       "4           1   \n",
       "...       ...   \n",
       "2899        0   \n",
       "2900        2   \n",
       "2901        2   \n",
       "2902        0   \n",
       "2903        0   \n",
       "\n",
       "                                                                                                                                                                                                                                                                                                       tweet  \n",
       "0                                                                             nahdlatululama heran  prabowo bilang mau mau tingkatkan penerimaan pajak  kok sandi bilang akan menghapus pajak dr pengusaha kecil  ini kok bertolak belakang kebijakan nya  coba deh dengar ulang debat nya masalah pajak itu  \n",
       "1                                                                             nahdlatululama heran  prabowo bilang mau mau tingkatkan penerimaan pajak  kok sandi bilang akan menghapus pajak dr pengusaha kecil  ini kok bertolak belakang kebijakan nya  coba deh dengar ulang debat nya masalah pajak itu  \n",
       "2     pakta integritas wo pulangkan nb brizik jd menag kilafah bebaskan ulama kriminal prabowoketurunankafircinamonster  hpl psl  tp wounoorbakuasailahanluassimpandipanamaserakahganasionalis  gaji gadiambil tp tunjangan milyaranbln diambil munafik menangradikalorbaasengberkuasa pictwittercomzdlyaqiv  \n",
       "3     pakta integritas wo pulangkan nb brizik jd menag kilafah bebaskan ulama kriminal prabowoketurunankafircinamonster  hpl psl  tp wounoorbakuasailahanluassimpandipanamaserakahganasionalis  gaji gadiambil tp tunjangan milyaranbln diambil munafik menangradikalorbaasengberkuasa pictwittercomzdlyaqiv  \n",
       "4                                     loh itu gusdur yah saya dukung prabowo karna fatwah gusdur kalau pak prabowo presiden yg paking ikhlas insya allah tahun ini terbikti meski beliau pernah kalah berkali beliau tetap ikhlas melanjutkn perjuangantdi mlm sya dengar dari sandiuno tdk akan terima gaji  \n",
       "...                                                                                                                                                                                                                                                                                                      ...  \n",
       "2899                                                   overheard   ðÿ‘§ ehmm jokowi bagus sih di segi pembangunan ðÿ™ž iyaa ekonomi jg makin maju ðÿ‘§ tapi ya gue males sih milih dia soalnya pembangunannya ga gua rasain dia bikin jalan tol gua kan kemana naik motor  awas aja lu mudik lewat tol ya bu  \n",
       "2900                                                                                                      prabowo sebut garuda sulit untung tkn pengaruh harga avtur  httpsbisnistempocoreaprabowosebutgarudasulituntungtknpengaruhhargaavturutmsourcedigitalmarketingutmmediumtwitterutmcampaigndlvritâ â€¦  \n",
       "2901                                                                                                      prabowo sebut garuda sulit untung tkn pengaruh harga avtur  httpsbisnistempocoreaprabowosebutgarudasulituntungtknpengaruhhargaavturutmsourcedigitalmarketingutmmediumtwitterutmcampaigndlvritâ â€¦  \n",
       "2902                                                                                                                                                                            kenapa ekonominya   bukannya target  kalau idola elo bicara  digit itu gimana   terbukti kan ane bilang tegas ya seperti apa  \n",
       "2903                                                                                                                                                                            kenapa ekonominya   bukannya target  kalau idola elo bicara  digit itu gimana   terbukti kan ane bilang tegas ya seperti apa  \n",
       "\n",
       "[2904 rows x 2 columns]"
      ]
     },
     "execution_count": 29,
     "metadata": {},
     "output_type": "execute_result"
    }
   ],
   "source": [
    "df_train = pd.DataFrame(np.repeat(df_train.values, 2, axis=0), columns=df_train.columns)\n",
    "df_train"
   ]
  },
  {
   "cell_type": "code",
   "execution_count": 30,
   "id": "397b49d0-69e7-464a-9a95-93a55fd67eaf",
   "metadata": {},
   "outputs": [
    {
     "data": {
      "text/html": [
       "<div>\n",
       "<style scoped>\n",
       "    .dataframe tbody tr th:only-of-type {\n",
       "        vertical-align: middle;\n",
       "    }\n",
       "\n",
       "    .dataframe tbody tr th {\n",
       "        vertical-align: top;\n",
       "    }\n",
       "\n",
       "    .dataframe thead th {\n",
       "        text-align: right;\n",
       "    }\n",
       "</style>\n",
       "<table border=\"1\" class=\"dataframe\">\n",
       "  <thead>\n",
       "    <tr style=\"text-align: right;\">\n",
       "      <th></th>\n",
       "      <th>sentimen</th>\n",
       "      <th>tweet</th>\n",
       "    </tr>\n",
       "  </thead>\n",
       "  <tbody>\n",
       "    <tr>\n",
       "      <th>500</th>\n",
       "      <td>2</td>\n",
       "      <td>namun sebagai anak seorang ahli ekonomi fenomena ransel besar prabowo juga sesuatu yang wajar bagi yunus prabowo sandiuno prabowosandi indonesiamenang indonesiaadilmakmur</td>\n",
       "    </tr>\n",
       "    <tr>\n",
       "      <th>428</th>\n",
       "      <td>1</td>\n",
       "      <td>dengan memilih prabowo sandi anda akan beramal selama  th karena gaji mereka akan disumbangkan untuk kaum dhuafa dan anak yatim aamiin ðÿ‘†ðÿ‘† thegreatcampaignofprabowo</td>\n",
       "    </tr>\n",
       "    <tr>\n",
       "      <th>146</th>\n",
       "      <td>2</td>\n",
       "      <td>pemerintah jokowi juga menyebut masa depan ekonomi indonesia di tangan anakanak muda kreatif  httpsbitlyuauzkrâ  pilihorangbaik pilihjelasislamnya pilihbajuputih</td>\n",
       "    </tr>\n",
       "    <tr>\n",
       "      <th>399</th>\n",
       "      <td>1</td>\n",
       "      <td>mahal ini kelassss masyaallah bila terpilih prabowosandi janji tak ambil gaji catatan httpstwittercomranupsprosandistatuâ â€¦</td>\n",
       "    </tr>\n",
       "    <tr>\n",
       "      <th>1362</th>\n",
       "      <td>0</td>\n",
       "      <td>mebeeel piyeeee paak sepiii raaa prabowo menang mebelmu mebelku kabeh pedagang mebeel rameee dagangane ekonomine apik wong do tukuu penak dodolan mebel jaman jokowii ngeluu siraah jaman sby jooss gandooss</td>\n",
       "    </tr>\n",
       "    <tr>\n",
       "      <th>...</th>\n",
       "      <td>...</td>\n",
       "      <td>...</td>\n",
       "    </tr>\n",
       "    <tr>\n",
       "      <th>1554</th>\n",
       "      <td>1</td>\n",
       "      <td>walaupun usaha saya naik turun saya tidak memikirkan ekonomi melemah bagi saya tetap jokowi my president</td>\n",
       "    </tr>\n",
       "    <tr>\n",
       "      <th>702</th>\n",
       "      <td>0</td>\n",
       "      <td>pak jokowi tolong kondisikan harga pringles original yang ga turun  saya sedih</td>\n",
       "    </tr>\n",
       "    <tr>\n",
       "      <th>424</th>\n",
       "      <td>2</td>\n",
       "      <td>di jaman sby harga pupuk murah di jaman bpk pupuk mahal dan langka bisa di jelas kn kenapa pk</td>\n",
       "    </tr>\n",
       "    <tr>\n",
       "      <th>1253</th>\n",
       "      <td>0</td>\n",
       "      <td>itulah yg tdk masuk logika cebongprabowo sandi berbicara mslh lap kerja dan harga bkn krna mrka miskinmrka kayatpi mrka peduli nasib rakyat yg cuma krja bertahan seadanyabgtu jgalah sysy peduli nasibmu sajabiar bisa hidup tdk skedar ngejar nasi bngkus yourturnbro</td>\n",
       "    </tr>\n",
       "    <tr>\n",
       "      <th>1510</th>\n",
       "      <td>2</td>\n",
       "      <td>sandiuno jokowi bangun bendungan ctk sawah tali air utk tingkatkan produk beras bkn gagahan begini caranya kerja hrs bertahap  saya akan bangun ekonomi segera dinikmati rakyat enak aja spt balik tekapak tangan memangnya punya lampu aladin</td>\n",
       "    </tr>\n",
       "  </tbody>\n",
       "</table>\n",
       "<p>363 rows × 2 columns</p>\n",
       "</div>"
      ],
      "text/plain": [
       "      sentimen  \\\n",
       "500          2   \n",
       "428          1   \n",
       "146          2   \n",
       "399          1   \n",
       "1362         0   \n",
       "...        ...   \n",
       "1554         1   \n",
       "702          0   \n",
       "424          2   \n",
       "1253         0   \n",
       "1510         2   \n",
       "\n",
       "                                                                                                                                                                                                                                                                        tweet  \n",
       "500                                                                                                namun sebagai anak seorang ahli ekonomi fenomena ransel besar prabowo juga sesuatu yang wajar bagi yunus prabowo sandiuno prabowosandi indonesiamenang indonesiaadilmakmur  \n",
       "428                                                                                                 dengan memilih prabowo sandi anda akan beramal selama  th karena gaji mereka akan disumbangkan untuk kaum dhuafa dan anak yatim aamiin ðÿ‘†ðÿ‘† thegreatcampaignofprabowo  \n",
       "146                                                                                                         pemerintah jokowi juga menyebut masa depan ekonomi indonesia di tangan anakanak muda kreatif  httpsbitlyuauzkrâ  pilihorangbaik pilihjelasislamnya pilihbajuputih  \n",
       "399                                                                                                                                             mahal ini kelassss masyaallah bila terpilih prabowosandi janji tak ambil gaji catatan httpstwittercomranupsprosandistatuâ â€¦  \n",
       "1362                                                             mebeeel piyeeee paak sepiii raaa prabowo menang mebelmu mebelku kabeh pedagang mebeel rameee dagangane ekonomine apik wong do tukuu penak dodolan mebel jaman jokowii ngeluu siraah jaman sby jooss gandooss  \n",
       "...                                                                                                                                                                                                                                                                       ...  \n",
       "1554                                                                                                                                                                 walaupun usaha saya naik turun saya tidak memikirkan ekonomi melemah bagi saya tetap jokowi my president  \n",
       "702                                                                                                                                                                                            pak jokowi tolong kondisikan harga pringles original yang ga turun  saya sedih  \n",
       "424                                                                                                                                                                             di jaman sby harga pupuk murah di jaman bpk pupuk mahal dan langka bisa di jelas kn kenapa pk  \n",
       "1253  itulah yg tdk masuk logika cebongprabowo sandi berbicara mslh lap kerja dan harga bkn krna mrka miskinmrka kayatpi mrka peduli nasib rakyat yg cuma krja bertahan seadanyabgtu jgalah sysy peduli nasibmu sajabiar bisa hidup tdk skedar ngejar nasi bngkus yourturnbro  \n",
       "1510                           sandiuno jokowi bangun bendungan ctk sawah tali air utk tingkatkan produk beras bkn gagahan begini caranya kerja hrs bertahap  saya akan bangun ekonomi segera dinikmati rakyat enak aja spt balik tekapak tangan memangnya punya lampu aladin  \n",
       "\n",
       "[363 rows x 2 columns]"
      ]
     },
     "execution_count": 30,
     "metadata": {},
     "output_type": "execute_result"
    }
   ],
   "source": [
    "df_test"
   ]
  },
  {
   "cell_type": "code",
   "execution_count": 370,
   "id": "a2e9abf1-129b-41dc-9de4-0341dfd7628e",
   "metadata": {},
   "outputs": [],
   "source": [
    "#train_tweet, test_tweet, train_sentimen, test_sentimen = train_test_split(df['tweet'].to_numpy(), df['sentimen'].to_numpy(), test_size=0.2)"
   ]
  },
  {
   "cell_type": "markdown",
   "id": "d7b0d449-be93-4158-ab0e-a586665cc936",
   "metadata": {},
   "source": [
    "## Converting text into numbers (Text Vectorization(=)"
   ]
  },
  {
   "cell_type": "code",
   "execution_count": 31,
   "id": "fe3a5326-96f5-4b08-a2d8-a0d942395612",
   "metadata": {},
   "outputs": [],
   "source": [
    "import tensorflow as tf\n",
    "from tensorflow.keras.layers import TextVectorization # after TensorFlow 2.6\n",
    "\n",
    "# Use the default TextVectorization variables\n",
    "text_vectorizer = TextVectorization(max_tokens=None, # how many words in the vocabulary (all of the different words in your text)\n",
    "                                    standardize=\"lower_and_strip_punctuation\", # how to process text\n",
    "                                    split=\"whitespace\", # how to split tokens\n",
    "                                    ngrams=None, # create groups of n-words?\n",
    "                                    output_mode=\"int\", # how to map tokens to numbers\n",
    "                                    output_sequence_length=None) # how long should the output sequence of tokens be?\n",
    "                                    # pad_to_max_tokens=True) # Not valid if using max_tokens=None"
   ]
  },
  {
   "cell_type": "code",
   "execution_count": 57,
   "id": "afed37c4-deb1-45e7-a214-5552bc5eae3b",
   "metadata": {},
   "outputs": [
    {
     "data": {
      "text/plain": [
       "pandas.core.series.Series"
      ]
     },
     "execution_count": 57,
     "metadata": {},
     "output_type": "execute_result"
    }
   ],
   "source": [
    "type(df_train['sentimen'])"
   ]
  },
  {
   "cell_type": "code",
   "execution_count": 372,
   "id": "31da1ba3-ea09-47ba-9c4c-87537c41ecc3",
   "metadata": {},
   "outputs": [
    {
     "data": {
      "text/plain": [
       "24"
      ]
     },
     "execution_count": 372,
     "metadata": {},
     "output_type": "execute_result"
    }
   ],
   "source": [
    "# Find average number of tokens (words) in training Tweets\n",
    "round(sum([len(i.split()) for i in train_tweet])/len(train_tweet))"
   ]
  },
  {
   "cell_type": "code",
   "execution_count": 33,
   "id": "0f218a1f-51a2-45da-bb63-ebc4ff160a1d",
   "metadata": {},
   "outputs": [],
   "source": [
    "max_vocab_length = 10000 # max number of words to have in our vocabulary\n",
    "max_length = 24 # max length our sequences will be (e.g. how many words from a Tweet does our model see?)\n",
    "\n",
    "text_vectorizer = TextVectorization(max_tokens=max_vocab_length,\n",
    "                                    standardize=\"lower_and_strip_punctuation\",\n",
    "                                     split=\"whitespace\",\n",
    "                                    output_mode=\"int\",\n",
    "                                    output_sequence_length=max_length)"
   ]
  },
  {
   "cell_type": "code",
   "execution_count": 374,
   "id": "3fe9f9c9-b686-40a8-b980-f185082c232d",
   "metadata": {},
   "outputs": [
    {
     "data": {
      "text/plain": [
       "<keras.src.layers.preprocessing.text_vectorization.TextVectorization at 0x1ec02d81850>"
      ]
     },
     "execution_count": 374,
     "metadata": {},
     "output_type": "execute_result"
    }
   ],
   "source": [
    "text_vectorizer"
   ]
  },
  {
   "cell_type": "code",
   "execution_count": 34,
   "id": "681483e9-cc0a-4d31-b3bd-d72a02160f59",
   "metadata": {},
   "outputs": [
    {
     "data": {
      "text/plain": [
       "0                                                                               nahdlatululama heran  prabowo bilang mau mau tingkatkan penerimaan pajak  kok sandi bilang akan menghapus pajak dr pengusaha kecil  ini kok bertolak belakang kebijakan nya  coba deh dengar ulang debat nya masalah pajak itu\n",
       "1                                                                               nahdlatululama heran  prabowo bilang mau mau tingkatkan penerimaan pajak  kok sandi bilang akan menghapus pajak dr pengusaha kecil  ini kok bertolak belakang kebijakan nya  coba deh dengar ulang debat nya masalah pajak itu\n",
       "2       pakta integritas wo pulangkan nb brizik jd menag kilafah bebaskan ulama kriminal prabowoketurunankafircinamonster  hpl psl  tp wounoorbakuasailahanluassimpandipanamaserakahganasionalis  gaji gadiambil tp tunjangan milyaranbln diambil munafik menangradikalorbaasengberkuasa pictwittercomzdlyaqiv\n",
       "3       pakta integritas wo pulangkan nb brizik jd menag kilafah bebaskan ulama kriminal prabowoketurunankafircinamonster  hpl psl  tp wounoorbakuasailahanluassimpandipanamaserakahganasionalis  gaji gadiambil tp tunjangan milyaranbln diambil munafik menangradikalorbaasengberkuasa pictwittercomzdlyaqiv\n",
       "4                                       loh itu gusdur yah saya dukung prabowo karna fatwah gusdur kalau pak prabowo presiden yg paking ikhlas insya allah tahun ini terbikti meski beliau pernah kalah berkali beliau tetap ikhlas melanjutkn perjuangantdi mlm sya dengar dari sandiuno tdk akan terima gaji\n",
       "                                                                                                                                                         ...                                                                                                                                                  \n",
       "2899                                                     overheard   ðÿ‘§ ehmm jokowi bagus sih di segi pembangunan ðÿ™ž iyaa ekonomi jg makin maju ðÿ‘§ tapi ya gue males sih milih dia soalnya pembangunannya ga gua rasain dia bikin jalan tol gua kan kemana naik motor  awas aja lu mudik lewat tol ya bu\n",
       "2900                                                                                                        prabowo sebut garuda sulit untung tkn pengaruh harga avtur  httpsbisnistempocoreaprabowosebutgarudasulituntungtknpengaruhhargaavturutmsourcedigitalmarketingutmmediumtwitterutmcampaigndlvritâ â€¦\n",
       "2901                                                                                                        prabowo sebut garuda sulit untung tkn pengaruh harga avtur  httpsbisnistempocoreaprabowosebutgarudasulituntungtknpengaruhhargaavturutmsourcedigitalmarketingutmmediumtwitterutmcampaigndlvritâ â€¦\n",
       "2902                                                                                                                                                                              kenapa ekonominya   bukannya target  kalau idola elo bicara  digit itu gimana   terbukti kan ane bilang tegas ya seperti apa\n",
       "2903                                                                                                                                                                              kenapa ekonominya   bukannya target  kalau idola elo bicara  digit itu gimana   terbukti kan ane bilang tegas ya seperti apa\n",
       "Name: tweet, Length: 2904, dtype: object"
      ]
     },
     "execution_count": 34,
     "metadata": {},
     "output_type": "execute_result"
    }
   ],
   "source": [
    "df_train.tweet"
   ]
  },
  {
   "cell_type": "code",
   "execution_count": 47,
   "id": "60d12ec5-1f23-4486-a13f-b0b087732217",
   "metadata": {},
   "outputs": [],
   "source": [
    "# Fit the text vectorizer to the training text\n",
    "text_vectorizer.adapt(df_train.tweet.to_numpy())"
   ]
  },
  {
   "cell_type": "code",
   "execution_count": 48,
   "id": "6530c018-2c64-4e4a-8941-7c4b1573358e",
   "metadata": {},
   "outputs": [
    {
     "data": {
      "text/plain": [
       "'nahdlatululama heran  prabowo bilang mau mau tingkatkan penerimaan pajak  kok sandi bilang akan menghapus pajak dr pengusaha kecil  ini kok bertolak belakang kebijakan nya  coba deh dengar ulang debat nya masalah pajak itu'"
      ]
     },
     "execution_count": 48,
     "metadata": {},
     "output_type": "execute_result"
    }
   ],
   "source": [
    "#train_tweet[0]\n",
    "df_train.tweet[0]"
   ]
  },
  {
   "cell_type": "code",
   "execution_count": 49,
   "id": "a804ba40-9ba3-481d-8713-d7d2f962e589",
   "metadata": {},
   "outputs": [
    {
     "data": {
      "text/plain": [
       "<tf.Tensor: shape=(1, 24), dtype=int64, numpy=\n",
       "array([[4444, 1049,    5,   89,   25,   25,  413,  979,   62,  117,   18,\n",
       "          89,   14, 1239,   62,  123,  320,  173,   13,  117, 6774, 2605,\n",
       "         257,   57]], dtype=int64)>"
      ]
     },
     "execution_count": 49,
     "metadata": {},
     "output_type": "execute_result"
    }
   ],
   "source": [
    "sample_sentence = df_train.tweet[0]\n",
    "text_vectorizer([sample_sentence])"
   ]
  },
  {
   "cell_type": "code",
   "execution_count": 50,
   "id": "9f275373-9eb5-472f-bf34-57bdcbe083cc",
   "metadata": {},
   "outputs": [
    {
     "name": "stdout",
     "output_type": "stream",
     "text": [
      "Number of words in vocab: 7174\n",
      "Top 5 most common words: ['', '[UNK]', 'ekonomi', 'jokowi', 'dan', 'prabowo', 'yg', 'di', 'pak', 'gaji']\n",
      "Bottom 5 least common words: ['abdul', 'abdillah', 'abdalla', 'abangâ²', 'abah', 'abadi', 'aaminnnn', 'aamiinn', 'aagympilihprabowosandi', 'aaamiin']\n"
     ]
    }
   ],
   "source": [
    "# Get the unique words in the vocabulary\n",
    "words_in_vocab = text_vectorizer.get_vocabulary()\n",
    "top_5_words = words_in_vocab[:10] # most common tokens (notice the [UNK] token for \"unknown\" words)\n",
    "bottom_5_words = words_in_vocab[-10:] # least common tokens\n",
    "print(f\"Number of words in vocab: {len(words_in_vocab)}\")\n",
    "print(f\"Top 5 most common words: {top_5_words}\") \n",
    "print(f\"Bottom 5 least common words: {bottom_5_words}\")"
   ]
  },
  {
   "cell_type": "markdown",
   "id": "10ddc8f7-6b2a-474b-b8fd-c67090b8831c",
   "metadata": {},
   "source": [
    "## Creating an Embedding using an Embedding Layer"
   ]
  },
  {
   "cell_type": "code",
   "execution_count": 51,
   "id": "2d23778e-e869-4893-8c81-a2258ea1b940",
   "metadata": {},
   "outputs": [
    {
     "data": {
      "text/plain": [
       "<keras.src.layers.core.embedding.Embedding at 0x13c0968ecd0>"
      ]
     },
     "execution_count": 51,
     "metadata": {},
     "output_type": "execute_result"
    }
   ],
   "source": [
    "tf.random.set_seed(42)\n",
    "from tensorflow.keras import layers\n",
    "\n",
    "embedding = layers.Embedding(input_dim=max_vocab_length, # set input shape\n",
    "                             output_dim=64, # set size of embedding vector\n",
    "                             embeddings_initializer=\"uniform\", # default, intialize randomly\n",
    "                             input_length=max_length, # how long is each input\n",
    "                             name=\"embedding_1\") \n",
    "\n",
    "embedding"
   ]
  },
  {
   "cell_type": "code",
   "execution_count": 41,
   "id": "314eb809-3df9-4031-a14a-5314f7a48f08",
   "metadata": {},
   "outputs": [
    {
     "name": "stdout",
     "output_type": "stream",
     "text": [
      "Original text:\n",
      "barangkali karena trend pertumbuhan ekonomi  menurun makanya bukan salah pak jokowi      \n",
      "\n",
      "Embedded version:\n"
     ]
    },
    {
     "data": {
      "text/plain": [
       "<tf.Tensor: shape=(1, 24, 64), dtype=float32, numpy=\n",
       "array([[[-0.03082364, -0.04399418, -0.01377869, ...,  0.02217642,\n",
       "          0.00119333,  0.03113574],\n",
       "        [-0.03478582,  0.01202619,  0.04426671, ..., -0.02995819,\n",
       "         -0.00033432,  0.00980492],\n",
       "        [ 0.02458104,  0.00179539,  0.02629634, ...,  0.02716828,\n",
       "          0.03564088, -0.03674383],\n",
       "        ...,\n",
       "        [-0.01164757, -0.00856902, -0.01077387, ...,  0.03901218,\n",
       "          0.04419729, -0.04069805],\n",
       "        [-0.01164757, -0.00856902, -0.01077387, ...,  0.03901218,\n",
       "          0.04419729, -0.04069805],\n",
       "        [-0.01164757, -0.00856902, -0.01077387, ...,  0.03901218,\n",
       "          0.04419729, -0.04069805]]], dtype=float32)>"
      ]
     },
     "execution_count": 41,
     "metadata": {},
     "output_type": "execute_result"
    }
   ],
   "source": [
    "# Get a random sentence from training set\n",
    "random_sentence = random.choice(df_train.tweet)\n",
    "print(f\"Original text:\\n{random_sentence}\\\n",
    "      \\n\\nEmbedded version:\")\n",
    "# Embed the random sentence (turn it into numerical representation)\n",
    "sample_embed = embedding(text_vectorizer([random_sentence]))\n",
    "sample_embed"
   ]
  },
  {
   "cell_type": "code",
   "execution_count": 42,
   "id": "180fed65-e720-4c65-83c5-006c333ea2b1",
   "metadata": {},
   "outputs": [
    {
     "data": {
      "text/plain": [
       "<tf.Tensor: shape=(64,), dtype=float32, numpy=\n",
       "array([-0.03082364, -0.04399418, -0.01377869, -0.04008532,  0.04154402,\n",
       "       -0.03221127, -0.04377961,  0.04970271, -0.02009552, -0.04605513,\n",
       "       -0.02143475,  0.01888082, -0.02559466, -0.0245685 , -0.02618383,\n",
       "       -0.01529046,  0.01713106, -0.03489461, -0.01174982, -0.02301276,\n",
       "       -0.00133928,  0.02770307,  0.03051854,  0.02153102, -0.03210928,\n",
       "       -0.03827928, -0.00222371, -0.04246115, -0.00463669, -0.03752853,\n",
       "       -0.04157047, -0.03627113,  0.03302734,  0.02015588,  0.02756115,\n",
       "       -0.02279891, -0.02015086, -0.03837994,  0.02065061,  0.00292379,\n",
       "       -0.00230926,  0.01361388, -0.02195923,  0.04619691, -0.01407833,\n",
       "        0.01077317,  0.0145652 , -0.04411516,  0.01378013,  0.02096942,\n",
       "       -0.00677762, -0.01763888, -0.04074979, -0.00287559, -0.00443573,\n",
       "       -0.04155033, -0.04483011,  0.00082704, -0.00946669,  0.02142392,\n",
       "        0.0092196 ,  0.02217642,  0.00119333,  0.03113574], dtype=float32)>"
      ]
     },
     "execution_count": 42,
     "metadata": {},
     "output_type": "execute_result"
    }
   ],
   "source": [
    "sample_embed[0][0]"
   ]
  },
  {
   "cell_type": "code",
   "execution_count": 382,
   "id": "9bd06391-8191-4f76-addc-e0cc4b4cfc72",
   "metadata": {},
   "outputs": [],
   "source": [
    "from sklearn.metrics import accuracy_score, precision_recall_fscore_support\n",
    "\n",
    "def calculate_results(y_true, y_pred):\n",
    "  \"\"\"\n",
    "  Calculates model accuracy, precision, recall and f1 score of a binary classification model.\n",
    "\n",
    "  Args:\n",
    "  -----\n",
    "  y_true = true labels in the form of a 1D array\n",
    "  y_pred = predicted labels in the form of a 1D array\n",
    "\n",
    "  Returns a dictionary of accuracy, precision, recall, f1-score.\n",
    "  \"\"\"\n",
    "  # Calculate model accuracy\n",
    "  model_accuracy = accuracy_score(y_true, y_pred) * 100\n",
    "  # Calculate model precision, recall and f1 score using \"weighted\" average\n",
    "  model_precision, model_recall, model_f1, _ = precision_recall_fscore_support(y_true, y_pred, average=\"weighted\")\n",
    "  model_results = {\"accuracy\": model_accuracy,\n",
    "                  \"precision\": model_precision,\n",
    "                  \"recall\": model_recall,\n",
    "                  \"f1\": model_f1}\n",
    "  return model_results"
   ]
  },
  {
   "cell_type": "code",
   "execution_count": 43,
   "id": "710171ec-3817-43ed-90df-2280997de8f9",
   "metadata": {},
   "outputs": [
    {
     "name": "stdout",
     "output_type": "stream",
     "text": [
      "(None, 24, 64)\n",
      "(None, 32)\n"
     ]
    }
   ],
   "source": [
    "tf.random.set_seed(42)\n",
    "from tensorflow.keras import layers\n",
    "model_2_embedding = layers.Embedding(input_dim=max_vocab_length,\n",
    "                                     output_dim=64,\n",
    "                                     embeddings_initializer=\"uniform\",\n",
    "                                     input_length=max_length,\n",
    "                                     name=\"embedding_2\")\n",
    "\n",
    "\n",
    "# Create LSTM model\n",
    "inputs = layers.Input(shape=(1,), dtype=\"string\")\n",
    "x = text_vectorizer(inputs)\n",
    "x = model_2_embedding(x)\n",
    "#x = layers.SpatialDropout1D(0.4)(x)\n",
    "print(x.shape)\n",
    "# x = layers.LSTM(64, return_sequences=True)(x) # return vector for each word in the Tweet (you can stack RNN cells as long as return_sequences=True)\n",
    "x = layers.LSTM(32)(x) # return vector for whole sequence\n",
    "\n",
    "print(x.shape)\n",
    "# x = layers.Dense(64, activation=\"relu\")(x) # optional dense layer on top of output of LSTM cell\n",
    "outputs = layers.Dense(3, activation=\"softmax\")(x)\n",
    "model_2 = tf.keras.Model(inputs, outputs, name=\"model_2_LSTM\")"
   ]
  },
  {
   "cell_type": "code",
   "execution_count": 44,
   "id": "a0b011e1-85d7-4a08-bfae-679044401cc3",
   "metadata": {},
   "outputs": [],
   "source": [
    "# Compile model\n",
    "model_2.compile(loss=\"sparse_categorical_crossentropy\",\n",
    "                optimizer=tf.keras.optimizers.Adam(),\n",
    "                metrics=[\"accuracy\"])\n"
   ]
  },
  {
   "cell_type": "code",
   "execution_count": 45,
   "id": "73e099a9-0a9b-44fe-8e91-55f3a59fd3d3",
   "metadata": {},
   "outputs": [
    {
     "name": "stdout",
     "output_type": "stream",
     "text": [
      "Model: \"model_2_LSTM\"\n",
      "_________________________________________________________________\n",
      " Layer (type)                Output Shape              Param #   \n",
      "=================================================================\n",
      " input_1 (InputLayer)        [(None, 1)]               0         \n",
      "                                                                 \n",
      " text_vectorization_2 (Text  (None, 24)                0         \n",
      " Vectorization)                                                  \n",
      "                                                                 \n",
      " embedding_2 (Embedding)     (None, 24, 64)            640000    \n",
      "                                                                 \n",
      " lstm (LSTM)                 (None, 32)                12416     \n",
      "                                                                 \n",
      " dense (Dense)               (None, 3)                 99        \n",
      "                                                                 \n",
      "=================================================================\n",
      "Total params: 652515 (2.49 MB)\n",
      "Trainable params: 652515 (2.49 MB)\n",
      "Non-trainable params: 0 (0.00 Byte)\n",
      "_________________________________________________________________\n"
     ]
    }
   ],
   "source": [
    "model_2.summary()"
   ]
  },
  {
   "cell_type": "code",
   "execution_count": 60,
   "id": "9f8bba30-0e19-4b9d-83a6-b0a4bcc8f13c",
   "metadata": {},
   "outputs": [
    {
     "name": "stdout",
     "output_type": "stream",
     "text": [
      "Epoch 1/10\n",
      "91/91 [==============================] - 13s 67ms/step - loss: 0.9724 - accuracy: 0.5427 - val_loss: 0.9007 - val_accuracy: 0.6171\n",
      "Epoch 2/10\n",
      "91/91 [==============================] - 5s 50ms/step - loss: 0.3791 - accuracy: 0.8740 - val_loss: 1.1788 - val_accuracy: 0.5207\n",
      "Epoch 3/10\n",
      "91/91 [==============================] - 5s 51ms/step - loss: 0.1009 - accuracy: 0.9704 - val_loss: 1.5513 - val_accuracy: 0.5399\n",
      "Epoch 4/10\n",
      "91/91 [==============================] - 5s 57ms/step - loss: 0.0507 - accuracy: 0.9876 - val_loss: 1.7590 - val_accuracy: 0.5096\n",
      "Epoch 5/10\n",
      "91/91 [==============================] - 5s 49ms/step - loss: 0.0352 - accuracy: 0.9914 - val_loss: 1.8886 - val_accuracy: 0.5096\n",
      "Epoch 6/10\n",
      "91/91 [==============================] - 4s 49ms/step - loss: 0.0379 - accuracy: 0.9904 - val_loss: 1.7689 - val_accuracy: 0.5510\n",
      "Epoch 7/10\n",
      "91/91 [==============================] - 3s 30ms/step - loss: 0.0221 - accuracy: 0.9952 - val_loss: 1.9934 - val_accuracy: 0.5152\n",
      "Epoch 8/10\n",
      "91/91 [==============================] - 5s 54ms/step - loss: 0.0171 - accuracy: 0.9959 - val_loss: 2.1192 - val_accuracy: 0.5096\n",
      "Epoch 9/10\n",
      "91/91 [==============================] - 3s 27ms/step - loss: 0.0199 - accuracy: 0.9966 - val_loss: 1.9514 - val_accuracy: 0.5289\n",
      "Epoch 10/10\n",
      "91/91 [==============================] - 6s 65ms/step - loss: 0.0162 - accuracy: 0.9962 - val_loss: 2.0463 - val_accuracy: 0.5207\n"
     ]
    }
   ],
   "source": [
    "# Fit model\n",
    "model_2_history = model_2.fit(df_train.tweet,\n",
    "                              df_train.sentimen.astype(np.float32),\n",
    "                              epochs=10,\n",
    "                               validation_data=(df_test.tweet, df_test.sentimen.astype(np.float32)),\n",
    "                              )"
   ]
  },
  {
   "cell_type": "code",
   "execution_count": 387,
   "id": "2dd2e1cd-f8c6-4da2-82cb-3ed122f0f001",
   "metadata": {},
   "outputs": [
    {
     "name": "stdout",
     "output_type": "stream",
     "text": [
      "23/23 [==============================] - 1s 8ms/step\n"
     ]
    },
    {
     "data": {
      "text/plain": [
       "((726, 3),\n",
       " array([[9.4331364e-04, 9.9865472e-01, 4.0192698e-04],\n",
       "        [9.5303549e-04, 9.9851030e-01, 5.3656480e-04],\n",
       "        [1.2956156e-01, 2.9451847e-01, 5.7592005e-01],\n",
       "        [8.3249499e-04, 9.9877971e-01, 3.8781611e-04],\n",
       "        [6.7629555e-04, 9.9876690e-01, 5.5685337e-04],\n",
       "        [5.2684691e-04, 1.2362162e-03, 9.9823689e-01],\n",
       "        [9.9876899e-01, 6.0907518e-04, 6.2186603e-04],\n",
       "        [9.6679106e-04, 9.9693120e-01, 2.1019655e-03],\n",
       "        [9.9731147e-01, 1.4412673e-03, 1.2473000e-03],\n",
       "        [1.4879756e-03, 2.1395657e-02, 9.7711641e-01]], dtype=float32))"
      ]
     },
     "execution_count": 387,
     "metadata": {},
     "output_type": "execute_result"
    }
   ],
   "source": [
    "# Make predictions on the validation dataset\n",
    "model_2_pred_probs = model_2.predict(test_tweet)\n",
    "model_2_pred_probs.shape, model_2_pred_probs[:10] # view the first 10"
   ]
  },
  {
   "cell_type": "code",
   "execution_count": 388,
   "id": "a6c5b3c1-2838-447a-82c0-8b856692f93f",
   "metadata": {},
   "outputs": [],
   "source": [
    "model_2_preds = tf.squeeze(tf.round(model_2_pred_probs))\n",
    "model_2_preds = np.argmax(model_2_preds, axis=1)"
   ]
  },
  {
   "cell_type": "code",
   "execution_count": 389,
   "id": "139e9bab-5aea-4792-bea0-586da3404412",
   "metadata": {},
   "outputs": [
    {
     "data": {
      "text/plain": [
       "array([1, 1, 0, 1, 1, 2, 0, 1, 0, 2, 1, 1, 1, 2, 0, 1, 2, 2, 1, 1, 0, 2,\n",
       "       0, 1, 0, 1, 1, 2, 0, 2, 0, 1, 1, 2, 1, 1, 2, 1, 2, 0, 1, 1, 1, 0,\n",
       "       0, 0, 0, 2, 1, 1, 2, 1, 0, 1, 1, 1, 0, 0, 0, 2, 2, 1, 2, 2, 0, 1,\n",
       "       1, 2, 0, 1, 1, 2, 0, 1, 2, 2, 1, 1, 0, 0, 0, 1, 1, 1, 1, 0, 0, 0,\n",
       "       0, 2, 2, 2, 0, 2, 2, 2, 2, 2, 0, 1, 0, 0, 0, 2, 0, 1, 2, 1, 0, 1,\n",
       "       1, 0, 0, 0, 2, 2, 0, 2, 0, 0, 2, 0, 2, 1, 0, 1, 2, 0, 0, 1, 1, 1,\n",
       "       1, 2, 2, 2, 1, 0, 0, 0, 1, 0, 0, 0, 1, 0, 0, 1, 1, 0, 0, 2, 2, 1,\n",
       "       2, 1, 2, 2, 1, 0, 0, 1, 2, 2, 2, 1, 2, 0, 2, 2, 0, 1, 1, 0, 1, 2,\n",
       "       2, 2, 1, 2, 1, 0, 2, 2, 0, 0, 1, 2, 2, 2, 0, 1, 1, 0, 1, 2, 1, 2,\n",
       "       1, 0, 1, 1, 2, 2, 0, 0, 0, 1, 0, 2, 2, 0, 1, 2, 0, 1, 0, 1, 0, 1,\n",
       "       2, 0, 2, 1, 2, 1, 0, 1, 0, 1, 2, 0, 1, 1, 2, 0, 2, 0, 1, 1, 1, 2,\n",
       "       2, 1, 2, 2, 2, 0, 2, 2, 1, 2, 2, 0, 0, 2, 1, 0, 0, 2, 2, 1, 0, 2,\n",
       "       0, 1, 0, 1, 0, 0, 2, 0, 2, 1, 2, 1, 1, 0, 2, 2, 2, 2, 0, 1, 2, 2,\n",
       "       1, 1, 0, 2, 2, 0, 0, 2, 1, 0, 1, 2, 1, 1, 0, 2, 1, 2, 2, 2, 2, 2,\n",
       "       0, 2, 2, 1, 1, 2, 0, 0, 1, 2, 1, 2, 0, 1, 0, 2, 1, 0, 2, 0, 1, 0,\n",
       "       2, 0, 1, 1, 0, 2, 1, 1, 2, 0, 2, 2, 2, 2, 2, 0, 1, 2, 0, 1, 1, 2,\n",
       "       0, 0, 2, 0, 2, 1, 0, 0, 1, 0, 1, 1, 1, 0, 1, 2, 0, 0, 0, 0, 2, 1,\n",
       "       1, 0, 0, 2, 2, 1, 2, 0, 0, 1, 1, 0, 2, 2, 1, 1, 2, 1, 0, 1, 1, 2,\n",
       "       1, 2, 2, 2, 2, 0, 2, 0, 0, 1, 1, 2, 1, 0, 1, 0, 1, 0, 1, 1, 2, 2,\n",
       "       0, 2, 2, 0, 1, 0, 0, 0, 1, 0, 1, 2, 1, 2, 0, 2, 2, 1, 2, 1, 1, 1,\n",
       "       1, 0, 1, 1, 0, 1, 2, 2, 0, 1, 1, 0, 0, 0, 1, 0, 0, 1, 2, 2, 2, 0,\n",
       "       0, 2, 1, 0, 2, 1, 1, 2, 2, 1, 2, 0, 0, 0, 0, 1, 1, 0, 1, 1, 1, 2,\n",
       "       0, 2, 1, 2, 0, 1, 0, 1, 2, 0, 1, 2, 0, 2, 2, 1, 1, 0, 1, 2, 1, 0,\n",
       "       0, 1, 2, 1, 0, 0, 1, 1, 0, 0, 1, 0, 2, 2, 1, 1, 1, 1, 2, 2, 2, 0,\n",
       "       1, 2, 0, 1, 2, 0, 2, 1, 2, 2, 0, 1, 0, 2, 2, 0, 0, 0, 0, 2, 1, 0,\n",
       "       0, 2, 2, 1, 2, 0, 2, 2, 1, 2, 0, 0, 0, 0, 2, 1, 1, 2, 2, 1, 2, 2,\n",
       "       2, 0, 1, 2, 2, 2, 2, 1, 0, 0, 1, 0, 1, 2, 2, 0, 2, 0, 1, 0, 2, 2,\n",
       "       2, 2, 0, 2, 0, 1, 0, 0, 1, 1, 0, 2, 1, 1, 2, 1, 0, 0, 0, 0, 2, 0,\n",
       "       2, 1, 1, 1, 2, 0, 0, 2, 2, 0, 0, 1, 1, 2, 2, 1, 1, 2, 2, 0, 0, 0,\n",
       "       0, 0, 2, 2, 0, 2, 1, 0, 1, 0, 1, 0, 1, 1, 2, 1, 1, 2, 0, 2, 0, 1,\n",
       "       1, 2, 1, 2, 2, 1, 0, 2, 1, 1, 0, 2, 2, 1, 1, 0, 2, 1, 0, 0, 1, 2,\n",
       "       2, 1, 2, 1, 0, 0, 0, 1, 2, 1, 0, 0, 0, 0, 0, 0, 2, 2, 1, 2, 0, 0,\n",
       "       1, 1, 1, 0, 1, 2, 0, 0, 0, 0, 0, 0, 0, 1, 1, 0, 0, 0, 0, 1, 1, 2],\n",
       "      dtype=int64)"
      ]
     },
     "execution_count": 389,
     "metadata": {},
     "output_type": "execute_result"
    }
   ],
   "source": [
    "test_sentimen"
   ]
  },
  {
   "cell_type": "code",
   "execution_count": 390,
   "id": "b04d8a4a-3932-4988-ad86-966eb8ce966a",
   "metadata": {},
   "outputs": [
    {
     "data": {
      "text/plain": [
       "{'accuracy': 90.633608815427,\n",
       " 'precision': 0.9081001847915401,\n",
       " 'recall': 0.90633608815427,\n",
       " 'f1': 0.9061256462780763}"
      ]
     },
     "execution_count": 390,
     "metadata": {},
     "output_type": "execute_result"
    }
   ],
   "source": [
    "# Calculate LSTM model results\n",
    "model_2_results = calculate_results(y_true=test_sentimen,\n",
    "                                    y_pred=model_2_preds)\n",
    "model_2_results"
   ]
  },
  {
   "cell_type": "code",
   "execution_count": 397,
   "id": "c77c2edc-2a42-45a5-80e5-9e08178cd5d1",
   "metadata": {},
   "outputs": [
    {
     "data": {
      "text/plain": [
       "array(['halo'], dtype='<U4')"
      ]
     },
     "execution_count": 397,
     "metadata": {},
     "output_type": "execute_result"
    }
   ],
   "source": [
    "np.array(['halo'])"
   ]
  },
  {
   "cell_type": "code",
   "execution_count": null,
   "id": "b1758d0f-bd82-428f-9205-cb4236ae86c0",
   "metadata": {},
   "outputs": [],
   "source": [
    "model_2_pred_probs = model_2.predict(test_tweet)"
   ]
  },
  {
   "cell_type": "code",
   "execution_count": 410,
   "id": "93e916ae-ca1f-4f78-97f5-645729981421",
   "metadata": {},
   "outputs": [
    {
     "name": "stdout",
     "output_type": "stream",
     "text": [
      "1/1 [==============================] - 0s 37ms/step\n"
     ]
    },
    {
     "data": {
      "text/plain": [
       "array([0., 0., 1.], dtype=float32)"
      ]
     },
     "execution_count": 410,
     "metadata": {},
     "output_type": "execute_result"
    }
   ],
   "source": [
    "tf.squeeze(tf.round(model_2.predict(np.array(['Pak @sandiuno dan pak @prabowo Gajinya kirim ke saya sj'])))).numpy()"
   ]
  },
  {
   "cell_type": "code",
   "execution_count": 411,
   "id": "6a60740f-9487-427d-8e70-1fde833fbd23",
   "metadata": {},
   "outputs": [
    {
     "data": {
      "text/html": [
       "<div>\n",
       "<style scoped>\n",
       "    .dataframe tbody tr th:only-of-type {\n",
       "        vertical-align: middle;\n",
       "    }\n",
       "\n",
       "    .dataframe tbody tr th {\n",
       "        vertical-align: top;\n",
       "    }\n",
       "\n",
       "    .dataframe thead th {\n",
       "        text-align: right;\n",
       "    }\n",
       "</style>\n",
       "<table border=\"1\" class=\"dataframe\">\n",
       "  <thead>\n",
       "    <tr style=\"text-align: right;\">\n",
       "      <th></th>\n",
       "      <th>sentimen</th>\n",
       "      <th>tweet</th>\n",
       "    </tr>\n",
       "  </thead>\n",
       "  <tbody>\n",
       "    <tr>\n",
       "      <th>1207</th>\n",
       "      <td>0</td>\n",
       "      <td>Nge hack punya profesor saididu? dibayar jokowi ya? Tujuannya apa sih? Ilmu digunakan ke hal yg positif lebih berharga. akun orang, gak perlu kau handle.  @jokowi @Jokowi_Amin @JokowiCentre pekerjaan ini apa ya namanya? Fitnah atau hoax?</td>\n",
       "    </tr>\n",
       "    <tr>\n",
       "      <th>1550</th>\n",
       "      <td>1</td>\n",
       "      <td>Setuju, karena juga sudah diakui Pak @prabowo kalau Rel ekonomi kita sudah benar dibawah pemerintahan pak @jokowi .  pic.twitter.com/gFNyubXTch</td>\n",
       "    </tr>\n",
       "    <tr>\n",
       "      <th>865</th>\n",
       "      <td>1</td>\n",
       "      <td>Pancasila harga mati bravo pak presiden @jokowi  pic.twitter.com/knQYLidaeC</td>\n",
       "    </tr>\n",
       "    <tr>\n",
       "      <th>141</th>\n",
       "      <td>1</td>\n",
       "      <td>Presiden Jokowi dan Raja Salman bin Abdulaziz al-Saud melakukan pertemuan bilateral. Keduanya sepakat akan meningkatkan kerja sama di bidang ekonomi.  https://news.detik.com/berita/d-4510595/menlu-retno-ri-saudi-tingatkan-kerjasama-di-sektor-energi-dan-pariwisata?utm_term=echoboxauto&amp;utm_campaign=detikcomsocmed&amp;utm_medium=oa&amp;utm_content=detikcom&amp;utm_source=Twitter#Echobox=1555270554Â â€¦</td>\n",
       "    </tr>\n",
       "    <tr>\n",
       "      <th>829</th>\n",
       "      <td>1</td>\n",
       "      <td>Nyo buka youtube. Dngerin sekali lg yg ditanyain pak jokowi. Yg jd pembahasan awal kan bkn masalah e sport tapi pokok utamanya adl ekonomi digital. Dan Mobile legend cm jadi salah satu contoh.</td>\n",
       "    </tr>\n",
       "    <tr>\n",
       "      <th>...</th>\n",
       "      <td>...</td>\n",
       "      <td>...</td>\n",
       "    </tr>\n",
       "    <tr>\n",
       "      <th>811</th>\n",
       "      <td>0</td>\n",
       "      <td>Klo org korea, singapore, australia mau jokowi silahkan ambil. Faktanya di jaman beliau: pertumbuhan ekonomi melambat, laju penurunan masy miskin melambat, rekor terburuk defisit neraca perdagangan.</td>\n",
       "    </tr>\n",
       "    <tr>\n",
       "      <th>1254</th>\n",
       "      <td>2</td>\n",
       "      <td>Pak @sandiuno dan pak @prabowo Gajinya kirim ke saya sj.  https://twitter.com/detikcom/status/1117096753759686657Â â€¦</td>\n",
       "    </tr>\n",
       "    <tr>\n",
       "      <th>100</th>\n",
       "      <td>0</td>\n",
       "      <td>Ketika wanita lain cerewat pada suaminya #TerimaKasihIstriku kamu hanya cerewet sama tukang sayur yang harganya naik. @jokowi</td>\n",
       "    </tr>\n",
       "    <tr>\n",
       "      <th>1576</th>\n",
       "      <td>1</td>\n",
       "      <td>Berarti perekonomian masyarakat kecil jadi lebih bagus. dl jajan di warung kecil, sekarang jajan di restoran atau mall yg rame.. skr jaman udah modern, jajan di warung kecil 25rb, di mall pake gopay 20rb nikmatnya lebih baik. Salah presiden atau salah pelaku usaha ?</td>\n",
       "    </tr>\n",
       "    <tr>\n",
       "      <th>928</th>\n",
       "      <td>1</td>\n",
       "      <td>Mertua saya, guru honorer mengabdi dr SMP ke SMA hampir 8 tahun, dengan gaji paling besar 450rb. Ikhlas, saking suka sekali dengan profesi anak bungsu nya rela di momongkan ke tetangga, semoga setlh pak @prabowo  jd presiden lbh menyantuni para guru honorer,</td>\n",
       "    </tr>\n",
       "  </tbody>\n",
       "</table>\n",
       "<p>363 rows × 2 columns</p>\n",
       "</div>"
      ],
      "text/plain": [
       "      sentimen  \\\n",
       "1207         0   \n",
       "1550         1   \n",
       "865          1   \n",
       "141          1   \n",
       "829          1   \n",
       "...        ...   \n",
       "811          0   \n",
       "1254         2   \n",
       "100          0   \n",
       "1576         1   \n",
       "928          1   \n",
       "\n",
       "                                                                                                                                                                                                                                                                                                                                                                                                       tweet  \n",
       "1207                                                                                                                                                           Nge hack punya profesor saididu? dibayar jokowi ya? Tujuannya apa sih? Ilmu digunakan ke hal yg positif lebih berharga. akun orang, gak perlu kau handle.  @jokowi @Jokowi_Amin @JokowiCentre pekerjaan ini apa ya namanya? Fitnah atau hoax?  \n",
       "1550                                                                                                                                                                                                                                                         Setuju, karena juga sudah diakui Pak @prabowo kalau Rel ekonomi kita sudah benar dibawah pemerintahan pak @jokowi .  pic.twitter.com/gFNyubXTch  \n",
       "865                                                                                                                                                                                                                                                                                                                              Pancasila harga mati bravo pak presiden @jokowi  pic.twitter.com/knQYLidaeC  \n",
       "141   Presiden Jokowi dan Raja Salman bin Abdulaziz al-Saud melakukan pertemuan bilateral. Keduanya sepakat akan meningkatkan kerja sama di bidang ekonomi.  https://news.detik.com/berita/d-4510595/menlu-retno-ri-saudi-tingatkan-kerjasama-di-sektor-energi-dan-pariwisata?utm_term=echoboxauto&utm_campaign=detikcomsocmed&utm_medium=oa&utm_content=detikcom&utm_source=Twitter#Echobox=1555270554Â â€¦  \n",
       "829                                                                                                                                                                                                         Nyo buka youtube. Dngerin sekali lg yg ditanyain pak jokowi. Yg jd pembahasan awal kan bkn masalah e sport tapi pokok utamanya adl ekonomi digital. Dan Mobile legend cm jadi salah satu contoh.  \n",
       "...                                                                                                                                                                                                                                                                                                                                                                                                      ...  \n",
       "811                                                                                                                                                                                                   Klo org korea, singapore, australia mau jokowi silahkan ambil. Faktanya di jaman beliau: pertumbuhan ekonomi melambat, laju penurunan masy miskin melambat, rekor terburuk defisit neraca perdagangan.  \n",
       "1254                                                                                                                                                                                                                                                                                  Pak @sandiuno dan pak @prabowo Gajinya kirim ke saya sj.  https://twitter.com/detikcom/status/1117096753759686657Â â€¦  \n",
       "100                                                                                                                                                                                                                                                                            Ketika wanita lain cerewat pada suaminya #TerimaKasihIstriku kamu hanya cerewet sama tukang sayur yang harganya naik. @jokowi  \n",
       "1576                                                                                                                              Berarti perekonomian masyarakat kecil jadi lebih bagus. dl jajan di warung kecil, sekarang jajan di restoran atau mall yg rame.. skr jaman udah modern, jajan di warung kecil 25rb, di mall pake gopay 20rb nikmatnya lebih baik. Salah presiden atau salah pelaku usaha ?  \n",
       "928                                                                                                                                       Mertua saya, guru honorer mengabdi dr SMP ke SMA hampir 8 tahun, dengan gaji paling besar 450rb. Ikhlas, saking suka sekali dengan profesi anak bungsu nya rela di momongkan ke tetangga, semoga setlh pak @prabowo  jd presiden lbh menyantuni para guru honorer,  \n",
       "\n",
       "[363 rows x 2 columns]"
      ]
     },
     "execution_count": 411,
     "metadata": {},
     "output_type": "execute_result"
    }
   ],
   "source": [
    "df_test"
   ]
  },
  {
   "cell_type": "code",
   "execution_count": null,
   "id": "63e93fe0-e0f9-48b8-9ffd-fc6f0a9bc697",
   "metadata": {},
   "outputs": [],
   "source": []
  }
 ],
 "metadata": {
  "kernelspec": {
   "display_name": "Python 3 (ipykernel)",
   "language": "python",
   "name": "python3"
  },
  "language_info": {
   "codemirror_mode": {
    "name": "ipython",
    "version": 3
   },
   "file_extension": ".py",
   "mimetype": "text/x-python",
   "name": "python",
   "nbconvert_exporter": "python",
   "pygments_lexer": "ipython3",
   "version": "3.11.5"
  }
 },
 "nbformat": 4,
 "nbformat_minor": 5
}

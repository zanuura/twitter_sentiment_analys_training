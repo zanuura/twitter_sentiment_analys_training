{
  "nbformat": 4,
  "nbformat_minor": 0,
  "metadata": {
    "colab": {
      "provenance": []
    },
    "kernelspec": {
      "name": "python3",
      "display_name": "Python 3"
    },
    "language_info": {
      "name": "python"
    },
    "accelerator": "TPU"
  },
  "cells": [
    {
      "cell_type": "code",
      "source": [
        "!pip install wget\n",
        "!pip install Sastrawi\n",
        "!pip install nlp_id\n",
        "!pip install unidecode\n",
        "!pip install --upgrade gensim\n",
        "!pip install sparknlp\n",
        "!pip install pyspark"
      ],
      "metadata": {
        "colab": {
          "base_uri": "https://localhost:8080/"
        },
        "id": "sOGSZVmxYfCk",
        "outputId": "2eb48a9f-f8ae-4d8f-dd93-1d0591335068"
      },
      "execution_count": null,
      "outputs": [
        {
          "output_type": "stream",
          "name": "stdout",
          "text": [
            "Collecting wget\n",
            "  Downloading wget-3.2.zip (10 kB)\n",
            "  Preparing metadata (setup.py) ... \u001b[?25l\u001b[?25hdone\n",
            "Building wheels for collected packages: wget\n",
            "  Building wheel for wget (setup.py) ... \u001b[?25l\u001b[?25hdone\n",
            "  Created wheel for wget: filename=wget-3.2-py3-none-any.whl size=9655 sha256=e388812f7dcace5535313a6414506bcf197a410634f97d27fa9877a9dbdac239\n",
            "  Stored in directory: /root/.cache/pip/wheels/8b/f1/7f/5c94f0a7a505ca1c81cd1d9208ae2064675d97582078e6c769\n",
            "Successfully built wget\n",
            "Installing collected packages: wget\n",
            "Successfully installed wget-3.2\n",
            "Collecting Sastrawi\n",
            "  Downloading Sastrawi-1.0.1-py2.py3-none-any.whl (209 kB)\n",
            "\u001b[2K     \u001b[90m━━━━━━━━━━━━━━━━━━━━━━━━━━━━━━━━━━━━━━━━\u001b[0m \u001b[32m209.7/209.7 kB\u001b[0m \u001b[31m3.9 MB/s\u001b[0m eta \u001b[36m0:00:00\u001b[0m\n",
            "\u001b[?25hInstalling collected packages: Sastrawi\n",
            "Successfully installed Sastrawi-1.0.1\n",
            "Collecting nlp_id\n",
            "  Downloading nlp_id-0.1.15.0.tar.gz (54.8 MB)\n",
            "\u001b[2K     \u001b[90m━━━━━━━━━━━━━━━━━━━━━━━━━━━━━━━━━━━━━━━━\u001b[0m \u001b[32m54.8/54.8 MB\u001b[0m \u001b[31m15.3 MB/s\u001b[0m eta \u001b[36m0:00:00\u001b[0m\n",
            "\u001b[?25h  Preparing metadata (setup.py) ... \u001b[?25l\u001b[?25hdone\n",
            "Requirement already satisfied: scikit-learn==1.2.2 in /usr/local/lib/python3.10/dist-packages (from nlp_id) (1.2.2)\n",
            "Requirement already satisfied: nltk==3.8.1 in /usr/local/lib/python3.10/dist-packages (from nlp_id) (3.8.1)\n",
            "Requirement already satisfied: wget==3.2 in /usr/local/lib/python3.10/dist-packages (from nlp_id) (3.2)\n",
            "Collecting pytest==7.3.1 (from nlp_id)\n",
            "  Downloading pytest-7.3.1-py3-none-any.whl (320 kB)\n",
            "\u001b[2K     \u001b[90m━━━━━━━━━━━━━━━━━━━━━━━━━━━━━━━━━━━━━━━━\u001b[0m \u001b[32m320.5/320.5 kB\u001b[0m \u001b[31m27.8 MB/s\u001b[0m eta \u001b[36m0:00:00\u001b[0m\n",
            "\u001b[?25hRequirement already satisfied: click in /usr/local/lib/python3.10/dist-packages (from nltk==3.8.1->nlp_id) (8.1.7)\n",
            "Requirement already satisfied: joblib in /usr/local/lib/python3.10/dist-packages (from nltk==3.8.1->nlp_id) (1.3.2)\n",
            "Requirement already satisfied: regex>=2021.8.3 in /usr/local/lib/python3.10/dist-packages (from nltk==3.8.1->nlp_id) (2023.6.3)\n",
            "Requirement already satisfied: tqdm in /usr/local/lib/python3.10/dist-packages (from nltk==3.8.1->nlp_id) (4.66.1)\n",
            "Requirement already satisfied: iniconfig in /usr/local/lib/python3.10/dist-packages (from pytest==7.3.1->nlp_id) (2.0.0)\n",
            "Requirement already satisfied: packaging in /usr/local/lib/python3.10/dist-packages (from pytest==7.3.1->nlp_id) (23.2)\n",
            "Requirement already satisfied: pluggy<2.0,>=0.12 in /usr/local/lib/python3.10/dist-packages (from pytest==7.3.1->nlp_id) (1.3.0)\n",
            "Requirement already satisfied: exceptiongroup>=1.0.0rc8 in /usr/local/lib/python3.10/dist-packages (from pytest==7.3.1->nlp_id) (1.1.3)\n",
            "Requirement already satisfied: tomli>=1.0.0 in /usr/local/lib/python3.10/dist-packages (from pytest==7.3.1->nlp_id) (2.0.1)\n",
            "Requirement already satisfied: numpy>=1.17.3 in /usr/local/lib/python3.10/dist-packages (from scikit-learn==1.2.2->nlp_id) (1.23.5)\n",
            "Requirement already satisfied: scipy>=1.3.2 in /usr/local/lib/python3.10/dist-packages (from scikit-learn==1.2.2->nlp_id) (1.11.3)\n",
            "Requirement already satisfied: threadpoolctl>=2.0.0 in /usr/local/lib/python3.10/dist-packages (from scikit-learn==1.2.2->nlp_id) (3.2.0)\n",
            "Building wheels for collected packages: nlp_id\n",
            "  Building wheel for nlp_id (setup.py) ... \u001b[?25l\u001b[?25hdone\n",
            "  Created wheel for nlp_id: filename=nlp_id-0.1.15.0-py3-none-any.whl size=58153891 sha256=560b1df48fde99afd0beb4a64c3aad5073013392300bfee57552a51d9205a364\n",
            "  Stored in directory: /root/.cache/pip/wheels/85/34/2a/deaf7b7896a1eed336b874e1a7732588d40bb7bdc0a824e73e\n",
            "Successfully built nlp_id\n",
            "Installing collected packages: pytest, nlp_id\n",
            "  Attempting uninstall: pytest\n",
            "    Found existing installation: pytest 7.4.3\n",
            "    Uninstalling pytest-7.4.3:\n",
            "      Successfully uninstalled pytest-7.4.3\n",
            "Successfully installed nlp_id-0.1.15.0 pytest-7.3.1\n",
            "Collecting unidecode\n",
            "  Downloading Unidecode-1.3.7-py3-none-any.whl (235 kB)\n",
            "\u001b[2K     \u001b[90m━━━━━━━━━━━━━━━━━━━━━━━━━━━━━━━━━━━━━━━━\u001b[0m \u001b[32m235.5/235.5 kB\u001b[0m \u001b[31m4.8 MB/s\u001b[0m eta \u001b[36m0:00:00\u001b[0m\n",
            "\u001b[?25hInstalling collected packages: unidecode\n",
            "Successfully installed unidecode-1.3.7\n",
            "Requirement already satisfied: gensim in /usr/local/lib/python3.10/dist-packages (4.3.2)\n",
            "Requirement already satisfied: numpy>=1.18.5 in /usr/local/lib/python3.10/dist-packages (from gensim) (1.23.5)\n",
            "Requirement already satisfied: scipy>=1.7.0 in /usr/local/lib/python3.10/dist-packages (from gensim) (1.11.3)\n",
            "Requirement already satisfied: smart-open>=1.8.1 in /usr/local/lib/python3.10/dist-packages (from gensim) (6.4.0)\n",
            "Collecting sparknlp\n",
            "  Downloading sparknlp-1.0.0-py3-none-any.whl (1.4 kB)\n",
            "Collecting spark-nlp (from sparknlp)\n",
            "  Downloading spark_nlp-5.1.4-py2.py3-none-any.whl (540 kB)\n",
            "\u001b[2K     \u001b[90m━━━━━━━━━━━━━━━━━━━━━━━━━━━━━━━━━━━━━━━━\u001b[0m \u001b[32m540.7/540.7 kB\u001b[0m \u001b[31m8.4 MB/s\u001b[0m eta \u001b[36m0:00:00\u001b[0m\n",
            "\u001b[?25hRequirement already satisfied: numpy in /usr/local/lib/python3.10/dist-packages (from sparknlp) (1.23.5)\n",
            "Installing collected packages: spark-nlp, sparknlp\n",
            "Successfully installed spark-nlp-5.1.4 sparknlp-1.0.0\n",
            "Collecting pyspark\n",
            "  Downloading pyspark-3.5.0.tar.gz (316.9 MB)\n",
            "\u001b[2K     \u001b[90m━━━━━━━━━━━━━━━━━━━━━━━━━━━━━━━━━━━━━━━━\u001b[0m \u001b[32m316.9/316.9 MB\u001b[0m \u001b[31m3.3 MB/s\u001b[0m eta \u001b[36m0:00:00\u001b[0m\n",
            "\u001b[?25h  Preparing metadata (setup.py) ... \u001b[?25l\u001b[?25hdone\n",
            "Requirement already satisfied: py4j==0.10.9.7 in /usr/local/lib/python3.10/dist-packages (from pyspark) (0.10.9.7)\n",
            "Building wheels for collected packages: pyspark\n",
            "  Building wheel for pyspark (setup.py) ... \u001b[?25l\u001b[?25hdone\n",
            "  Created wheel for pyspark: filename=pyspark-3.5.0-py2.py3-none-any.whl size=317425344 sha256=b495575ad2ad9e941e6b76d6a1e5b01bfd8722848340aba7047bfd2765248fba\n",
            "  Stored in directory: /root/.cache/pip/wheels/41/4e/10/c2cf2467f71c678cfc8a6b9ac9241e5e44a01940da8fbb17fc\n",
            "Successfully built pyspark\n",
            "Installing collected packages: pyspark\n",
            "Successfully installed pyspark-3.5.0\n"
          ]
        }
      ]
    },
    {
      "cell_type": "code",
      "execution_count": null,
      "metadata": {
        "colab": {
          "base_uri": "https://localhost:8080/"
        },
        "id": "9Sb_JuT7YQv6",
        "outputId": "99947860-a915-4429-ab78-5c21c9f32901"
      },
      "outputs": [
        {
          "output_type": "stream",
          "name": "stderr",
          "text": [
            "[nltk_data] Downloading package punkt to /root/nltk_data...\n",
            "[nltk_data]   Unzipping tokenizers/punkt.zip.\n",
            "[nltk_data] Downloading package stopwords to /root/nltk_data...\n",
            "[nltk_data]   Unzipping corpora/stopwords.zip.\n"
          ]
        },
        {
          "output_type": "execute_result",
          "data": {
            "text/plain": [
              "True"
            ]
          },
          "metadata": {},
          "execution_count": 3
        }
      ],
      "source": [
        "import numpy as np\n",
        "import pandas as pd\n",
        "import matplotlib.pyplot as plt\n",
        "import seaborn as sns\n",
        "import itertools\n",
        "import re\n",
        "import os\n",
        "import pickle\n",
        "import warnings\n",
        "import wget\n",
        "import sklearn\n",
        "import random\n",
        "import nltk\n",
        "import spacy\n",
        "import textblob\n",
        "import gensim\n",
        "import Sastrawi\n",
        "import sparknlp\n",
        "import tensorflow as tf\n",
        "from sparknlp.base import DocumentAssembler\n",
        "from gensim.models import Word2Vec\n",
        "from keras.models import Model\n",
        "from keras.layers import LSTM, Activation, Dense, Dropout, Input, Embedding, GRU, SimpleRNN, Conv1D, MaxPooling1D, Flatten\n",
        "from Sastrawi.StopWordRemover.StopWordRemoverFactory import StopWordRemoverFactory\n",
        "from keras.optimizers import RMSprop\n",
        "from keras.preprocessing.text import Tokenizer\n",
        "from keras.preprocessing import sequence\n",
        "# from keras.utils.data_utils import pad_sequences\n",
        "from keras.utils import pad_sequences\n",
        "from keras.utils import to_categorical\n",
        "from keras.callbacks import EarlyStopping\n",
        "from sklearn.model_selection import train_test_split\n",
        "from sklearn.ensemble import RandomForestClassifier\n",
        "from sklearn.feature_extraction.text import CountVectorizer, TfidfVectorizer\n",
        "from sklearn.feature_extraction import DictVectorizer\n",
        "from sklearn.preprocessing import LabelEncoder\n",
        "from sklearn.pipeline import Pipeline\n",
        "from sklearn import preprocessing\n",
        "from sklearn.metrics import classification_report, confusion_matrix, accuracy_score, f1_score, recall_score, precision_score\n",
        "from nltk.corpus import stopwords\n",
        "from nltk.tree import Tree\n",
        "from nltk.tokenize import word_tokenize, sent_tokenize\n",
        "from nltk.stem import PorterStemmer, WordNetLemmatizer\n",
        "from collections import Counter, OrderedDict\n",
        "from Sastrawi.Stemmer.StemmerFactory import StemmerFactory\n",
        "from spacy.util import minibatch, compounding\n",
        "from spacy import load, displacy\n",
        "from spacy.training.example import Example\n",
        "from nlp_id import stopword\n",
        "from unidecode import unidecode\n",
        "import io\n",
        "import time\n",
        "from datetime import timedelta\n",
        "import logging\n",
        "from gensim.models import FastText\n",
        "from keras.models import Sequential\n",
        "from keras.layers import Embedding, LSTM, Dense\n",
        "from keras import backend as K\n",
        "from keras.optimizers.legacy import Adam\n",
        "from sparknlp.annotator import ContextSpellCheckerModel, NorvigSweetingModel, SymmetricDeleteModel\n",
        "logging.basicConfig(level=logging.INFO)\n",
        "nltk.download('punkt')\n",
        "nltk.download('stopwords')"
      ]
    },
    {
      "cell_type": "code",
      "source": [
        "data_normalized_tweet = pd.read_csv('/content/drive/MyDrive/sample_dataset/normalized_tweet.csv')\n",
        "data_tweet = pd.read_csv('/content/drive/MyDrive/sample_dataset/tweet.csv')\n",
        "indo_dict = open(\"/content/drive/MyDrive/sample_dataset/slangword.txt\").read()\n",
        "\n",
        "display(data_normalized_tweet)"
      ],
      "metadata": {
        "colab": {
          "base_uri": "https://localhost:8080/",
          "height": 424
        },
        "id": "8kWn51Z4YW6q",
        "outputId": "69a31028-54a5-49cc-8cbd-f8b2904bfa7e"
      },
      "execution_count": null,
      "outputs": [
        {
          "output_type": "display_data",
          "data": {
            "text/plain": [
              "      Unnamed: 0                                              tweet\n",
              "0              0  kata prabowo indonesia tidak harga bangsa asin...\n",
              "1              1  batu langka tasbih jokowi hadiah habib luthfi ...\n",
              "2              2            era jokowi ekonomi indonesia makin baik\n",
              "3              3  sumatera selatan asi games dampak pd ekonomi l...\n",
              "4              4  negara ngutang buat bngun infrastruktur udah d...\n",
              "...          ...                                                ...\n",
              "1810        1810  negarawan sejati sll bangga depan harga diri b...\n",
              "1811        1811  1 hrs ceramah damai indonesia 2 ekonomi makin ...\n",
              "1812        1812  bangun bangsa dgn dukung ekonomi negara sama p...\n",
              "1813        1813      bantu maju ekonomi bangsa sama pak jokowi yuk\n",
              "1814        1814  pak jokowi ubah cara pandang ekonomi kini semu...\n",
              "\n",
              "[1815 rows x 2 columns]"
            ],
            "text/html": [
              "\n",
              "  <div id=\"df-386933a2-e87e-477a-92eb-5f2c98059160\" class=\"colab-df-container\">\n",
              "    <div>\n",
              "<style scoped>\n",
              "    .dataframe tbody tr th:only-of-type {\n",
              "        vertical-align: middle;\n",
              "    }\n",
              "\n",
              "    .dataframe tbody tr th {\n",
              "        vertical-align: top;\n",
              "    }\n",
              "\n",
              "    .dataframe thead th {\n",
              "        text-align: right;\n",
              "    }\n",
              "</style>\n",
              "<table border=\"1\" class=\"dataframe\">\n",
              "  <thead>\n",
              "    <tr style=\"text-align: right;\">\n",
              "      <th></th>\n",
              "      <th>Unnamed: 0</th>\n",
              "      <th>tweet</th>\n",
              "    </tr>\n",
              "  </thead>\n",
              "  <tbody>\n",
              "    <tr>\n",
              "      <th>0</th>\n",
              "      <td>0</td>\n",
              "      <td>kata prabowo indonesia tidak harga bangsa asin...</td>\n",
              "    </tr>\n",
              "    <tr>\n",
              "      <th>1</th>\n",
              "      <td>1</td>\n",
              "      <td>batu langka tasbih jokowi hadiah habib luthfi ...</td>\n",
              "    </tr>\n",
              "    <tr>\n",
              "      <th>2</th>\n",
              "      <td>2</td>\n",
              "      <td>era jokowi ekonomi indonesia makin baik</td>\n",
              "    </tr>\n",
              "    <tr>\n",
              "      <th>3</th>\n",
              "      <td>3</td>\n",
              "      <td>sumatera selatan asi games dampak pd ekonomi l...</td>\n",
              "    </tr>\n",
              "    <tr>\n",
              "      <th>4</th>\n",
              "      <td>4</td>\n",
              "      <td>negara ngutang buat bngun infrastruktur udah d...</td>\n",
              "    </tr>\n",
              "    <tr>\n",
              "      <th>...</th>\n",
              "      <td>...</td>\n",
              "      <td>...</td>\n",
              "    </tr>\n",
              "    <tr>\n",
              "      <th>1810</th>\n",
              "      <td>1810</td>\n",
              "      <td>negarawan sejati sll bangga depan harga diri b...</td>\n",
              "    </tr>\n",
              "    <tr>\n",
              "      <th>1811</th>\n",
              "      <td>1811</td>\n",
              "      <td>1 hrs ceramah damai indonesia 2 ekonomi makin ...</td>\n",
              "    </tr>\n",
              "    <tr>\n",
              "      <th>1812</th>\n",
              "      <td>1812</td>\n",
              "      <td>bangun bangsa dgn dukung ekonomi negara sama p...</td>\n",
              "    </tr>\n",
              "    <tr>\n",
              "      <th>1813</th>\n",
              "      <td>1813</td>\n",
              "      <td>bantu maju ekonomi bangsa sama pak jokowi yuk</td>\n",
              "    </tr>\n",
              "    <tr>\n",
              "      <th>1814</th>\n",
              "      <td>1814</td>\n",
              "      <td>pak jokowi ubah cara pandang ekonomi kini semu...</td>\n",
              "    </tr>\n",
              "  </tbody>\n",
              "</table>\n",
              "<p>1815 rows × 2 columns</p>\n",
              "</div>\n",
              "    <div class=\"colab-df-buttons\">\n",
              "\n",
              "  <div class=\"colab-df-container\">\n",
              "    <button class=\"colab-df-convert\" onclick=\"convertToInteractive('df-386933a2-e87e-477a-92eb-5f2c98059160')\"\n",
              "            title=\"Convert this dataframe to an interactive table.\"\n",
              "            style=\"display:none;\">\n",
              "\n",
              "  <svg xmlns=\"http://www.w3.org/2000/svg\" height=\"24px\" viewBox=\"0 -960 960 960\">\n",
              "    <path d=\"M120-120v-720h720v720H120Zm60-500h600v-160H180v160Zm220 220h160v-160H400v160Zm0 220h160v-160H400v160ZM180-400h160v-160H180v160Zm440 0h160v-160H620v160ZM180-180h160v-160H180v160Zm440 0h160v-160H620v160Z\"/>\n",
              "  </svg>\n",
              "    </button>\n",
              "\n",
              "  <style>\n",
              "    .colab-df-container {\n",
              "      display:flex;\n",
              "      gap: 12px;\n",
              "    }\n",
              "\n",
              "    .colab-df-convert {\n",
              "      background-color: #E8F0FE;\n",
              "      border: none;\n",
              "      border-radius: 50%;\n",
              "      cursor: pointer;\n",
              "      display: none;\n",
              "      fill: #1967D2;\n",
              "      height: 32px;\n",
              "      padding: 0 0 0 0;\n",
              "      width: 32px;\n",
              "    }\n",
              "\n",
              "    .colab-df-convert:hover {\n",
              "      background-color: #E2EBFA;\n",
              "      box-shadow: 0px 1px 2px rgba(60, 64, 67, 0.3), 0px 1px 3px 1px rgba(60, 64, 67, 0.15);\n",
              "      fill: #174EA6;\n",
              "    }\n",
              "\n",
              "    .colab-df-buttons div {\n",
              "      margin-bottom: 4px;\n",
              "    }\n",
              "\n",
              "    [theme=dark] .colab-df-convert {\n",
              "      background-color: #3B4455;\n",
              "      fill: #D2E3FC;\n",
              "    }\n",
              "\n",
              "    [theme=dark] .colab-df-convert:hover {\n",
              "      background-color: #434B5C;\n",
              "      box-shadow: 0px 1px 3px 1px rgba(0, 0, 0, 0.15);\n",
              "      filter: drop-shadow(0px 1px 2px rgba(0, 0, 0, 0.3));\n",
              "      fill: #FFFFFF;\n",
              "    }\n",
              "  </style>\n",
              "\n",
              "    <script>\n",
              "      const buttonEl =\n",
              "        document.querySelector('#df-386933a2-e87e-477a-92eb-5f2c98059160 button.colab-df-convert');\n",
              "      buttonEl.style.display =\n",
              "        google.colab.kernel.accessAllowed ? 'block' : 'none';\n",
              "\n",
              "      async function convertToInteractive(key) {\n",
              "        const element = document.querySelector('#df-386933a2-e87e-477a-92eb-5f2c98059160');\n",
              "        const dataTable =\n",
              "          await google.colab.kernel.invokeFunction('convertToInteractive',\n",
              "                                                    [key], {});\n",
              "        if (!dataTable) return;\n",
              "\n",
              "        const docLinkHtml = 'Like what you see? Visit the ' +\n",
              "          '<a target=\"_blank\" href=https://colab.research.google.com/notebooks/data_table.ipynb>data table notebook</a>'\n",
              "          + ' to learn more about interactive tables.';\n",
              "        element.innerHTML = '';\n",
              "        dataTable['output_type'] = 'display_data';\n",
              "        await google.colab.output.renderOutput(dataTable, element);\n",
              "        const docLink = document.createElement('div');\n",
              "        docLink.innerHTML = docLinkHtml;\n",
              "        element.appendChild(docLink);\n",
              "      }\n",
              "    </script>\n",
              "  </div>\n",
              "\n",
              "\n",
              "<div id=\"df-52ea5a51-f389-4444-8ee2-fa5d1a8a8546\">\n",
              "  <button class=\"colab-df-quickchart\" onclick=\"quickchart('df-52ea5a51-f389-4444-8ee2-fa5d1a8a8546')\"\n",
              "            title=\"Suggest charts.\"\n",
              "            style=\"display:none;\">\n",
              "\n",
              "<svg xmlns=\"http://www.w3.org/2000/svg\" height=\"24px\"viewBox=\"0 0 24 24\"\n",
              "     width=\"24px\">\n",
              "    <g>\n",
              "        <path d=\"M19 3H5c-1.1 0-2 .9-2 2v14c0 1.1.9 2 2 2h14c1.1 0 2-.9 2-2V5c0-1.1-.9-2-2-2zM9 17H7v-7h2v7zm4 0h-2V7h2v10zm4 0h-2v-4h2v4z\"/>\n",
              "    </g>\n",
              "</svg>\n",
              "  </button>\n",
              "\n",
              "<style>\n",
              "  .colab-df-quickchart {\n",
              "      --bg-color: #E8F0FE;\n",
              "      --fill-color: #1967D2;\n",
              "      --hover-bg-color: #E2EBFA;\n",
              "      --hover-fill-color: #174EA6;\n",
              "      --disabled-fill-color: #AAA;\n",
              "      --disabled-bg-color: #DDD;\n",
              "  }\n",
              "\n",
              "  [theme=dark] .colab-df-quickchart {\n",
              "      --bg-color: #3B4455;\n",
              "      --fill-color: #D2E3FC;\n",
              "      --hover-bg-color: #434B5C;\n",
              "      --hover-fill-color: #FFFFFF;\n",
              "      --disabled-bg-color: #3B4455;\n",
              "      --disabled-fill-color: #666;\n",
              "  }\n",
              "\n",
              "  .colab-df-quickchart {\n",
              "    background-color: var(--bg-color);\n",
              "    border: none;\n",
              "    border-radius: 50%;\n",
              "    cursor: pointer;\n",
              "    display: none;\n",
              "    fill: var(--fill-color);\n",
              "    height: 32px;\n",
              "    padding: 0;\n",
              "    width: 32px;\n",
              "  }\n",
              "\n",
              "  .colab-df-quickchart:hover {\n",
              "    background-color: var(--hover-bg-color);\n",
              "    box-shadow: 0 1px 2px rgba(60, 64, 67, 0.3), 0 1px 3px 1px rgba(60, 64, 67, 0.15);\n",
              "    fill: var(--button-hover-fill-color);\n",
              "  }\n",
              "\n",
              "  .colab-df-quickchart-complete:disabled,\n",
              "  .colab-df-quickchart-complete:disabled:hover {\n",
              "    background-color: var(--disabled-bg-color);\n",
              "    fill: var(--disabled-fill-color);\n",
              "    box-shadow: none;\n",
              "  }\n",
              "\n",
              "  .colab-df-spinner {\n",
              "    border: 2px solid var(--fill-color);\n",
              "    border-color: transparent;\n",
              "    border-bottom-color: var(--fill-color);\n",
              "    animation:\n",
              "      spin 1s steps(1) infinite;\n",
              "  }\n",
              "\n",
              "  @keyframes spin {\n",
              "    0% {\n",
              "      border-color: transparent;\n",
              "      border-bottom-color: var(--fill-color);\n",
              "      border-left-color: var(--fill-color);\n",
              "    }\n",
              "    20% {\n",
              "      border-color: transparent;\n",
              "      border-left-color: var(--fill-color);\n",
              "      border-top-color: var(--fill-color);\n",
              "    }\n",
              "    30% {\n",
              "      border-color: transparent;\n",
              "      border-left-color: var(--fill-color);\n",
              "      border-top-color: var(--fill-color);\n",
              "      border-right-color: var(--fill-color);\n",
              "    }\n",
              "    40% {\n",
              "      border-color: transparent;\n",
              "      border-right-color: var(--fill-color);\n",
              "      border-top-color: var(--fill-color);\n",
              "    }\n",
              "    60% {\n",
              "      border-color: transparent;\n",
              "      border-right-color: var(--fill-color);\n",
              "    }\n",
              "    80% {\n",
              "      border-color: transparent;\n",
              "      border-right-color: var(--fill-color);\n",
              "      border-bottom-color: var(--fill-color);\n",
              "    }\n",
              "    90% {\n",
              "      border-color: transparent;\n",
              "      border-bottom-color: var(--fill-color);\n",
              "    }\n",
              "  }\n",
              "</style>\n",
              "\n",
              "  <script>\n",
              "    async function quickchart(key) {\n",
              "      const quickchartButtonEl =\n",
              "        document.querySelector('#' + key + ' button');\n",
              "      quickchartButtonEl.disabled = true;  // To prevent multiple clicks.\n",
              "      quickchartButtonEl.classList.add('colab-df-spinner');\n",
              "      try {\n",
              "        const charts = await google.colab.kernel.invokeFunction(\n",
              "            'suggestCharts', [key], {});\n",
              "      } catch (error) {\n",
              "        console.error('Error during call to suggestCharts:', error);\n",
              "      }\n",
              "      quickchartButtonEl.classList.remove('colab-df-spinner');\n",
              "      quickchartButtonEl.classList.add('colab-df-quickchart-complete');\n",
              "    }\n",
              "    (() => {\n",
              "      let quickchartButtonEl =\n",
              "        document.querySelector('#df-52ea5a51-f389-4444-8ee2-fa5d1a8a8546 button');\n",
              "      quickchartButtonEl.style.display =\n",
              "        google.colab.kernel.accessAllowed ? 'block' : 'none';\n",
              "    })();\n",
              "  </script>\n",
              "</div>\n",
              "    </div>\n",
              "  </div>\n"
            ]
          },
          "metadata": {}
        }
      ]
    },
    {
      "cell_type": "markdown",
      "source": [
        "# Spell Checking"
      ],
      "metadata": {
        "id": "TvEA69TKbSfI"
      }
    },
    {
      "cell_type": "code",
      "source": [
        "def create_spell_check_dictionary(spell_check_data):\n",
        "    spell_check_dict = {}\n",
        "    lines = spell_check_data.strip().split(\"\\n\")\n",
        "    for line in lines:\n",
        "        key, value = line.split(\":\")\n",
        "        spell_check_dict[key] = value\n",
        "    return spell_check_dict"
      ],
      "metadata": {
        "id": "fygGiecvmLlk"
      },
      "execution_count": null,
      "outputs": []
    },
    {
      "cell_type": "code",
      "source": [
        "spell_dictionary = create_spell_check_dictionary(indo_dict)\n",
        "spell_dictionary"
      ],
      "metadata": {
        "colab": {
          "base_uri": "https://localhost:8080/"
        },
        "id": "L6xZcBLkEhY2",
        "outputId": "d4f707d1-4e4d-4428-b8e7-9e4faab455e1"
      },
      "execution_count": null,
      "outputs": [
        {
          "output_type": "execute_result",
          "data": {
            "text/plain": [
              "{'&': 'dan',\n",
              " '+': 'tambah',\n",
              " '/': 'atau',\n",
              " '=': 'sama dengan',\n",
              " 'ababil': 'anak ingusan',\n",
              " 'abal2': 'palsu',\n",
              " 'abal': 'palsu',\n",
              " 'ad': 'ada',\n",
              " 'akooh': 'aku',\n",
              " 'alay': 'norak',\n",
              " 'albm': 'album',\n",
              " 'ampe': 'sampai',\n",
              " 'anjir': 'waw',\n",
              " 'anyway': 'ngomong-ngomong',\n",
              " 'aq': 'aku',\n",
              " 'asap': 'secepatnya',\n",
              " 'ato': 'atau',\n",
              " 'atw': 'atau',\n",
              " 'ava': 'foto profil',\n",
              " 'baget': 'keras kepala',\n",
              " 'baper': 'bawa perasaan',\n",
              " 'bapuk': 'rusak',\n",
              " 'bcr': 'bicara',\n",
              " 'bebeb': 'pacar',\n",
              " 'begin': 'awal',\n",
              " 'bejibun': 'bertumpuk banyak',\n",
              " 'bener': 'benar',\n",
              " 'ber2': 'berdua',\n",
              " 'ber3': 'bertiga',\n",
              " 'better': 'lebih baik',\n",
              " 'bf': 'pacar',\n",
              " 'bgt': 'banget',\n",
              " 'bhas': 'bahas',\n",
              " 'bhg': 'bahagia',\n",
              " 'bikin': 'buat',\n",
              " 'binggo': 'banget',\n",
              " 'bingit': 'banget',\n",
              " 'bklan': 'bakalan',\n",
              " 'bkn': 'bukan',\n",
              " 'blg': 'bilang',\n",
              " 'bnr': 'benar',\n",
              " 'bnyk': 'banyak',\n",
              " 'br': 'baru',\n",
              " 'brb': 'akan segera kembali',\n",
              " 'brjaya': 'berjaya',\n",
              " 'bs': 'bisa',\n",
              " 'bsk': 'besok',\n",
              " 'btw': 'ngomong-ngomong',\n",
              " 'cm': 'cuma',\n",
              " 'cmiiw': 'koreksi saya',\n",
              " 'cnt': 'cinta',\n",
              " 'congrats': 'selamat',\n",
              " 'crop': 'potong',\n",
              " 'cya': 'sampai jumpa lagi',\n",
              " 'd': 'di',\n",
              " 'da': 'ada',\n",
              " 'dafuk': 'kurang ajar',\n",
              " 'damat': 'tidak peduli',\n",
              " 'dempa': 'demi apa',\n",
              " 'dgn': 'dengan',\n",
              " 'dkt': 'dekat',\n",
              " 'dlm': 'dalam',\n",
              " 'dlu': 'dulu',\n",
              " 'dmn': 'dimana',\n",
              " 'dpt': 'dapat',\n",
              " 'dr': 'dari',\n",
              " 'drpd': 'daripada',\n",
              " 'dsna': 'disana',\n",
              " 'dugem': 'dunia gemerlap',\n",
              " 'elo': 'kamu',\n",
              " 'elu': 'kamu',\n",
              " 'emg': 'memang',\n",
              " 'epsd': 'episode',\n",
              " 'fake': 'falsu',\n",
              " 'fans': 'penggemar',\n",
              " 'faq': 'pertanyaan umum',\n",
              " 'fham': 'paham',\n",
              " 'fhm': 'paham',\n",
              " 'fix': 'pasti',\n",
              " 'ft': 'foto',\n",
              " 'fyi': 'asal tahu saja',\n",
              " 'g': 'tidak',\n",
              " 'ga': 'tidak',\n",
              " 'gaada': 'tidak ada',\n",
              " 'gabut': 'gaji buta',\n",
              " 'gada': 'tidak ada',\n",
              " 'gajebo': 'tidak jelas',\n",
              " 'gak': 'tidak',\n",
              " 'galau': 'bimbang',\n",
              " 'garing': 'hambar',\n",
              " 'gatau': 'tidak tahu',\n",
              " 'geje': 'tidak jelas',\n",
              " 'gengges': 'ganggu',\n",
              " 'gf': 'pacar',\n",
              " 'ggl': 'gagal',\n",
              " 'gk': 'tidak',\n",
              " 'gmn': 'bagaimana',\n",
              " 'gmpng': 'gampang',\n",
              " 'gogon': 'go internasional',\n",
              " 'gokil': 'gila',\n",
              " 'gpp': 'tidak apa-apa',\n",
              " 'grammar': 'tata bahasa',\n",
              " 'gt': 'gitu',\n",
              " 'gue': 'aku',\n",
              " 'gw': 'aku',\n",
              " 'hacep': 'pesta pora',\n",
              " 'hater': 'pembenci',\n",
              " 'haters': 'pembenci',\n",
              " 'hdp': 'hidup',\n",
              " 'hdr': 'hadir',\n",
              " 'hit': 'terpopuler',\n",
              " 'hits': 'terkini',\n",
              " 'hoax': 'palsu',\n",
              " 'ig': 'instagram',\n",
              " 'indo': 'indonesia',\n",
              " 'iow': 'dengan kata lain',\n",
              " 'ipon': 'iphone',\n",
              " 'jd': 'jadi',\n",
              " 'jdi': 'jadi',\n",
              " 'jdnya': 'jadinya',\n",
              " 'jg': 'juga',\n",
              " 'jgan': 'jangan',\n",
              " 'jgn': 'jangan',\n",
              " 'jl': 'jalan',\n",
              " 'jln': 'jalan',\n",
              " 'jls': 'jelas',\n",
              " 'jutek': 'galak',\n",
              " 'kamseupay': 'kampungan',\n",
              " 'karn': 'karena',\n",
              " 'kbr': 'kabar',\n",
              " 'kca': 'kaca',\n",
              " 'keknya': 'kayaknya',\n",
              " 'keles': 'kali',\n",
              " 'keleus': 'kali',\n",
              " 'kepo': 'penasaran',\n",
              " 'kgk': 'kagak',\n",
              " 'kicep': 'diam',\n",
              " 'kipak': 'bohong',\n",
              " 'kk': 'kakak',\n",
              " 'kl': 'kalau',\n",
              " 'klo': 'kalau',\n",
              " 'klon': 'duplikat',\n",
              " 'klrg': 'keluarga',\n",
              " 'klu': 'kalau',\n",
              " 'km': 'kamu',\n",
              " 'kmn': 'kemana',\n",
              " 'kmrn': 'kemarin',\n",
              " 'kn': 'kan',\n",
              " 'knp': 'kenapa',\n",
              " 'kongkow': 'kumpul-kumpul',\n",
              " 'kpd': 'kepada',\n",
              " 'kpn': 'kapan',\n",
              " 'krn': 'karena',\n",
              " 'krna': 'karena',\n",
              " 'ktny': 'katanya',\n",
              " 'kumkeb': 'kumpul kebo',\n",
              " 'kyk': 'kayak',\n",
              " 'kzl': 'kesal',\n",
              " 'lebay': 'berlebihan',\n",
              " 'lebeh': 'berlebihan',\n",
              " 'lg': 'lagi',\n",
              " 'lgs': 'langsung',\n",
              " 'liat': 'lihat',\n",
              " 'lnjut': 'lanjut',\n",
              " 'lo': 'kamu',\n",
              " 'lol': 'tertawa',\n",
              " 'love': 'cinta',\n",
              " 'lwt': 'lewat',\n",
              " 'maaci': 'terima kasih',\n",
              " 'mabok': 'mabuk',\n",
              " 'mager': 'malas gerak',\n",
              " 'maharani': 'mahal',\n",
              " 'maho': 'homoseksual',\n",
              " 'mainstream': 'sangat umum',\n",
              " 'males': 'malas',\n",
              " 'mcm': 'macam',\n",
              " 'mehong': 'mahal',\n",
              " 'meneketehe': 'tidak tahu',\n",
              " 'menel': 'centil',\n",
              " 'mgkn': 'mungkin',\n",
              " 'mimin': 'admin',\n",
              " 'minn': 'admin',\n",
              " 'mkn': 'makan',\n",
              " 'mksd': 'maksud',\n",
              " 'mlm': 'malam',\n",
              " 'mls': 'malas',\n",
              " 'mmg': 'memang',\n",
              " 'modus': 'maksud lain',\n",
              " 'mrk': 'mereka',\n",
              " 'mrka': 'mereka',\n",
              " 'much': 'lebih',\n",
              " 'mure': 'murah',\n",
              " 'mw': 'mau',\n",
              " 'n': 'dan',\n",
              " 'ngeh': 'paham',\n",
              " 'ngeuh': 'paham',\n",
              " 'nggak': 'tidak',\n",
              " 'nggu': 'menunggu',\n",
              " 'ngk': 'tidak',\n",
              " 'nic': 'penggemar agnezmo',\n",
              " 'nice': 'bagus',\n",
              " 'nicong': 'penggemar agnezmo',\n",
              " 'nmr': 'nomor',\n",
              " 'nongkrong': 'kumpul-kumpul',\n",
              " 'ntn': 'nonton',\n",
              " 'nyungsep': 'jatuh',\n",
              " 'official': 'resmi',\n",
              " 'olh': 'oleh',\n",
              " 'or': 'atau',\n",
              " 'org': 'orang',\n",
              " 'pa': 'apa',\n",
              " 'pake': 'pakai',\n",
              " 'palbis': 'paling bisa',\n",
              " 'pcr': 'pacar',\n",
              " 'pcran': 'pacaran',\n",
              " 'pd': 'pada',\n",
              " 'pdhal': 'padahal',\n",
              " 'peres': 'palsu',\n",
              " 'pg': 'pagi',\n",
              " 'pgg': 'pegang',\n",
              " 'php': 'pemberi harapan palsu',\n",
              " 'pk': 'pakai',\n",
              " 'plg': 'pulang',\n",
              " 'pls': 'tolong',\n",
              " 'pnh': 'pernah',\n",
              " 'pntg': 'penting',\n",
              " 'pny': 'punya',\n",
              " 'prasmul': 'perasaan saja',\n",
              " 'prcya': 'percaya',\n",
              " 'prnh': 'pernah',\n",
              " 'pst': 'pesat',\n",
              " 'recokin': 'ganggu',\n",
              " 'rempong': 'repot',\n",
              " 'ri': 'republik indonesia',\n",
              " 'rotfl': 'tertawa',\n",
              " 'sabeb': 'bebas',\n",
              " 'schedule': 'jadwal',\n",
              " 'sdh': 'sudah',\n",
              " 'selow': 'santai',\n",
              " 'sgt': 'sangat',\n",
              " 'sgtu': 'segitu',\n",
              " 'sgtuny': 'segitunya',\n",
              " 'sh': 'masih',\n",
              " 'sjjurny': 'sejujurnya',\n",
              " 'skali': 'sekali',\n",
              " 'skrg': 'sekarang',\n",
              " 'slh': 'salah',\n",
              " 'sll': 'selalu',\n",
              " 'sm': 'sama',\n",
              " 'smg': 'semoga',\n",
              " 'smga': 'semoga',\n",
              " 'smw': 'semua',\n",
              " 'smwnya': 'semuanya',\n",
              " 'stage': 'panggung',\n",
              " 'stj': 'setuju',\n",
              " 'stuju': 'setuju',\n",
              " 'sy': 'saya',\n",
              " 'sya': 'saya',\n",
              " 'syg': 'sayang',\n",
              " 'td': 'tadi',\n",
              " 'tdk': 'tidak',\n",
              " 'tengsin': 'malu',\n",
              " 'thn': 'tahun',\n",
              " 'tik': 'cantik',\n",
              " 'tkt': 'takut',\n",
              " 'tp': 'tapi',\n",
              " 'tpii': 'tapi',\n",
              " 'trs': 'terus',\n",
              " 'trus': 'terus',\n",
              " 'ttg': 'tentang',\n",
              " 'ttp': 'tetap',\n",
              " 'tw': 'tau',\n",
              " 'typo': 'salah tulis',\n",
              " 'u': 'you',\n",
              " 'unyu': 'menggemaskan',\n",
              " 'with': 'dengan',\n",
              " 'woles': 'santai',\n",
              " 'wtf': 'apa-apaan',\n",
              " 'x': 'kali',\n",
              " 'y': 'ya',\n",
              " 'yg': 'yang',\n",
              " 'hrs': 'harus',\n",
              " 'ngga': 'tidak',\n",
              " 'utk': 'untuk',\n",
              " 'udh': 'sudah',\n",
              " 'byk': 'banyak',\n",
              " 'bpk': 'bapak',\n",
              " 'pak': 'bapak',\n",
              " 'gen': 'generasi'}"
            ]
          },
          "metadata": {},
          "execution_count": 6
        }
      ]
    },
    {
      "cell_type": "code",
      "source": [
        "def tweet_spell_check(tweet):\n",
        "    # Split tweet into words\n",
        "    words = tweet.split()\n",
        "\n",
        "    # Initialize a list to store corrected words\n",
        "    corrected_words = []\n",
        "\n",
        "    # Iterate through words in the tweet\n",
        "    for word in words:\n",
        "        # Check if the word is in the spell check dictionary\n",
        "        if word in spell_dictionary:\n",
        "            corrected_word = spell_dictionary[word]\n",
        "            corrected_words.append(corrected_word)\n",
        "        else:\n",
        "            corrected_words.append(word)  # Keep the word as is if not found in the dictionary\n",
        "\n",
        "    # Join the corrected words back into a tweet\n",
        "    corrected_tweet = ' '.join(corrected_words)\n",
        "\n",
        "    return corrected_tweet"
      ],
      "metadata": {
        "id": "BKNXb5MqEzwa"
      },
      "execution_count": null,
      "outputs": []
    },
    {
      "cell_type": "code",
      "source": [
        "tweet_spell_corrected = []\n",
        "\n",
        "for idx in range(len(data_normalized_tweet['tweet'])):\n",
        "    corrected = tweet_spell_check(data_normalized_tweet['tweet'][idx])\n",
        "    tweet_spell_corrected.append(corrected)\n",
        "\n",
        "display(data_normalized_tweet['tweet'][248])\n",
        "display(tweet_spell_corrected[248])"
      ],
      "metadata": {
        "colab": {
          "base_uri": "https://localhost:8080/",
          "height": 106
        },
        "id": "4JSqGt9IE3f-",
        "outputId": "8c0f6e64-a342-4943-b0ec-5ce2dc284991"
      },
      "execution_count": null,
      "outputs": [
        {
          "output_type": "display_data",
          "data": {
            "text/plain": [
              "'pikir kembang esport main doang aplikasi yg smartphone byk yg mulai dr main doang terus jd aplikasi2 yg byk manfaat kata siapa anggur gaji byk baca buka wawas jgn mpermalukan gen z'"
            ],
            "application/vnd.google.colaboratory.intrinsic+json": {
              "type": "string"
            }
          },
          "metadata": {}
        },
        {
          "output_type": "display_data",
          "data": {
            "text/plain": [
              "'pikir kembang esport main doang aplikasi yang smartphone banyak yang mulai dari main doang terus jadi aplikasi2 yang banyak manfaat kata siapa anggur gaji banyak baca buka wawas jangan mpermalukan generasi z'"
            ],
            "application/vnd.google.colaboratory.intrinsic+json": {
              "type": "string"
            }
          },
          "metadata": {}
        }
      ]
    },
    {
      "cell_type": "markdown",
      "source": [
        "# Stopwords Removing"
      ],
      "metadata": {
        "id": "i7ZC-jGdE57B"
      }
    },
    {
      "cell_type": "code",
      "source": [
        "raw_stopwords = ['yang', 'untuk', 'pada', 'ke', 'para', 'namun', 'menurut', 'antara', 'dia', 'dua', 'ia', 'seperti', 'jika', 'jika', 'sehingga', 'kembali', 'dan', 'ini', 'karena', 'kepada', 'oleh', 'saat', 'harus', 'sementara', 'setelah', 'belum', 'kami', 'sekitar', 'bagi', 'serta', 'di', 'dari', 'telah', 'sebagai', 'masih', 'hal', 'ketika', 'adalah', 'itu', 'dalam', 'bisa', 'bahwa', 'atau', 'hanya', 'kita', 'dengan', 'akan', 'juga', 'ada', 'mereka', 'sudah', 'saya', 'terhadap', 'secara', 'agar', 'lain', 'anda', 'begitu', 'mengapa', 'kenapa', 'yaitu', 'yakni', 'daripada', 'itulah', 'lagi', 'maka', 'tentang', 'demi', 'dimana', 'kemana', 'pula', 'sambil', 'sebelum', 'sesudah', 'supaya', 'guna', 'kah', 'pun', 'sampai', 'sedangkan', 'selagi', 'sementara', 'tetapi', 'apakah', 'kecuali', 'sebab', 'selain', 'seolah', 'seraya', 'seterusnya', 'tanpa', 'agak', 'boleh', 'dapat', 'dsb', 'dst', 'dll', 'dahulu', 'dulunya', 'anu', 'demikian', 'tapi', 'ingin', 'juga', 'nggak', 'mari', 'nanti', 'melainkan', 'oh', 'ok', 'seharusnya', 'sebetulnya', 'setiap', 'setidaknya', 'sesuatu', 'pasti', 'saja', 'toh', 'walau', 'tolong', 'tentu', 'amat', 'apalagi', 'bagaimanapun']"
      ],
      "metadata": {
        "id": "NkCoios2E9ap"
      },
      "execution_count": null,
      "outputs": []
    },
    {
      "cell_type": "code",
      "source": [
        "def remove_stopwords_indo(text):\n",
        "    # Kode untuk menghapus stopwords\n",
        "    text_lower = text.lower()\n",
        "    stop_words = set(raw_stopwords)\n",
        "    tokens = word_tokenize(text_lower)\n",
        "    filtered_tokens = [token for token in tokens if token.lower() not in stop_words]\n",
        "    cleaned_text = ' '.join(filtered_tokens)\n",
        "    return cleaned_text"
      ],
      "metadata": {
        "id": "3xnBbX3CFERG"
      },
      "execution_count": null,
      "outputs": []
    },
    {
      "cell_type": "code",
      "source": [
        "tweet_no_stopwords = []\n",
        "\n",
        "for idx in range(len(tweet_spell_corrected)):\n",
        "    cleaned = remove_stopwords_indo(tweet_spell_corrected[idx])\n",
        "    tweet_no_stopwords.append(cleaned)\n",
        "\n",
        "display(tweet_spell_corrected[248])\n",
        "display(tweet_no_stopwords[248])"
      ],
      "metadata": {
        "colab": {
          "base_uri": "https://localhost:8080/",
          "height": 106
        },
        "id": "j2rJDbWaFGty",
        "outputId": "35c09ce3-5156-48f6-ad6d-704aa5e6bafe"
      },
      "execution_count": null,
      "outputs": [
        {
          "output_type": "display_data",
          "data": {
            "text/plain": [
              "'pikir kembang esport main doang aplikasi yang smartphone banyak yang mulai dari main doang terus jadi aplikasi2 yang banyak manfaat kata siapa anggur gaji banyak baca buka wawas jangan mpermalukan generasi z'"
            ],
            "application/vnd.google.colaboratory.intrinsic+json": {
              "type": "string"
            }
          },
          "metadata": {}
        },
        {
          "output_type": "display_data",
          "data": {
            "text/plain": [
              "'pikir kembang esport main doang aplikasi smartphone banyak mulai main doang terus jadi aplikasi2 banyak manfaat kata siapa anggur gaji banyak baca buka wawas jangan mpermalukan generasi z'"
            ],
            "application/vnd.google.colaboratory.intrinsic+json": {
              "type": "string"
            }
          },
          "metadata": {}
        }
      ]
    },
    {
      "cell_type": "markdown",
      "source": [
        "# Normalization Stemming"
      ],
      "metadata": {
        "id": "JOnVWZlyFRHP"
      }
    },
    {
      "cell_type": "code",
      "source": [
        "def normalization_stemming(text):\n",
        "  stemmer = StemmerFactory().create_stemmer()\n",
        "  cleaned_text = stemmer.stem(text)\n",
        "  return cleaned_text"
      ],
      "metadata": {
        "id": "NsxEjoKVFPOJ"
      },
      "execution_count": null,
      "outputs": []
    },
    {
      "cell_type": "code",
      "source": [
        "tweet_stemmed = []\n",
        "for idx in range(len(tweet_no_stopwords)):\n",
        "    normalized = normalization_stemming(tweet_no_stopwords[idx])\n",
        "    tweet_stemmed.append(normalized)\n",
        "\n",
        "display(tweet_no_stopwords[1])\n",
        "display(tweet_stemmed[1])"
      ],
      "metadata": {
        "colab": {
          "base_uri": "https://localhost:8080/",
          "height": 54
        },
        "id": "_oufgaIOFlBx",
        "outputId": "c874fc93-cdcd-4e27-b736-56c64e579d63"
      },
      "execution_count": null,
      "outputs": [
        {
          "output_type": "display_data",
          "data": {
            "text/plain": [
              "'batu langka tasbih jokowi hadiah habib luthfi harga mercy'"
            ],
            "application/vnd.google.colaboratory.intrinsic+json": {
              "type": "string"
            }
          },
          "metadata": {}
        },
        {
          "output_type": "display_data",
          "data": {
            "text/plain": [
              "'batu langka tasbih jokowi hadiah habib luthfi harga mercy'"
            ],
            "application/vnd.google.colaboratory.intrinsic+json": {
              "type": "string"
            }
          },
          "metadata": {}
        }
      ]
    },
    {
      "cell_type": "code",
      "source": [
        "display(tweet_no_stopwords[1])\n",
        "display(tweet_stemmed[1])\n",
        "print('--'*30)\n",
        "display(tweet_no_stopwords[2])\n",
        "display(tweet_stemmed[2])\n",
        "print('--'*30)\n",
        "display(tweet_no_stopwords[3])\n",
        "display(tweet_stemmed[3])\n",
        "print('--'*30)\n",
        "display(tweet_no_stopwords[4])\n",
        "display(tweet_stemmed[4])\n",
        "print('--'*30)\n",
        "display(tweet_no_stopwords[5])\n",
        "display(tweet_stemmed[5])\n",
        "print('--'*30)"
      ],
      "metadata": {
        "colab": {
          "base_uri": "https://localhost:8080/",
          "height": 392
        },
        "id": "59O6_-acFyD0",
        "outputId": "4515c633-797a-408b-872f-3581fbbbfd30"
      },
      "execution_count": null,
      "outputs": [
        {
          "output_type": "display_data",
          "data": {
            "text/plain": [
              "'batu langka tasbih jokowi hadiah habib luthfi harga mercy'"
            ],
            "application/vnd.google.colaboratory.intrinsic+json": {
              "type": "string"
            }
          },
          "metadata": {}
        },
        {
          "output_type": "display_data",
          "data": {
            "text/plain": [
              "'batu langka tasbih jokowi hadiah habib luthfi harga mercy'"
            ],
            "application/vnd.google.colaboratory.intrinsic+json": {
              "type": "string"
            }
          },
          "metadata": {}
        },
        {
          "output_type": "stream",
          "name": "stdout",
          "text": [
            "------------------------------------------------------------\n"
          ]
        },
        {
          "output_type": "display_data",
          "data": {
            "text/plain": [
              "'era jokowi ekonomi indonesia makin baik'"
            ],
            "application/vnd.google.colaboratory.intrinsic+json": {
              "type": "string"
            }
          },
          "metadata": {}
        },
        {
          "output_type": "display_data",
          "data": {
            "text/plain": [
              "'era jokowi ekonomi indonesia makin baik'"
            ],
            "application/vnd.google.colaboratory.intrinsic+json": {
              "type": "string"
            }
          },
          "metadata": {}
        },
        {
          "output_type": "stream",
          "name": "stdout",
          "text": [
            "------------------------------------------------------------\n"
          ]
        },
        {
          "output_type": "display_data",
          "data": {
            "text/plain": [
              "'sumatera selatan asi games dampak ekonomi langsung prediksi capai 185 triliun indonesia maju jokowi hebat'"
            ],
            "application/vnd.google.colaboratory.intrinsic+json": {
              "type": "string"
            }
          },
          "metadata": {}
        },
        {
          "output_type": "display_data",
          "data": {
            "text/plain": [
              "'sumatera selatan asi games dampak ekonomi langsung prediksi capai 185 triliun indonesia maju jokowi hebat'"
            ],
            "application/vnd.google.colaboratory.intrinsic+json": {
              "type": "string"
            }
          },
          "metadata": {}
        },
        {
          "output_type": "stream",
          "name": "stdout",
          "text": [
            "------------------------------------------------------------\n"
          ]
        },
        {
          "output_type": "display_data",
          "data": {
            "text/plain": [
              "'negara ngutang buat bngun infrastruktur udah dipake masyarakat terus masyarakat ngeluh negara ngutang negara ngutang utang bayar kalo negara dapet hasil hasil negara ya pajak'"
            ],
            "application/vnd.google.colaboratory.intrinsic+json": {
              "type": "string"
            }
          },
          "metadata": {}
        },
        {
          "output_type": "display_data",
          "data": {
            "text/plain": [
              "'negara ngutang buat bngun infrastruktur udah dipake masyarakat terus masyarakat ngeluh negara ngutang negara ngutang utang bayar kalo negara dapet hasil hasil negara ya pajak'"
            ],
            "application/vnd.google.colaboratory.intrinsic+json": {
              "type": "string"
            }
          },
          "metadata": {}
        },
        {
          "output_type": "stream",
          "name": "stdout",
          "text": [
            "------------------------------------------------------------\n"
          ]
        },
        {
          "output_type": "display_data",
          "data": {
            "text/plain": [
              "'bisikin bapak jokowi cuma mikirin putar duit golong esports kecil sekian besar tumbuh ekonomi indonesia bukan fundamental betul kata prabowo bhs sederhana mrpkan aspek fundamental ekonomi'"
            ],
            "application/vnd.google.colaboratory.intrinsic+json": {
              "type": "string"
            }
          },
          "metadata": {}
        },
        {
          "output_type": "display_data",
          "data": {
            "text/plain": [
              "'bisikin bapak jokowi cuma mikirin putar duit golong esports kecil sekian besar tumbuh ekonomi indonesia bukan fundamental betul kata prabowo bhs sederhana mrpkan aspek fundamental ekonomi'"
            ],
            "application/vnd.google.colaboratory.intrinsic+json": {
              "type": "string"
            }
          },
          "metadata": {}
        },
        {
          "output_type": "stream",
          "name": "stdout",
          "text": [
            "------------------------------------------------------------\n"
          ]
        }
      ]
    },
    {
      "cell_type": "markdown",
      "source": [
        "# Tokenizer & Vectorization"
      ],
      "metadata": {
        "id": "-yrCeH4EHHV5"
      }
    },
    {
      "cell_type": "code",
      "source": [
        "tweet_stemmed = [str(text).lower() if isinstance(text, str) else str(text) for text in tweet_stemmed]\n",
        "tok = Tokenizer()\n",
        "tok.fit_on_texts(tweet_stemmed)\n",
        "tweet_vecto = tok.texts_to_sequences(tweet_stemmed)\n",
        "tweet_vecto_matrix = pad_sequences(tweet_vecto, maxlen=60)"
      ],
      "metadata": {
        "id": "Ulfv-E2QHJSx"
      },
      "execution_count": null,
      "outputs": []
    },
    {
      "cell_type": "code",
      "source": [
        "tweet_tokenized = []\n",
        "\n",
        "for idx in range(len(tweet_stemmed)):\n",
        "  tokens = word_tokenize(tweet_stemmed[idx])\n",
        "  tweet_tokenized.append(tokens)\n",
        "\n",
        "display(tweet_stemmed[10])\n",
        "display(tweet_tokenized[10])"
      ],
      "metadata": {
        "colab": {
          "base_uri": "https://localhost:8080/",
          "height": 313
        },
        "id": "XlYwlDqgdREv",
        "outputId": "de48b351-ef04-4a13-b5b2-3cc1319b4a65"
      },
      "execution_count": null,
      "outputs": [
        {
          "output_type": "display_data",
          "data": {
            "text/plain": [
              "'pilih pimpin jelas banyak capai nah 5 capai ekonomi lama perintah jokowi coblos 01 yuk kerja'"
            ],
            "application/vnd.google.colaboratory.intrinsic+json": {
              "type": "string"
            }
          },
          "metadata": {}
        },
        {
          "output_type": "display_data",
          "data": {
            "text/plain": [
              "['pilih',\n",
              " 'pimpin',\n",
              " 'jelas',\n",
              " 'banyak',\n",
              " 'capai',\n",
              " 'nah',\n",
              " '5',\n",
              " 'capai',\n",
              " 'ekonomi',\n",
              " 'lama',\n",
              " 'perintah',\n",
              " 'jokowi',\n",
              " 'coblos',\n",
              " '01',\n",
              " 'yuk',\n",
              " 'kerja']"
            ]
          },
          "metadata": {}
        }
      ]
    },
    {
      "cell_type": "code",
      "source": [
        "tweet_words_flattened = list(itertools.chain(*tweet_tokenized))\n",
        "tweet_words_count = Counter(tweet_words_flattened)\n",
        "tweet_words_count_sorted = OrderedDict(sorted(tweet_words_count.items(), key = lambda kv : kv[1], reverse=False))"
      ],
      "metadata": {
        "id": "j6E7aJF7eJdI"
      },
      "execution_count": null,
      "outputs": []
    },
    {
      "cell_type": "code",
      "source": [
        "plt.barh(\n",
        "    list(tweet_words_count_sorted.keys())[-10:],\n",
        "    list(tweet_words_count_sorted.values())[-10:]\n",
        ")\n",
        "\n",
        "plt.title('Top 10 Word Frequency')\n",
        "plt.show()"
      ],
      "metadata": {
        "colab": {
          "base_uri": "https://localhost:8080/",
          "height": 452
        },
        "id": "4TZNtLjQeQkc",
        "outputId": "4c362106-b54a-4a57-ca23-a9517f1b1f54"
      },
      "execution_count": null,
      "outputs": [
        {
          "output_type": "display_data",
          "data": {
            "text/plain": [
              "<Figure size 640x480 with 1 Axes>"
            ],
            "image/png": "[encoded data removed]"
          },
          "metadata": {}
        }
      ]
    },
    {
      "cell_type": "code",
      "source": [
        "data_tweet = pd.read_csv('/content/drive/MyDrive/sample_dataset/tweet.csv')"
      ],
      "metadata": {
        "id": "G4_mpEc2YZI9"
      },
      "execution_count": null,
      "outputs": []
    },
    {
      "cell_type": "code",
      "source": [
        "mapping = {\n",
        "    \"negatif\": 0,\n",
        "    \"netral\": 1,\n",
        "    \"positif\": 1\n",
        "}\n",
        "\n",
        "data_tweet['sentimen'] = [mapping[label] for label in data_tweet['sentimen']]\n",
        "target = data_tweet['sentimen']"
      ],
      "metadata": {
        "id": "QDJVNwDaIu0x"
      },
      "execution_count": null,
      "outputs": []
    },
    {
      "cell_type": "code",
      "source": [
        "display(len(target))\n",
        "display(target)"
      ],
      "metadata": {
        "colab": {
          "base_uri": "https://localhost:8080/",
          "height": 243
        },
        "id": "XcOd0cGVI7Zm",
        "outputId": "c7e2341e-dd3d-476c-99ef-7de2c17061a5"
      },
      "execution_count": null,
      "outputs": [
        {
          "output_type": "display_data",
          "data": {
            "text/plain": [
              "1815"
            ]
          },
          "metadata": {}
        },
        {
          "output_type": "display_data",
          "data": {
            "text/plain": [
              "0       0\n",
              "1       1\n",
              "2       1\n",
              "3       1\n",
              "4       0\n",
              "       ..\n",
              "1810    1\n",
              "1811    1\n",
              "1812    1\n",
              "1813    1\n",
              "1814    1\n",
              "Name: sentimen, Length: 1815, dtype: int64"
            ]
          },
          "metadata": {}
        }
      ]
    },
    {
      "cell_type": "code",
      "source": [
        "display(len(tweet_vecto_matrix))\n",
        "display(tweet_vecto_matrix)"
      ],
      "metadata": {
        "colab": {
          "base_uri": "https://localhost:8080/",
          "height": 156
        },
        "id": "7Rt7m1l0IKo-",
        "outputId": "577f2542-5122-42e4-ef75-b369870fd870"
      },
      "execution_count": null,
      "outputs": [
        {
          "output_type": "display_data",
          "data": {
            "text/plain": [
              "1815"
            ]
          },
          "metadata": {}
        },
        {
          "output_type": "display_data",
          "data": {
            "text/plain": [
              "array([[   0,    0,    0, ...,   19,   53, 1555],\n",
              "       [   0,    0,    0, ..., 2253,    7, 2254],\n",
              "       [   0,    0,    0, ...,    9,  139,   34],\n",
              "       ...,\n",
              "       [   0,    0,    0, ...,    2,  404,   21],\n",
              "       [   0,    0,    0, ...,    5,    2,  613],\n",
              "       [   0,    0,    0, ...,   37, 1129, 1394]], dtype=int32)"
            ]
          },
          "metadata": {}
        }
      ]
    },
    {
      "cell_type": "markdown",
      "source": [
        "# Split Data"
      ],
      "metadata": {
        "id": "_9GTr5jOJZ3x"
      }
    },
    {
      "cell_type": "code",
      "source": [
        "X = tweet_vecto_matrix\n",
        "Y = target"
      ],
      "metadata": {
        "id": "db_CF8_sIkGI"
      },
      "execution_count": null,
      "outputs": []
    },
    {
      "cell_type": "code",
      "source": [
        "X_train, X_test, Y_train, Y_test = train_test_split(X, Y, test_size=0.3, random_state=0)"
      ],
      "metadata": {
        "id": "NYK5IH9KJHB8"
      },
      "execution_count": null,
      "outputs": []
    },
    {
      "cell_type": "code",
      "source": [
        "def precision(y_true, y_pred):\n",
        "    true_positives = K.sum(K.round(K.clip(y_true * y_pred, 0, 1)))\n",
        "    predicted_positives = K.sum(K.round(K.clip(y_pred, 0, 1)))\n",
        "    precision = true_positives / (predicted_positives + K.epsilon())\n",
        "    return precision\n",
        "\n",
        "def recall(y_true, y_pred):\n",
        "    true_positives = K.sum(K.round(K.clip(y_true * y_pred, 0, 1)))\n",
        "    possible_positives = K.sum(K.round(K.clip(y_true, 0, 1)))\n",
        "    recall = true_positives / (possible_positives + K.epsilon())\n",
        "    return recall\n",
        "\n",
        "def f1_score(y_true, y_pred):\n",
        "    p = precision(y_true, y_pred)\n",
        "    r = recall(y_true, y_pred)\n",
        "    return 2 * ((p * r) / (p + r + K.epsilon()))"
      ],
      "metadata": {
        "id": "2JFIkT-2IMDu"
      },
      "execution_count": null,
      "outputs": []
    },
    {
      "cell_type": "markdown",
      "source": [
        "# Modelling"
      ],
      "metadata": {
        "id": "6D9brvSsJdHf"
      }
    },
    {
      "cell_type": "code",
      "source": [
        "# Create a Sequential model\n",
        "model = Sequential()\n",
        "kernel_size = 3\n",
        "max_words = 30000\n",
        "max_len = 60\n",
        "\n",
        "# Add an Embedding layer\n",
        "embedding_dim = 64  # Dimension of word embeddings\n",
        "model.add(Embedding(input_dim=max_words, output_dim=embedding_dim, input_length=max_len))\n",
        "\n",
        "model.add(LSTM(units=128))\n",
        "\n",
        "#add fc1 units\n",
        "fc1_units = 256\n",
        "model.add(Dense(units=fc1_units))\n",
        "\n",
        "# activation\n",
        "model.add(Activation('relu'))\n",
        "\n",
        "# Add Droput\n",
        "model.add(Dropout(rate=0.5))\n",
        "\n",
        "# Add a Dense (fully connected) layer for output\n",
        "num_classes = 1  # Number of sentiment classes (positive and negative)\n",
        "model.add(Dense(units=num_classes,))\n",
        "\n",
        "# Activation\n",
        "model.add(Activation('sigmoid'))\n",
        "\n",
        "# Compile the model\n",
        "model.compile(loss='binary_crossentropy', optimizer='adam', metrics=['accuracy', precision, recall, f1_score])\n",
        "# model.compile(loss='sparse_categorical_crossentropy', optimizer='adam', metrics=['accuracy', precision, recall, f1_score])\n",
        "model.summary()"
      ],
      "metadata": {
        "colab": {
          "base_uri": "https://localhost:8080/"
        },
        "id": "nShgIeLHJYcn",
        "outputId": "e66ca215-bab0-4d1a-e47b-e10efd83f5de"
      },
      "execution_count": null,
      "outputs": [
        {
          "output_type": "stream",
          "name": "stdout",
          "text": [
            "Model: \"sequential_23\"\n",
            "_________________________________________________________________\n",
            " Layer (type)                Output Shape              Param #   \n",
            "=================================================================\n",
            " embedding_23 (Embedding)    (None, 150, 64)           1920000   \n",
            "                                                                 \n",
            " lstm_15 (LSTM)              (None, 128)               98816     \n",
            "                                                                 \n",
            " dense_44 (Dense)            (None, 256)               33024     \n",
            "                                                                 \n",
            " activation_44 (Activation)  (None, 256)               0         \n",
            "                                                                 \n",
            " dropout_32 (Dropout)        (None, 256)               0         \n",
            "                                                                 \n",
            " dense_45 (Dense)            (None, 1)                 257       \n",
            "                                                                 \n",
            " activation_45 (Activation)  (None, 1)                 0         \n",
            "                                                                 \n",
            "=================================================================\n",
            "Total params: 2052097 (7.83 MB)\n",
            "Trainable params: 2052097 (7.83 MB)\n",
            "Non-trainable params: 0 (0.00 Byte)\n",
            "_________________________________________________________________\n"
          ]
        }
      ]
    },
    {
      "cell_type": "code",
      "source": [
        "# Train the model\n",
        "model.fit(\n",
        "    X_train,\n",
        "    Y_train,\n",
        "    batch_size=256, epochs=20,\n",
        "    validation_split=0.2,\n",
        "    callbacks=[EarlyStopping(monitor='val_loss', min_delta=0.0001)])"
      ],
      "metadata": {
        "colab": {
          "base_uri": "https://localhost:8080/"
        },
        "id": "C-S-yyoSJiPG",
        "outputId": "9568ebd3-31c4-4523-a53a-6b12cd29cc67"
      },
      "execution_count": null,
      "outputs": [
        {
          "output_type": "stream",
          "name": "stdout",
          "text": [
            "Epoch 1/20\n",
            "4/4 [==============================] - 9s 2s/step - loss: 0.6885 - accuracy: 0.6171 - precision: 0.6712 - recall: 0.8526 - f1_score: 0.7267 - val_loss: 0.6742 - val_accuracy: 0.6929 - val_precision: 0.6929 - val_recall: 1.0000 - val_f1_score: 0.8186\n",
            "Epoch 2/20\n",
            "4/4 [==============================] - 4s 1s/step - loss: 0.6624 - accuracy: 0.6663 - precision: 0.6662 - recall: 1.0000 - f1_score: 0.7996 - val_loss: 0.6122 - val_accuracy: 0.6929 - val_precision: 0.6929 - val_recall: 1.0000 - val_f1_score: 0.8186\n",
            "Epoch 3/20\n",
            "4/4 [==============================] - 3s 888ms/step - loss: 0.6331 - accuracy: 0.6663 - precision: 0.6662 - recall: 1.0000 - f1_score: 0.7989 - val_loss: 0.6095 - val_accuracy: 0.6929 - val_precision: 0.6929 - val_recall: 1.0000 - val_f1_score: 0.8186\n",
            "Epoch 4/20\n",
            "4/4 [==============================] - 3s 874ms/step - loss: 0.6179 - accuracy: 0.6663 - precision: 0.6666 - recall: 1.0000 - f1_score: 0.7997 - val_loss: 0.6163 - val_accuracy: 0.6929 - val_precision: 0.6929 - val_recall: 1.0000 - val_f1_score: 0.8186\n"
          ]
        },
        {
          "output_type": "execute_result",
          "data": {
            "text/plain": [
              "<keras.src.callbacks.History at 0x7dc42ba1df30>"
            ]
          },
          "metadata": {},
          "execution_count": 260
        }
      ]
    },
    {
      "cell_type": "markdown",
      "source": [
        "# Model Evaluate"
      ],
      "metadata": {
        "id": "AwZEIgj8JuqP"
      }
    },
    {
      "cell_type": "code",
      "source": [
        "display(len(X_test))\n",
        "display(len(Y_test))"
      ],
      "metadata": {
        "colab": {
          "base_uri": "https://localhost:8080/",
          "height": 52
        },
        "id": "WNz1yIrxJwVg",
        "outputId": "77d918e6-c756-486c-f712-3a72c3840c48"
      },
      "execution_count": null,
      "outputs": [
        {
          "output_type": "display_data",
          "data": {
            "text/plain": [
              "545"
            ]
          },
          "metadata": {}
        },
        {
          "output_type": "display_data",
          "data": {
            "text/plain": [
              "545"
            ]
          },
          "metadata": {}
        }
      ]
    },
    {
      "cell_type": "code",
      "source": [
        "loss, accr, presc, recl, f1 = model.evaluate(X_test, Y_test)"
      ],
      "metadata": {
        "colab": {
          "base_uri": "https://localhost:8080/"
        },
        "id": "N2FZg_nVJzmm",
        "outputId": "9d452198-294a-4297-d1a9-36e9676a8ee6"
      },
      "execution_count": null,
      "outputs": [
        {
          "output_type": "stream",
          "name": "stdout",
          "text": [
            "18/18 [==============================] - 1s 73ms/step - loss: 0.6206 - accuracy: 0.6716 - precision: 0.6354 - recall: 0.9444 - f1_score: 0.7580\n"
          ]
        }
      ]
    },
    {
      "cell_type": "code",
      "source": [
        "print(f'Test loss: {loss:.4f},\\nTest accuracy: {accr:.4f},\\nTest Precission: {presc:.4f},\\nTest Recall: {recl:.4f},\\nTest F1Score: {f1:.4f},')"
      ],
      "metadata": {
        "colab": {
          "base_uri": "https://localhost:8080/"
        },
        "id": "6hxklRnmJ4JX",
        "outputId": "f60b0859-2c15-4c99-b8bd-32aa29a3df58"
      },
      "execution_count": null,
      "outputs": [
        {
          "output_type": "stream",
          "name": "stdout",
          "text": [
            "Test loss: 0.5508,\n",
            "Test accuracy: 0.7174,\n",
            "Test Precission: 0.7455,\n",
            "Test Recall: 0.7469,\n",
            "Test F1Score: 0.7444,\n"
          ]
        }
      ]
    },
    {
      "cell_type": "markdown",
      "source": [
        "### Predict"
      ],
      "metadata": {
        "id": "AYK5Uw6kJ8uT"
      }
    },
    {
      "cell_type": "code",
      "source": [
        "y_preds = model.predict(X_test)"
      ],
      "metadata": {
        "colab": {
          "base_uri": "https://localhost:8080/"
        },
        "id": "toDFCJgvJ8bv",
        "outputId": "ff0ab656-4972-4d39-f7ea-103cafdf7644"
      },
      "execution_count": null,
      "outputs": [
        {
          "output_type": "stream",
          "name": "stdout",
          "text": [
            "18/18 [==============================] - 1s 16ms/step\n"
          ]
        }
      ]
    },
    {
      "cell_type": "code",
      "source": [
        "cm = confusion_matrix(Y_test, tf.round(y_preds))\n",
        "display(cm)\n",
        "plt.figure(figsize=(8, 6))\n",
        "sns.heatmap(cm, annot=True, fmt=\"d\", cmap=\"Blues\", annot_kws={\"size\": 16})\n",
        "plt.xlabel(\"Predicted Labels\")\n",
        "plt.ylabel(\"True Labels\")\n",
        "plt.title(\"Confusion Matrix\")\n",
        "plt.show()"
      ],
      "metadata": {
        "colab": {
          "base_uri": "https://localhost:8080/",
          "height": 599
        },
        "id": "DJMDyrm3KCrI",
        "outputId": "5de886c6-6231-45ee-9c9c-766e896a827c"
      },
      "execution_count": null,
      "outputs": [
        {
          "output_type": "display_data",
          "data": {
            "text/plain": [
              "array([[101,  78],\n",
              "       [ 76, 290]])"
            ]
          },
          "metadata": {}
        },
        {
          "output_type": "display_data",
          "data": {
            "text/plain": [
              "<Figure size 800x600 with 2 Axes>"
            ],
            "image/png": "[encoded data removed]"
          },
          "metadata": {}
        }
      ]
    },
    {
      "cell_type": "code",
      "source": [
        "print(classification_report(Y_test, tf.round(y_preds)))"
      ],
      "metadata": {
        "colab": {
          "base_uri": "https://localhost:8080/"
        },
        "id": "4C6qGs87WwMJ",
        "outputId": "fe7cba5f-afa8-428d-aad3-eb36291642f2"
      },
      "execution_count": null,
      "outputs": [
        {
          "output_type": "stream",
          "name": "stdout",
          "text": [
            "              precision    recall  f1-score   support\n",
            "\n",
            "           0       0.57      0.56      0.57       179\n",
            "           1       0.79      0.79      0.79       366\n",
            "\n",
            "    accuracy                           0.72       545\n",
            "   macro avg       0.68      0.68      0.68       545\n",
            "weighted avg       0.72      0.72      0.72       545\n",
            "\n"
          ]
        }
      ]
    },
    {
      "cell_type": "markdown",
      "source": [
        "# RandomForest"
      ],
      "metadata": {
        "id": "r1SgHh3VfV9k"
      }
    },
    {
      "cell_type": "code",
      "source": [
        "data_tweet = pd.read_csv('/content/drive/MyDrive/sample_dataset/tweet.csv')"
      ],
      "metadata": {
        "id": "34gQpop9fm8f"
      },
      "execution_count": null,
      "outputs": []
    },
    {
      "cell_type": "code",
      "source": [
        "mapping = {\n",
        "    \"negatif\": 0,\n",
        "    \"netral\": 1,\n",
        "    \"positif\": 2\n",
        "}\n",
        "\n",
        "data_tweet['sentimen'] = [mapping[label] for label in data_tweet['sentimen']]\n",
        "target = data_tweet['sentimen']"
      ],
      "metadata": {
        "id": "6DDCs_gxfgLY"
      },
      "execution_count": null,
      "outputs": []
    },
    {
      "cell_type": "code",
      "source": [
        "X = tweet_vecto_matrix\n",
        "Y = target"
      ],
      "metadata": {
        "id": "gH1FlCT5fwVL"
      },
      "execution_count": null,
      "outputs": []
    },
    {
      "cell_type": "code",
      "source": [
        "X_train, X_test, Y_train, Y_test = train_test_split(X, Y, test_size=0.3, random_state=0)"
      ],
      "metadata": {
        "id": "9LAzUuN-f1Xo"
      },
      "execution_count": null,
      "outputs": []
    },
    {
      "cell_type": "code",
      "source": [
        "model_rf = RandomForestClassifier()"
      ],
      "metadata": {
        "id": "PoW4yfE9Xn8k"
      },
      "execution_count": null,
      "outputs": []
    },
    {
      "cell_type": "code",
      "source": [
        "model_rf.fit(X_train, Y_train)"
      ],
      "metadata": {
        "colab": {
          "base_uri": "https://localhost:8080/",
          "height": 75
        },
        "id": "lAX7Eg22f8i9",
        "outputId": "55d26189-748e-4197-caa1-f89fa16c8703"
      },
      "execution_count": null,
      "outputs": [
        {
          "output_type": "execute_result",
          "data": {
            "text/plain": [
              "RandomForestClassifier()"
            ],
            "text/html": [
              "<style>#sk-container-id-11 {color: black;background-color: white;}#sk-container-id-11 pre{padding: 0;}#sk-container-id-11 div.sk-toggleable {background-color: white;}#sk-container-id-11 label.sk-toggleable__label {cursor: pointer;display: block;width: 100%;margin-bottom: 0;padding: 0.3em;box-sizing: border-box;text-align: center;}#sk-container-id-11 label.sk-toggleable__label-arrow:before {content: \"▸\";float: left;margin-right: 0.25em;color: #696969;}#sk-container-id-11 label.sk-toggleable__label-arrow:hover:before {color: black;}#sk-container-id-11 div.sk-estimator:hover label.sk-toggleable__label-arrow:before {color: black;}#sk-container-id-11 div.sk-toggleable__content {max-height: 0;max-width: 0;overflow: hidden;text-align: left;background-color: #f0f8ff;}#sk-container-id-11 div.sk-toggleable__content pre {margin: 0.2em;color: black;border-radius: 0.25em;background-color: #f0f8ff;}#sk-container-id-11 input.sk-toggleable__control:checked~div.sk-toggleable__content {max-height: 200px;max-width: 100%;overflow: auto;}#sk-container-id-11 input.sk-toggleable__control:checked~label.sk-toggleable__label-arrow:before {content: \"▾\";}#sk-container-id-11 div.sk-estimator input.sk-toggleable__control:checked~label.sk-toggleable__label {background-color: #d4ebff;}#sk-container-id-11 div.sk-label input.sk-toggleable__control:checked~label.sk-toggleable__label {background-color: #d4ebff;}#sk-container-id-11 input.sk-hidden--visually {border: 0;clip: rect(1px 1px 1px 1px);clip: rect(1px, 1px, 1px, 1px);height: 1px;margin: -1px;overflow: hidden;padding: 0;position: absolute;width: 1px;}#sk-container-id-11 div.sk-estimator {font-family: monospace;background-color: #f0f8ff;border: 1px dotted black;border-radius: 0.25em;box-sizing: border-box;margin-bottom: 0.5em;}#sk-container-id-11 div.sk-estimator:hover {background-color: #d4ebff;}#sk-container-id-11 div.sk-parallel-item::after {content: \"\";width: 100%;border-bottom: 1px solid gray;flex-grow: 1;}#sk-container-id-11 div.sk-label:hover label.sk-toggleable__label {background-color: #d4ebff;}#sk-container-id-11 div.sk-serial::before {content: \"\";position: absolute;border-left: 1px solid gray;box-sizing: border-box;top: 0;bottom: 0;left: 50%;z-index: 0;}#sk-container-id-11 div.sk-serial {display: flex;flex-direction: column;align-items: center;background-color: white;padding-right: 0.2em;padding-left: 0.2em;position: relative;}#sk-container-id-11 div.sk-item {position: relative;z-index: 1;}#sk-container-id-11 div.sk-parallel {display: flex;align-items: stretch;justify-content: center;background-color: white;position: relative;}#sk-container-id-11 div.sk-item::before, #sk-container-id-11 div.sk-parallel-item::before {content: \"\";position: absolute;border-left: 1px solid gray;box-sizing: border-box;top: 0;bottom: 0;left: 50%;z-index: -1;}#sk-container-id-11 div.sk-parallel-item {display: flex;flex-direction: column;z-index: 1;position: relative;background-color: white;}#sk-container-id-11 div.sk-parallel-item:first-child::after {align-self: flex-end;width: 50%;}#sk-container-id-11 div.sk-parallel-item:last-child::after {align-self: flex-start;width: 50%;}#sk-container-id-11 div.sk-parallel-item:only-child::after {width: 0;}#sk-container-id-11 div.sk-dashed-wrapped {border: 1px dashed gray;margin: 0 0.4em 0.5em 0.4em;box-sizing: border-box;padding-bottom: 0.4em;background-color: white;}#sk-container-id-11 div.sk-label label {font-family: monospace;font-weight: bold;display: inline-block;line-height: 1.2em;}#sk-container-id-11 div.sk-label-container {text-align: center;}#sk-container-id-11 div.sk-container {/* jupyter's `normalize.less` sets `[hidden] { display: none; }` but bootstrap.min.css set `[hidden] { display: none !important; }` so we also need the `!important` here to be able to override the default hidden behavior on the sphinx rendered scikit-learn.org. See: https://github.com/scikit-learn/scikit-learn/issues/21755 */display: inline-block !important;position: relative;}#sk-container-id-11 div.sk-text-repr-fallback {display: none;}</style><div id=\"sk-container-id-11\" class=\"sk-top-container\"><div class=\"sk-text-repr-fallback\"><pre>RandomForestClassifier()</pre><b>In a Jupyter environment, please rerun this cell to show the HTML representation or trust the notebook. <br />On GitHub, the HTML representation is unable to render, please try loading this page with nbviewer.org.</b></div><div class=\"sk-container\" hidden><div class=\"sk-item\"><div class=\"sk-estimator sk-toggleable\"><input class=\"sk-toggleable__control sk-hidden--visually\" id=\"sk-estimator-id-11\" type=\"checkbox\" checked><label for=\"sk-estimator-id-11\" class=\"sk-toggleable__label sk-toggleable__label-arrow\">RandomForestClassifier</label><div class=\"sk-toggleable__content\"><pre>RandomForestClassifier()</pre></div></div></div></div></div>"
            ]
          },
          "metadata": {},
          "execution_count": 369
        }
      ]
    },
    {
      "cell_type": "code",
      "source": [
        "model_rf_score = model_rf.score(X_test, Y_test)\n",
        "print(model_rf_score)"
      ],
      "metadata": {
        "colab": {
          "base_uri": "https://localhost:8080/"
        },
        "id": "2I_edy30gEgs",
        "outputId": "03d99298-959c-4a1a-8ba4-f2040555b0ef"
      },
      "execution_count": null,
      "outputs": [
        {
          "output_type": "stream",
          "name": "stdout",
          "text": [
            "0.47889908256880737\n"
          ]
        }
      ]
    },
    {
      "cell_type": "code",
      "source": [
        "y_pred = model_rf.predict(X_test)\n",
        "print(classification_report(Y_test, y_pred))"
      ],
      "metadata": {
        "colab": {
          "base_uri": "https://localhost:8080/"
        },
        "id": "2jyfrB9igZYB",
        "outputId": "1894068a-5823-4d73-d053-e34210431336"
      },
      "execution_count": null,
      "outputs": [
        {
          "output_type": "stream",
          "name": "stdout",
          "text": [
            "              precision    recall  f1-score   support\n",
            "\n",
            "           0       0.45      0.43      0.44       179\n",
            "           1       0.55      0.62      0.58       177\n",
            "           2       0.43      0.40      0.41       189\n",
            "\n",
            "    accuracy                           0.48       545\n",
            "   macro avg       0.48      0.48      0.48       545\n",
            "weighted avg       0.47      0.48      0.48       545\n",
            "\n"
          ]
        }
      ]
    },
    {
      "cell_type": "markdown",
      "source": [
        "# RNN 2"
      ],
      "metadata": {
        "id": "DXwn_5_iizXn"
      }
    },
    {
      "cell_type": "code",
      "source": [
        "# Create a Sequential model\n",
        "model = Sequential()\n",
        "max_words = 40000\n",
        "max_len = 60\n",
        "\n",
        "# Add an Embedding layer\n",
        "embedding_dim = 128\n",
        "model.add(Embedding(input_dim=max_words, output_dim=embedding_dim, input_length=max_len))\n",
        "model.add(LSTM(units=128, return_sequences=True))\n",
        "model.add(LSTM(units=64))  # Another LSTM layer\n",
        "fc1_units = 128\n",
        "model.add(Dense(units=fc1_units))\n",
        "model.add(Activation('relu'))\n",
        "model.add(Dropout(rate=0.5))\n",
        "num_classes = 3\n",
        "model.add(Dense(units=num_classes,))\n",
        "model.add(Activation('softmax'))\n",
        "\n",
        "# Compile the model\n",
        "# model.compile(loss='binary_crossentropy', optimizer='adam', metrics=['accuracy', precision, recall, f1_score])\n",
        "model.compile(loss='sparse_categorical_crossentropy', optimizer='adam', metrics=['accuracy', precision, recall, f1_score])\n",
        "model.summary()"
      ],
      "metadata": {
        "colab": {
          "base_uri": "https://localhost:8080/"
        },
        "id": "mmRa4LTrgnxc",
        "outputId": "5a23adff-8475-4c52-c8a7-706f41db6cc5"
      },
      "execution_count": null,
      "outputs": [
        {
          "output_type": "stream",
          "name": "stdout",
          "text": [
            "Model: \"sequential_45\"\n",
            "_________________________________________________________________\n",
            " Layer (type)                Output Shape              Param #   \n",
            "=================================================================\n",
            " embedding_45 (Embedding)    (None, 60, 128)           5120000   \n",
            "                                                                 \n",
            " lstm_39 (LSTM)              (None, 60, 128)           131584    \n",
            "                                                                 \n",
            " lstm_40 (LSTM)              (None, 64)                49408     \n",
            "                                                                 \n",
            " dense_88 (Dense)            (None, 128)               8320      \n",
            "                                                                 \n",
            " activation_88 (Activation)  (None, 128)               0         \n",
            "                                                                 \n",
            " dropout_54 (Dropout)        (None, 128)               0         \n",
            "                                                                 \n",
            " dense_89 (Dense)            (None, 3)                 387       \n",
            "                                                                 \n",
            " activation_89 (Activation)  (None, 3)                 0         \n",
            "                                                                 \n",
            "=================================================================\n",
            "Total params: 5309699 (20.25 MB)\n",
            "Trainable params: 5309699 (20.25 MB)\n",
            "Non-trainable params: 0 (0.00 Byte)\n",
            "_________________________________________________________________\n"
          ]
        }
      ]
    },
    {
      "cell_type": "code",
      "source": [
        "# Train the model\n",
        "model.fit(\n",
        "    X_train,\n",
        "    Y_train,\n",
        "    batch_size=128, epochs=15,\n",
        "    validation_split=0.2,\n",
        "    callbacks=[EarlyStopping(monitor='val_loss', min_delta=0.0001)]\n",
        "    )"
      ],
      "metadata": {
        "colab": {
          "base_uri": "https://localhost:8080/"
        },
        "id": "CzGAcHZmi6qj",
        "outputId": "9b363c45-46bf-40d9-da05-3c7e4afde509"
      },
      "execution_count": null,
      "outputs": [
        {
          "output_type": "stream",
          "name": "stdout",
          "text": [
            "Epoch 1/15\n",
            "8/8 [==============================] - 4s 463ms/step - loss: 0.5801 - accuracy: 0.7746 - precision: 1.0564 - recall: 1.3718 - f1_score: 1.1915 - val_loss: 1.2707 - val_accuracy: 0.4803 - val_precision: 0.9029 - val_recall: 1.2362 - val_f1_score: 1.0436\n",
            "Epoch 2/15\n",
            "8/8 [==============================] - 5s 588ms/step - loss: 0.3695 - accuracy: 0.8642 - precision: 0.7780 - recall: 1.1499 - f1_score: 0.9274 - val_loss: 1.4105 - val_accuracy: 0.4961 - val_precision: 0.8135 - val_recall: 1.1644 - val_f1_score: 0.9575\n"
          ]
        },
        {
          "output_type": "execute_result",
          "data": {
            "text/plain": [
              "<keras.src.callbacks.History at 0x7dc3f432e2c0>"
            ]
          },
          "metadata": {},
          "execution_count": 416
        }
      ]
    },
    {
      "cell_type": "code",
      "source": [
        "loss, accr, presc, recl, f1 = model.evaluate(X_test, Y_test)"
      ],
      "metadata": {
        "colab": {
          "base_uri": "https://localhost:8080/"
        },
        "id": "klrn0-CXi_ZH",
        "outputId": "4fd73e1f-0a24-4cd0-ca1c-f3500ee50924"
      },
      "execution_count": null,
      "outputs": [
        {
          "output_type": "stream",
          "name": "stdout",
          "text": [
            "18/18 [==============================] - 2s 95ms/step - loss: 1.4260 - accuracy: 0.4862 - precision: 0.7101 - recall: 1.0230 - f1_score: 0.8357\n"
          ]
        }
      ]
    },
    {
      "cell_type": "code",
      "source": [
        "print(f'Test loss: {loss:.4f},\\nTest accuracy: {accr:.4f},\\nTest Precission: {presc:.4f},\\nTest Recall: {recl:.4f},\\nTest F1Score: {f1:.4f},')"
      ],
      "metadata": {
        "colab": {
          "base_uri": "https://localhost:8080/"
        },
        "id": "kesVN9ojjEM3",
        "outputId": "b4d3b025-46c6-483c-fa2d-64847f36b39b"
      },
      "execution_count": null,
      "outputs": [
        {
          "output_type": "stream",
          "name": "stdout",
          "text": [
            "Test loss: 1.0246,\n",
            "Test accuracy: 0.5872,\n",
            "Test Precission: 0.9300,\n",
            "Test Recall: 1.1615,\n",
            "Test F1Score: 1.0272,\n"
          ]
        }
      ]
    },
    {
      "cell_type": "code",
      "source": [
        "y_pred = model_rf.predict(X_test)\n",
        "print(classification_report(Y_test, y_pred))"
      ],
      "metadata": {
        "colab": {
          "base_uri": "https://localhost:8080/"
        },
        "id": "1HP0lv6JjPBO",
        "outputId": "00eab1e1-b9a3-47cd-efe8-36359862ddcf"
      },
      "execution_count": null,
      "outputs": [
        {
          "output_type": "stream",
          "name": "stdout",
          "text": [
            "              precision    recall  f1-score   support\n",
            "\n",
            "           0       0.42      0.44      0.43       179\n",
            "           1       0.56      0.60      0.58       177\n",
            "           2       0.42      0.37      0.39       189\n",
            "\n",
            "    accuracy                           0.47       545\n",
            "   macro avg       0.47      0.47      0.47       545\n",
            "weighted avg       0.47      0.47      0.47       545\n",
            "\n"
          ]
        }
      ]
    },
    {
      "cell_type": "code",
      "source": [
        "data_tweet.info()"
      ],
      "metadata": {
        "colab": {
          "base_uri": "https://localhost:8080/"
        },
        "id": "ksCLOIbn4afu",
        "outputId": "0b3b59e9-6c21-47d6-8e8f-6fa2f61c1bf9"
      },
      "execution_count": null,
      "outputs": [
        {
          "output_type": "stream",
          "name": "stdout",
          "text": [
            "<class 'pandas.core.frame.DataFrame'>\n",
            "RangeIndex: 1815 entries, 0 to 1814\n",
            "Data columns (total 3 columns):\n",
            " #   Column      Non-Null Count  Dtype \n",
            "---  ------      --------------  ----- \n",
            " 0   Unnamed: 0  1815 non-null   int64 \n",
            " 1   sentimen    1815 non-null   int64 \n",
            " 2   tweet       1815 non-null   object\n",
            "dtypes: int64(2), object(1)\n",
            "memory usage: 42.7+ KB\n"
          ]
        }
      ]
    },
    {
      "cell_type": "code",
      "source": [
        "data_tweet.head()"
      ],
      "metadata": {
        "colab": {
          "base_uri": "https://localhost:8080/",
          "height": 206
        },
        "id": "gdFNZ3A1F54c",
        "outputId": "5d89c1b4-5b05-4485-e878-bc159c776cdc"
      },
      "execution_count": null,
      "outputs": [
        {
          "output_type": "execute_result",
          "data": {
            "text/plain": [
              "   Unnamed: 0  sentimen                                              tweet\n",
              "0           0         0  Kata @prabowo Indonesia tidak dihargai bangsa ...\n",
              "1           1         1  Batuan Langka, Tasbih Jokowi Hadiah dari Habib...\n",
              "2           2         1  Di era Jokowi, ekonomi Indonesia semakin baik....\n",
              "3           3         2  Bagi Sumatera Selatan, Asian Games berdampak p...\n",
              "4           4         0  Negara kita ngutang buat bngun infrastruktur y..."
            ],
            "text/html": [
              "\n",
              "  <div id=\"df-b0d7fabb-16fa-49db-8250-ec663b38d70c\" class=\"colab-df-container\">\n",
              "    <div>\n",
              "<style scoped>\n",
              "    .dataframe tbody tr th:only-of-type {\n",
              "        vertical-align: middle;\n",
              "    }\n",
              "\n",
              "    .dataframe tbody tr th {\n",
              "        vertical-align: top;\n",
              "    }\n",
              "\n",
              "    .dataframe thead th {\n",
              "        text-align: right;\n",
              "    }\n",
              "</style>\n",
              "<table border=\"1\" class=\"dataframe\">\n",
              "  <thead>\n",
              "    <tr style=\"text-align: right;\">\n",
              "      <th></th>\n",
              "      <th>Unnamed: 0</th>\n",
              "      <th>sentimen</th>\n",
              "      <th>tweet</th>\n",
              "    </tr>\n",
              "  </thead>\n",
              "  <tbody>\n",
              "    <tr>\n",
              "      <th>0</th>\n",
              "      <td>0</td>\n",
              "      <td>0</td>\n",
              "      <td>Kata @prabowo Indonesia tidak dihargai bangsa ...</td>\n",
              "    </tr>\n",
              "    <tr>\n",
              "      <th>1</th>\n",
              "      <td>1</td>\n",
              "      <td>1</td>\n",
              "      <td>Batuan Langka, Tasbih Jokowi Hadiah dari Habib...</td>\n",
              "    </tr>\n",
              "    <tr>\n",
              "      <th>2</th>\n",
              "      <td>2</td>\n",
              "      <td>1</td>\n",
              "      <td>Di era Jokowi, ekonomi Indonesia semakin baik....</td>\n",
              "    </tr>\n",
              "    <tr>\n",
              "      <th>3</th>\n",
              "      <td>3</td>\n",
              "      <td>2</td>\n",
              "      <td>Bagi Sumatera Selatan, Asian Games berdampak p...</td>\n",
              "    </tr>\n",
              "    <tr>\n",
              "      <th>4</th>\n",
              "      <td>4</td>\n",
              "      <td>0</td>\n",
              "      <td>Negara kita ngutang buat bngun infrastruktur y...</td>\n",
              "    </tr>\n",
              "  </tbody>\n",
              "</table>\n",
              "</div>\n",
              "    <div class=\"colab-df-buttons\">\n",
              "\n",
              "  <div class=\"colab-df-container\">\n",
              "    <button class=\"colab-df-convert\" onclick=\"convertToInteractive('df-b0d7fabb-16fa-49db-8250-ec663b38d70c')\"\n",
              "            title=\"Convert this dataframe to an interactive table.\"\n",
              "            style=\"display:none;\">\n",
              "\n",
              "  <svg xmlns=\"http://www.w3.org/2000/svg\" height=\"24px\" viewBox=\"0 -960 960 960\">\n",
              "    <path d=\"M120-120v-720h720v720H120Zm60-500h600v-160H180v160Zm220 220h160v-160H400v160Zm0 220h160v-160H400v160ZM180-400h160v-160H180v160Zm440 0h160v-160H620v160ZM180-180h160v-160H180v160Zm440 0h160v-160H620v160Z\"/>\n",
              "  </svg>\n",
              "    </button>\n",
              "\n",
              "  <style>\n",
              "    .colab-df-container {\n",
              "      display:flex;\n",
              "      gap: 12px;\n",
              "    }\n",
              "\n",
              "    .colab-df-convert {\n",
              "      background-color: #E8F0FE;\n",
              "      border: none;\n",
              "      border-radius: 50%;\n",
              "      cursor: pointer;\n",
              "      display: none;\n",
              "      fill: #1967D2;\n",
              "      height: 32px;\n",
              "      padding: 0 0 0 0;\n",
              "      width: 32px;\n",
              "    }\n",
              "\n",
              "    .colab-df-convert:hover {\n",
              "      background-color: #E2EBFA;\n",
              "      box-shadow: 0px 1px 2px rgba(60, 64, 67, 0.3), 0px 1px 3px 1px rgba(60, 64, 67, 0.15);\n",
              "      fill: #174EA6;\n",
              "    }\n",
              "\n",
              "    .colab-df-buttons div {\n",
              "      margin-bottom: 4px;\n",
              "    }\n",
              "\n",
              "    [theme=dark] .colab-df-convert {\n",
              "      background-color: #3B4455;\n",
              "      fill: #D2E3FC;\n",
              "    }\n",
              "\n",
              "    [theme=dark] .colab-df-convert:hover {\n",
              "      background-color: #434B5C;\n",
              "      box-shadow: 0px 1px 3px 1px rgba(0, 0, 0, 0.15);\n",
              "      filter: drop-shadow(0px 1px 2px rgba(0, 0, 0, 0.3));\n",
              "      fill: #FFFFFF;\n",
              "    }\n",
              "  </style>\n",
              "\n",
              "    <script>\n",
              "      const buttonEl =\n",
              "        document.querySelector('#df-b0d7fabb-16fa-49db-8250-ec663b38d70c button.colab-df-convert');\n",
              "      buttonEl.style.display =\n",
              "        google.colab.kernel.accessAllowed ? 'block' : 'none';\n",
              "\n",
              "      async function convertToInteractive(key) {\n",
              "        const element = document.querySelector('#df-b0d7fabb-16fa-49db-8250-ec663b38d70c');\n",
              "        const dataTable =\n",
              "          await google.colab.kernel.invokeFunction('convertToInteractive',\n",
              "                                                    [key], {});\n",
              "        if (!dataTable) return;\n",
              "\n",
              "        const docLinkHtml = 'Like what you see? Visit the ' +\n",
              "          '<a target=\"_blank\" href=https://colab.research.google.com/notebooks/data_table.ipynb>data table notebook</a>'\n",
              "          + ' to learn more about interactive tables.';\n",
              "        element.innerHTML = '';\n",
              "        dataTable['output_type'] = 'display_data';\n",
              "        await google.colab.output.renderOutput(dataTable, element);\n",
              "        const docLink = document.createElement('div');\n",
              "        docLink.innerHTML = docLinkHtml;\n",
              "        element.appendChild(docLink);\n",
              "      }\n",
              "    </script>\n",
              "  </div>\n",
              "\n",
              "\n",
              "<div id=\"df-a5a8fcd8-3dc5-42d4-9dcd-1091a46d0f5a\">\n",
              "  <button class=\"colab-df-quickchart\" onclick=\"quickchart('df-a5a8fcd8-3dc5-42d4-9dcd-1091a46d0f5a')\"\n",
              "            title=\"Suggest charts.\"\n",
              "            style=\"display:none;\">\n",
              "\n",
              "<svg xmlns=\"http://www.w3.org/2000/svg\" height=\"24px\"viewBox=\"0 0 24 24\"\n",
              "     width=\"24px\">\n",
              "    <g>\n",
              "        <path d=\"M19 3H5c-1.1 0-2 .9-2 2v14c0 1.1.9 2 2 2h14c1.1 0 2-.9 2-2V5c0-1.1-.9-2-2-2zM9 17H7v-7h2v7zm4 0h-2V7h2v10zm4 0h-2v-4h2v4z\"/>\n",
              "    </g>\n",
              "</svg>\n",
              "  </button>\n",
              "\n",
              "<style>\n",
              "  .colab-df-quickchart {\n",
              "      --bg-color: #E8F0FE;\n",
              "      --fill-color: #1967D2;\n",
              "      --hover-bg-color: #E2EBFA;\n",
              "      --hover-fill-color: #174EA6;\n",
              "      --disabled-fill-color: #AAA;\n",
              "      --disabled-bg-color: #DDD;\n",
              "  }\n",
              "\n",
              "  [theme=dark] .colab-df-quickchart {\n",
              "      --bg-color: #3B4455;\n",
              "      --fill-color: #D2E3FC;\n",
              "      --hover-bg-color: #434B5C;\n",
              "      --hover-fill-color: #FFFFFF;\n",
              "      --disabled-bg-color: #3B4455;\n",
              "      --disabled-fill-color: #666;\n",
              "  }\n",
              "\n",
              "  .colab-df-quickchart {\n",
              "    background-color: var(--bg-color);\n",
              "    border: none;\n",
              "    border-radius: 50%;\n",
              "    cursor: pointer;\n",
              "    display: none;\n",
              "    fill: var(--fill-color);\n",
              "    height: 32px;\n",
              "    padding: 0;\n",
              "    width: 32px;\n",
              "  }\n",
              "\n",
              "  .colab-df-quickchart:hover {\n",
              "    background-color: var(--hover-bg-color);\n",
              "    box-shadow: 0 1px 2px rgba(60, 64, 67, 0.3), 0 1px 3px 1px rgba(60, 64, 67, 0.15);\n",
              "    fill: var(--button-hover-fill-color);\n",
              "  }\n",
              "\n",
              "  .colab-df-quickchart-complete:disabled,\n",
              "  .colab-df-quickchart-complete:disabled:hover {\n",
              "    background-color: var(--disabled-bg-color);\n",
              "    fill: var(--disabled-fill-color);\n",
              "    box-shadow: none;\n",
              "  }\n",
              "\n",
              "  .colab-df-spinner {\n",
              "    border: 2px solid var(--fill-color);\n",
              "    border-color: transparent;\n",
              "    border-bottom-color: var(--fill-color);\n",
              "    animation:\n",
              "      spin 1s steps(1) infinite;\n",
              "  }\n",
              "\n",
              "  @keyframes spin {\n",
              "    0% {\n",
              "      border-color: transparent;\n",
              "      border-bottom-color: var(--fill-color);\n",
              "      border-left-color: var(--fill-color);\n",
              "    }\n",
              "    20% {\n",
              "      border-color: transparent;\n",
              "      border-left-color: var(--fill-color);\n",
              "      border-top-color: var(--fill-color);\n",
              "    }\n",
              "    30% {\n",
              "      border-color: transparent;\n",
              "      border-left-color: var(--fill-color);\n",
              "      border-top-color: var(--fill-color);\n",
              "      border-right-color: var(--fill-color);\n",
              "    }\n",
              "    40% {\n",
              "      border-color: transparent;\n",
              "      border-right-color: var(--fill-color);\n",
              "      border-top-color: var(--fill-color);\n",
              "    }\n",
              "    60% {\n",
              "      border-color: transparent;\n",
              "      border-right-color: var(--fill-color);\n",
              "    }\n",
              "    80% {\n",
              "      border-color: transparent;\n",
              "      border-right-color: var(--fill-color);\n",
              "      border-bottom-color: var(--fill-color);\n",
              "    }\n",
              "    90% {\n",
              "      border-color: transparent;\n",
              "      border-bottom-color: var(--fill-color);\n",
              "    }\n",
              "  }\n",
              "</style>\n",
              "\n",
              "  <script>\n",
              "    async function quickchart(key) {\n",
              "      const quickchartButtonEl =\n",
              "        document.querySelector('#' + key + ' button');\n",
              "      quickchartButtonEl.disabled = true;  // To prevent multiple clicks.\n",
              "      quickchartButtonEl.classList.add('colab-df-spinner');\n",
              "      try {\n",
              "        const charts = await google.colab.kernel.invokeFunction(\n",
              "            'suggestCharts', [key], {});\n",
              "      } catch (error) {\n",
              "        console.error('Error during call to suggestCharts:', error);\n",
              "      }\n",
              "      quickchartButtonEl.classList.remove('colab-df-spinner');\n",
              "      quickchartButtonEl.classList.add('colab-df-quickchart-complete');\n",
              "    }\n",
              "    (() => {\n",
              "      let quickchartButtonEl =\n",
              "        document.querySelector('#df-a5a8fcd8-3dc5-42d4-9dcd-1091a46d0f5a button');\n",
              "      quickchartButtonEl.style.display =\n",
              "        google.colab.kernel.accessAllowed ? 'block' : 'none';\n",
              "    })();\n",
              "  </script>\n",
              "</div>\n",
              "    </div>\n",
              "  </div>\n"
            ]
          },
          "metadata": {},
          "execution_count": 420
        }
      ]
    },
    {
      "cell_type": "code",
      "source": [
        "data_tweet['sentimen'].value_counts()"
      ],
      "metadata": {
        "colab": {
          "base_uri": "https://localhost:8080/"
        },
        "id": "c4Y2fAqLGCQ3",
        "outputId": "65c0b0f8-9513-469d-8f0b-1722b46c4862"
      },
      "execution_count": null,
      "outputs": [
        {
          "output_type": "execute_result",
          "data": {
            "text/plain": [
              "2    612\n",
              "1    607\n",
              "0    596\n",
              "Name: sentimen, dtype: int64"
            ]
          },
          "metadata": {},
          "execution_count": 425
        }
      ]
    },
    {
      "cell_type": "code",
      "source": [],
      "metadata": {
        "id": "R4t7k7ytGNQE"
      },
      "execution_count": null,
      "outputs": []
    }
  ]
}